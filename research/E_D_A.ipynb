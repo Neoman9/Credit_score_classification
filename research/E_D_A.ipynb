{
 "cells": [
  {
   "cell_type": "markdown",
   "metadata": {},
   "source": [
    "DATA OVERVIEW\n",
    "\n",
    "'id': A unique identifier for each data record.\n",
    "\n",
    "'customer_id': An identifier for each customer, allowing you to associate multiple records with the same individual.\n",
    "\n",
    "'month': The month of the data record, indicating when the data was collected or relevant.\n",
    "\n",
    "'name': The name of the customer, which may be used for identification purposes.\n",
    "\n",
    "'age': The age of the customer, providing information about their age demographic.\n",
    "\n",
    "'ssn': The Social Security Number (SSN) of the customer, a unique identifier used for verification.\n",
    "\n",
    "'occupation': The occupation or profession of the customer, which can help understand their employment status.\n",
    "\n",
    "'annual_income': The annual income of the customer, a crucial financial parameter.\n",
    "\n",
    "'monthly_inhand_salary': The monthly salary or income available to the customer after deductions.\n",
    "\n",
    "'num_bank_accounts': The number of bank accounts held by the customer, indicating their banking activity.\n",
    "\n",
    "'num_credit_card': The number of credit cards held by the customer, reflecting their credit usage.\n",
    "\n",
    "'interest_rate': The interest rate associated with the customer's financial products, such as loans or credit cards.\n",
    "\n",
    "'num_of_loan': The number of loans the customer has, providing insight into their debt obligations.\n",
    "\n",
    "'type_of_loan': The types of loans the customer holds, which can include mortgages, personal loans, etc.\n",
    "\n",
    "'delay_from_due_date': The delay in payment from the due date for loans or credit cards, indicating their payment behavior.\n",
    "\n",
    "'num_of_delayed_payment': The number of delayed payments made by the customer.\n",
    "\n",
    "'changed_credit_limit': Changes in the customer's credit limit, which can affect their credit utilization.\n",
    "\n",
    "'num_credit_inquiries': The number of credit inquiries made by the customer, potentially affecting their credit score.\n",
    "\n",
    "'credit_mix': The composition of the customer's credit accounts, which can impact their credit profile.\n",
    "\n",
    "'outstanding_debt': The amount of outstanding debt owed by the customer.\n",
    "\n",
    "'credit_utilization_ratio': The ratio of credit used to the total available credit, a key factor in credit scoring.\n",
    "\n",
    "'credit_history_age': The age of the customer's credit history, influencing their creditworthiness.\n",
    "\n",
    "'payment_of_min_amount': How customers handle the minimum payment amount on credit cards or loans.\n",
    "\n",
    "'total_emi_per_month': The total Equated Monthly Installment (EMI) payments made by the customer.\n",
    "\n",
    "'amount_invested_monthly': The amount the customer invests on a monthly basis, if applicable.\n",
    "\n",
    "'payment_behaviour': The behavior of the customer regarding their payments, reflecting their financial responsibility.\n",
    "\n",
    "'monthly_balance': The monthly balance in the customer's financial accounts.\n",
    "\n",
    "'credit_score': The target variable representing the customer's credit score, which we aim to predict.\n",
    "\n"
   ]
  },
  {
   "cell_type": "code",
   "execution_count": 1,
   "metadata": {},
   "outputs": [],
   "source": [
    "import pandas as pd\n",
    "import numpy as np\n",
    "import matplotlib.pyplot as plt\n",
    "import seaborn as sns\n",
    "%matplotlib inline \n",
    "from scipy import stats"
   ]
  },
  {
   "cell_type": "code",
   "execution_count": 2,
   "metadata": {},
   "outputs": [
    {
     "name": "stderr",
     "output_type": "stream",
     "text": [
      "C:\\Users\\neo\\AppData\\Local\\Temp\\ipykernel_16652\\387920034.py:1: DtypeWarning: Columns (26) have mixed types. Specify dtype option on import or set low_memory=False.\n",
      "  train_df= pd.read_csv(\"C:\\\\Users\\\\neo\\\\Downloads\\\\archive (4)\\\\train.csv\")\n"
     ]
    }
   ],
   "source": [
    "train_df= pd.read_csv(\"C:\\\\Users\\\\neo\\\\Downloads\\\\archive (4)\\\\train.csv\")\n",
    "test_df= pd.read_csv(\"C:\\\\Users\\\\neo\\\\Downloads\\\\archive (4)\\\\test.csv\")"
   ]
  },
  {
   "cell_type": "markdown",
   "metadata": {},
   "source": [
    "## Reading the data"
   ]
  },
  {
   "cell_type": "code",
   "execution_count": 3,
   "metadata": {},
   "outputs": [],
   "source": [
    "#let's merge both test and train dataset \n",
    "df= pd.concat([train_df, test_df], ignore_index=True)"
   ]
  },
  {
   "cell_type": "code",
   "execution_count": 4,
   "metadata": {},
   "outputs": [
    {
     "data": {
      "text/html": [
       "<div>\n",
       "<style scoped>\n",
       "    .dataframe tbody tr th:only-of-type {\n",
       "        vertical-align: middle;\n",
       "    }\n",
       "\n",
       "    .dataframe tbody tr th {\n",
       "        vertical-align: top;\n",
       "    }\n",
       "\n",
       "    .dataframe thead th {\n",
       "        text-align: right;\n",
       "    }\n",
       "</style>\n",
       "<table border=\"1\" class=\"dataframe\">\n",
       "  <thead>\n",
       "    <tr style=\"text-align: right;\">\n",
       "      <th></th>\n",
       "      <th>ID</th>\n",
       "      <th>Customer_ID</th>\n",
       "      <th>Month</th>\n",
       "      <th>Name</th>\n",
       "      <th>Age</th>\n",
       "      <th>SSN</th>\n",
       "      <th>Occupation</th>\n",
       "      <th>Annual_Income</th>\n",
       "      <th>Monthly_Inhand_Salary</th>\n",
       "      <th>Num_Bank_Accounts</th>\n",
       "      <th>Num_Credit_Card</th>\n",
       "      <th>Interest_Rate</th>\n",
       "      <th>Num_of_Loan</th>\n",
       "      <th>Type_of_Loan</th>\n",
       "      <th>Delay_from_due_date</th>\n",
       "      <th>Num_of_Delayed_Payment</th>\n",
       "      <th>Changed_Credit_Limit</th>\n",
       "      <th>Num_Credit_Inquiries</th>\n",
       "      <th>Credit_Mix</th>\n",
       "      <th>Outstanding_Debt</th>\n",
       "      <th>Credit_Utilization_Ratio</th>\n",
       "      <th>Credit_History_Age</th>\n",
       "      <th>Payment_of_Min_Amount</th>\n",
       "      <th>Total_EMI_per_month</th>\n",
       "      <th>Amount_invested_monthly</th>\n",
       "      <th>Payment_Behaviour</th>\n",
       "      <th>Monthly_Balance</th>\n",
       "      <th>Credit_Score</th>\n",
       "    </tr>\n",
       "  </thead>\n",
       "  <tbody>\n",
       "    <tr>\n",
       "      <th>0</th>\n",
       "      <td>0x1602</td>\n",
       "      <td>CUS_0xd40</td>\n",
       "      <td>January</td>\n",
       "      <td>Aaron Maashoh</td>\n",
       "      <td>23</td>\n",
       "      <td>821-00-0265</td>\n",
       "      <td>Scientist</td>\n",
       "      <td>19114.12</td>\n",
       "      <td>1824.843333</td>\n",
       "      <td>3</td>\n",
       "      <td>4</td>\n",
       "      <td>3</td>\n",
       "      <td>4</td>\n",
       "      <td>Auto Loan, Credit-Builder Loan, Personal Loan,...</td>\n",
       "      <td>3</td>\n",
       "      <td>7</td>\n",
       "      <td>11.27</td>\n",
       "      <td>4.0</td>\n",
       "      <td>_</td>\n",
       "      <td>809.98</td>\n",
       "      <td>26.822620</td>\n",
       "      <td>22 Years and 1 Months</td>\n",
       "      <td>No</td>\n",
       "      <td>49.574949</td>\n",
       "      <td>80.41529543900253</td>\n",
       "      <td>High_spent_Small_value_payments</td>\n",
       "      <td>312.49408867943663</td>\n",
       "      <td>Good</td>\n",
       "    </tr>\n",
       "    <tr>\n",
       "      <th>1</th>\n",
       "      <td>0x1603</td>\n",
       "      <td>CUS_0xd40</td>\n",
       "      <td>February</td>\n",
       "      <td>Aaron Maashoh</td>\n",
       "      <td>23</td>\n",
       "      <td>821-00-0265</td>\n",
       "      <td>Scientist</td>\n",
       "      <td>19114.12</td>\n",
       "      <td>NaN</td>\n",
       "      <td>3</td>\n",
       "      <td>4</td>\n",
       "      <td>3</td>\n",
       "      <td>4</td>\n",
       "      <td>Auto Loan, Credit-Builder Loan, Personal Loan,...</td>\n",
       "      <td>-1</td>\n",
       "      <td>NaN</td>\n",
       "      <td>11.27</td>\n",
       "      <td>4.0</td>\n",
       "      <td>Good</td>\n",
       "      <td>809.98</td>\n",
       "      <td>31.944960</td>\n",
       "      <td>NaN</td>\n",
       "      <td>No</td>\n",
       "      <td>49.574949</td>\n",
       "      <td>118.28022162236736</td>\n",
       "      <td>Low_spent_Large_value_payments</td>\n",
       "      <td>284.62916249607184</td>\n",
       "      <td>Good</td>\n",
       "    </tr>\n",
       "    <tr>\n",
       "      <th>2</th>\n",
       "      <td>0x1604</td>\n",
       "      <td>CUS_0xd40</td>\n",
       "      <td>March</td>\n",
       "      <td>Aaron Maashoh</td>\n",
       "      <td>-500</td>\n",
       "      <td>821-00-0265</td>\n",
       "      <td>Scientist</td>\n",
       "      <td>19114.12</td>\n",
       "      <td>NaN</td>\n",
       "      <td>3</td>\n",
       "      <td>4</td>\n",
       "      <td>3</td>\n",
       "      <td>4</td>\n",
       "      <td>Auto Loan, Credit-Builder Loan, Personal Loan,...</td>\n",
       "      <td>3</td>\n",
       "      <td>7</td>\n",
       "      <td>_</td>\n",
       "      <td>4.0</td>\n",
       "      <td>Good</td>\n",
       "      <td>809.98</td>\n",
       "      <td>28.609352</td>\n",
       "      <td>22 Years and 3 Months</td>\n",
       "      <td>No</td>\n",
       "      <td>49.574949</td>\n",
       "      <td>81.699521264648</td>\n",
       "      <td>Low_spent_Medium_value_payments</td>\n",
       "      <td>331.2098628537912</td>\n",
       "      <td>Good</td>\n",
       "    </tr>\n",
       "    <tr>\n",
       "      <th>3</th>\n",
       "      <td>0x1605</td>\n",
       "      <td>CUS_0xd40</td>\n",
       "      <td>April</td>\n",
       "      <td>Aaron Maashoh</td>\n",
       "      <td>23</td>\n",
       "      <td>821-00-0265</td>\n",
       "      <td>Scientist</td>\n",
       "      <td>19114.12</td>\n",
       "      <td>NaN</td>\n",
       "      <td>3</td>\n",
       "      <td>4</td>\n",
       "      <td>3</td>\n",
       "      <td>4</td>\n",
       "      <td>Auto Loan, Credit-Builder Loan, Personal Loan,...</td>\n",
       "      <td>5</td>\n",
       "      <td>4</td>\n",
       "      <td>6.27</td>\n",
       "      <td>4.0</td>\n",
       "      <td>Good</td>\n",
       "      <td>809.98</td>\n",
       "      <td>31.377862</td>\n",
       "      <td>22 Years and 4 Months</td>\n",
       "      <td>No</td>\n",
       "      <td>49.574949</td>\n",
       "      <td>199.4580743910713</td>\n",
       "      <td>Low_spent_Small_value_payments</td>\n",
       "      <td>223.45130972736786</td>\n",
       "      <td>Good</td>\n",
       "    </tr>\n",
       "    <tr>\n",
       "      <th>4</th>\n",
       "      <td>0x1606</td>\n",
       "      <td>CUS_0xd40</td>\n",
       "      <td>May</td>\n",
       "      <td>Aaron Maashoh</td>\n",
       "      <td>23</td>\n",
       "      <td>821-00-0265</td>\n",
       "      <td>Scientist</td>\n",
       "      <td>19114.12</td>\n",
       "      <td>1824.843333</td>\n",
       "      <td>3</td>\n",
       "      <td>4</td>\n",
       "      <td>3</td>\n",
       "      <td>4</td>\n",
       "      <td>Auto Loan, Credit-Builder Loan, Personal Loan,...</td>\n",
       "      <td>6</td>\n",
       "      <td>NaN</td>\n",
       "      <td>11.27</td>\n",
       "      <td>4.0</td>\n",
       "      <td>Good</td>\n",
       "      <td>809.98</td>\n",
       "      <td>24.797347</td>\n",
       "      <td>22 Years and 5 Months</td>\n",
       "      <td>No</td>\n",
       "      <td>49.574949</td>\n",
       "      <td>41.420153086217326</td>\n",
       "      <td>High_spent_Medium_value_payments</td>\n",
       "      <td>341.48923103222177</td>\n",
       "      <td>Good</td>\n",
       "    </tr>\n",
       "  </tbody>\n",
       "</table>\n",
       "</div>"
      ],
      "text/plain": [
       "       ID Customer_ID     Month           Name   Age          SSN Occupation  \\\n",
       "0  0x1602   CUS_0xd40   January  Aaron Maashoh    23  821-00-0265  Scientist   \n",
       "1  0x1603   CUS_0xd40  February  Aaron Maashoh    23  821-00-0265  Scientist   \n",
       "2  0x1604   CUS_0xd40     March  Aaron Maashoh  -500  821-00-0265  Scientist   \n",
       "3  0x1605   CUS_0xd40     April  Aaron Maashoh    23  821-00-0265  Scientist   \n",
       "4  0x1606   CUS_0xd40       May  Aaron Maashoh    23  821-00-0265  Scientist   \n",
       "\n",
       "  Annual_Income  Monthly_Inhand_Salary  Num_Bank_Accounts  Num_Credit_Card  \\\n",
       "0      19114.12            1824.843333                  3                4   \n",
       "1      19114.12                    NaN                  3                4   \n",
       "2      19114.12                    NaN                  3                4   \n",
       "3      19114.12                    NaN                  3                4   \n",
       "4      19114.12            1824.843333                  3                4   \n",
       "\n",
       "   Interest_Rate Num_of_Loan  \\\n",
       "0              3           4   \n",
       "1              3           4   \n",
       "2              3           4   \n",
       "3              3           4   \n",
       "4              3           4   \n",
       "\n",
       "                                        Type_of_Loan  Delay_from_due_date  \\\n",
       "0  Auto Loan, Credit-Builder Loan, Personal Loan,...                    3   \n",
       "1  Auto Loan, Credit-Builder Loan, Personal Loan,...                   -1   \n",
       "2  Auto Loan, Credit-Builder Loan, Personal Loan,...                    3   \n",
       "3  Auto Loan, Credit-Builder Loan, Personal Loan,...                    5   \n",
       "4  Auto Loan, Credit-Builder Loan, Personal Loan,...                    6   \n",
       "\n",
       "  Num_of_Delayed_Payment Changed_Credit_Limit  Num_Credit_Inquiries  \\\n",
       "0                      7                11.27                   4.0   \n",
       "1                    NaN                11.27                   4.0   \n",
       "2                      7                    _                   4.0   \n",
       "3                      4                 6.27                   4.0   \n",
       "4                    NaN                11.27                   4.0   \n",
       "\n",
       "  Credit_Mix Outstanding_Debt  Credit_Utilization_Ratio  \\\n",
       "0          _           809.98                 26.822620   \n",
       "1       Good           809.98                 31.944960   \n",
       "2       Good           809.98                 28.609352   \n",
       "3       Good           809.98                 31.377862   \n",
       "4       Good           809.98                 24.797347   \n",
       "\n",
       "      Credit_History_Age Payment_of_Min_Amount  Total_EMI_per_month  \\\n",
       "0  22 Years and 1 Months                    No            49.574949   \n",
       "1                    NaN                    No            49.574949   \n",
       "2  22 Years and 3 Months                    No            49.574949   \n",
       "3  22 Years and 4 Months                    No            49.574949   \n",
       "4  22 Years and 5 Months                    No            49.574949   \n",
       "\n",
       "  Amount_invested_monthly                 Payment_Behaviour  \\\n",
       "0       80.41529543900253   High_spent_Small_value_payments   \n",
       "1      118.28022162236736    Low_spent_Large_value_payments   \n",
       "2         81.699521264648   Low_spent_Medium_value_payments   \n",
       "3       199.4580743910713    Low_spent_Small_value_payments   \n",
       "4      41.420153086217326  High_spent_Medium_value_payments   \n",
       "\n",
       "      Monthly_Balance Credit_Score  \n",
       "0  312.49408867943663         Good  \n",
       "1  284.62916249607184         Good  \n",
       "2   331.2098628537912         Good  \n",
       "3  223.45130972736786         Good  \n",
       "4  341.48923103222177         Good  "
      ]
     },
     "execution_count": 4,
     "metadata": {},
     "output_type": "execute_result"
    }
   ],
   "source": [
    "\n",
    "pd.set_option('display.max_columns', None)\n",
    "df.head()"
   ]
  },
  {
   "cell_type": "code",
   "execution_count": 5,
   "metadata": {},
   "outputs": [
    {
     "data": {
      "text/plain": [
       "(150000, 28)"
      ]
     },
     "execution_count": 5,
     "metadata": {},
     "output_type": "execute_result"
    }
   ],
   "source": [
    "df.shape"
   ]
  },
  {
   "cell_type": "code",
   "execution_count": 6,
   "metadata": {},
   "outputs": [
    {
     "data": {
      "text/plain": [
       "Index(['ID', 'Customer_ID', 'Month', 'Name', 'Age', 'SSN', 'Occupation',\n",
       "       'Annual_Income', 'Monthly_Inhand_Salary', 'Num_Bank_Accounts',\n",
       "       'Num_Credit_Card', 'Interest_Rate', 'Num_of_Loan', 'Type_of_Loan',\n",
       "       'Delay_from_due_date', 'Num_of_Delayed_Payment', 'Changed_Credit_Limit',\n",
       "       'Num_Credit_Inquiries', 'Credit_Mix', 'Outstanding_Debt',\n",
       "       'Credit_Utilization_Ratio', 'Credit_History_Age',\n",
       "       'Payment_of_Min_Amount', 'Total_EMI_per_month',\n",
       "       'Amount_invested_monthly', 'Payment_Behaviour', 'Monthly_Balance',\n",
       "       'Credit_Score'],\n",
       "      dtype='object')"
      ]
     },
     "execution_count": 6,
     "metadata": {},
     "output_type": "execute_result"
    }
   ],
   "source": [
    "df.columns"
   ]
  },
  {
   "cell_type": "code",
   "execution_count": 7,
   "metadata": {},
   "outputs": [
    {
     "name": "stdout",
     "output_type": "stream",
     "text": [
      "<class 'pandas.core.frame.DataFrame'>\n",
      "RangeIndex: 150000 entries, 0 to 149999\n",
      "Data columns (total 28 columns):\n",
      " #   Column                    Non-Null Count   Dtype  \n",
      "---  ------                    --------------   -----  \n",
      " 0   ID                        150000 non-null  object \n",
      " 1   Customer_ID               150000 non-null  object \n",
      " 2   Month                     150000 non-null  object \n",
      " 3   Name                      135000 non-null  object \n",
      " 4   Age                       150000 non-null  object \n",
      " 5   SSN                       150000 non-null  object \n",
      " 6   Occupation                150000 non-null  object \n",
      " 7   Annual_Income             150000 non-null  object \n",
      " 8   Monthly_Inhand_Salary     127500 non-null  float64\n",
      " 9   Num_Bank_Accounts         150000 non-null  int64  \n",
      " 10  Num_Credit_Card           150000 non-null  int64  \n",
      " 11  Interest_Rate             150000 non-null  int64  \n",
      " 12  Num_of_Loan               150000 non-null  object \n",
      " 13  Type_of_Loan              132888 non-null  object \n",
      " 14  Delay_from_due_date       150000 non-null  int64  \n",
      " 15  Num_of_Delayed_Payment    139500 non-null  object \n",
      " 16  Changed_Credit_Limit      150000 non-null  object \n",
      " 17  Num_Credit_Inquiries      147000 non-null  float64\n",
      " 18  Credit_Mix                150000 non-null  object \n",
      " 19  Outstanding_Debt          150000 non-null  object \n",
      " 20  Credit_Utilization_Ratio  150000 non-null  float64\n",
      " 21  Credit_History_Age        136500 non-null  object \n",
      " 22  Payment_of_Min_Amount     150000 non-null  object \n",
      " 23  Total_EMI_per_month       150000 non-null  float64\n",
      " 24  Amount_invested_monthly   143250 non-null  object \n",
      " 25  Payment_Behaviour         150000 non-null  object \n",
      " 26  Monthly_Balance           148238 non-null  object \n",
      " 27  Credit_Score              100000 non-null  object \n",
      "dtypes: float64(4), int64(4), object(20)\n",
      "memory usage: 32.0+ MB\n"
     ]
    }
   ],
   "source": [
    "df.info()"
   ]
  },
  {
   "cell_type": "code",
   "execution_count": 8,
   "metadata": {},
   "outputs": [
    {
     "data": {
      "text/plain": [
       "ID                           object\n",
       "Customer_ID                  object\n",
       "Month                        object\n",
       "Name                         object\n",
       "Age                          object\n",
       "SSN                          object\n",
       "Occupation                   object\n",
       "Annual_Income                object\n",
       "Monthly_Inhand_Salary       float64\n",
       "Num_Bank_Accounts             int64\n",
       "Num_Credit_Card               int64\n",
       "Interest_Rate                 int64\n",
       "Num_of_Loan                  object\n",
       "Type_of_Loan                 object\n",
       "Delay_from_due_date           int64\n",
       "Num_of_Delayed_Payment       object\n",
       "Changed_Credit_Limit         object\n",
       "Num_Credit_Inquiries        float64\n",
       "Credit_Mix                   object\n",
       "Outstanding_Debt             object\n",
       "Credit_Utilization_Ratio    float64\n",
       "Credit_History_Age           object\n",
       "Payment_of_Min_Amount        object\n",
       "Total_EMI_per_month         float64\n",
       "Amount_invested_monthly      object\n",
       "Payment_Behaviour            object\n",
       "Monthly_Balance              object\n",
       "Credit_Score                 object\n",
       "dtype: object"
      ]
     },
     "execution_count": 8,
     "metadata": {},
     "output_type": "execute_result"
    }
   ],
   "source": [
    "df.dtypes"
   ]
  },
  {
   "cell_type": "code",
   "execution_count": 9,
   "metadata": {},
   "outputs": [
    {
     "data": {
      "text/html": [
       "<div>\n",
       "<style scoped>\n",
       "    .dataframe tbody tr th:only-of-type {\n",
       "        vertical-align: middle;\n",
       "    }\n",
       "\n",
       "    .dataframe tbody tr th {\n",
       "        vertical-align: top;\n",
       "    }\n",
       "\n",
       "    .dataframe thead th {\n",
       "        text-align: right;\n",
       "    }\n",
       "</style>\n",
       "<table border=\"1\" class=\"dataframe\">\n",
       "  <thead>\n",
       "    <tr style=\"text-align: right;\">\n",
       "      <th></th>\n",
       "      <th>Monthly_Inhand_Salary</th>\n",
       "      <th>Num_Bank_Accounts</th>\n",
       "      <th>Num_Credit_Card</th>\n",
       "      <th>Interest_Rate</th>\n",
       "      <th>Delay_from_due_date</th>\n",
       "      <th>Num_Credit_Inquiries</th>\n",
       "      <th>Credit_Utilization_Ratio</th>\n",
       "      <th>Total_EMI_per_month</th>\n",
       "    </tr>\n",
       "  </thead>\n",
       "  <tbody>\n",
       "    <tr>\n",
       "      <th>count</th>\n",
       "      <td>127500.000000</td>\n",
       "      <td>150000.000000</td>\n",
       "      <td>150000.000000</td>\n",
       "      <td>150000.000000</td>\n",
       "      <td>150000.000000</td>\n",
       "      <td>147000.000000</td>\n",
       "      <td>150000.000000</td>\n",
       "      <td>150000.000000</td>\n",
       "    </tr>\n",
       "    <tr>\n",
       "      <th>mean</th>\n",
       "      <td>4190.115139</td>\n",
       "      <td>17.006940</td>\n",
       "      <td>22.623447</td>\n",
       "      <td>71.234907</td>\n",
       "      <td>21.063400</td>\n",
       "      <td>28.529014</td>\n",
       "      <td>32.283309</td>\n",
       "      <td>1432.513579</td>\n",
       "    </tr>\n",
       "    <tr>\n",
       "      <th>std</th>\n",
       "      <td>3180.489657</td>\n",
       "      <td>117.069476</td>\n",
       "      <td>129.143006</td>\n",
       "      <td>461.537193</td>\n",
       "      <td>14.860154</td>\n",
       "      <td>194.456058</td>\n",
       "      <td>5.113315</td>\n",
       "      <td>8403.759977</td>\n",
       "    </tr>\n",
       "    <tr>\n",
       "      <th>min</th>\n",
       "      <td>303.645417</td>\n",
       "      <td>-1.000000</td>\n",
       "      <td>0.000000</td>\n",
       "      <td>1.000000</td>\n",
       "      <td>-5.000000</td>\n",
       "      <td>0.000000</td>\n",
       "      <td>20.000000</td>\n",
       "      <td>0.000000</td>\n",
       "    </tr>\n",
       "    <tr>\n",
       "      <th>25%</th>\n",
       "      <td>1625.265833</td>\n",
       "      <td>3.000000</td>\n",
       "      <td>4.000000</td>\n",
       "      <td>8.000000</td>\n",
       "      <td>10.000000</td>\n",
       "      <td>3.000000</td>\n",
       "      <td>28.054731</td>\n",
       "      <td>30.947775</td>\n",
       "    </tr>\n",
       "    <tr>\n",
       "      <th>50%</th>\n",
       "      <td>3091.000000</td>\n",
       "      <td>6.000000</td>\n",
       "      <td>5.000000</td>\n",
       "      <td>13.000000</td>\n",
       "      <td>18.000000</td>\n",
       "      <td>6.000000</td>\n",
       "      <td>32.297058</td>\n",
       "      <td>71.280006</td>\n",
       "    </tr>\n",
       "    <tr>\n",
       "      <th>75%</th>\n",
       "      <td>5948.454596</td>\n",
       "      <td>7.000000</td>\n",
       "      <td>7.000000</td>\n",
       "      <td>20.000000</td>\n",
       "      <td>28.000000</td>\n",
       "      <td>9.000000</td>\n",
       "      <td>36.487954</td>\n",
       "      <td>166.279555</td>\n",
       "    </tr>\n",
       "    <tr>\n",
       "      <th>max</th>\n",
       "      <td>15204.633333</td>\n",
       "      <td>1798.000000</td>\n",
       "      <td>1499.000000</td>\n",
       "      <td>5799.000000</td>\n",
       "      <td>67.000000</td>\n",
       "      <td>2597.000000</td>\n",
       "      <td>50.000000</td>\n",
       "      <td>82398.000000</td>\n",
       "    </tr>\n",
       "  </tbody>\n",
       "</table>\n",
       "</div>"
      ],
      "text/plain": [
       "       Monthly_Inhand_Salary  Num_Bank_Accounts  Num_Credit_Card  \\\n",
       "count          127500.000000      150000.000000    150000.000000   \n",
       "mean             4190.115139          17.006940        22.623447   \n",
       "std              3180.489657         117.069476       129.143006   \n",
       "min               303.645417          -1.000000         0.000000   \n",
       "25%              1625.265833           3.000000         4.000000   \n",
       "50%              3091.000000           6.000000         5.000000   \n",
       "75%              5948.454596           7.000000         7.000000   \n",
       "max             15204.633333        1798.000000      1499.000000   \n",
       "\n",
       "       Interest_Rate  Delay_from_due_date  Num_Credit_Inquiries  \\\n",
       "count  150000.000000        150000.000000         147000.000000   \n",
       "mean       71.234907            21.063400             28.529014   \n",
       "std       461.537193            14.860154            194.456058   \n",
       "min         1.000000            -5.000000              0.000000   \n",
       "25%         8.000000            10.000000              3.000000   \n",
       "50%        13.000000            18.000000              6.000000   \n",
       "75%        20.000000            28.000000              9.000000   \n",
       "max      5799.000000            67.000000           2597.000000   \n",
       "\n",
       "       Credit_Utilization_Ratio  Total_EMI_per_month  \n",
       "count             150000.000000        150000.000000  \n",
       "mean                  32.283309          1432.513579  \n",
       "std                    5.113315          8403.759977  \n",
       "min                   20.000000             0.000000  \n",
       "25%                   28.054731            30.947775  \n",
       "50%                   32.297058            71.280006  \n",
       "75%                   36.487954           166.279555  \n",
       "max                   50.000000         82398.000000  "
      ]
     },
     "execution_count": 9,
     "metadata": {},
     "output_type": "execute_result"
    }
   ],
   "source": [
    "df.describe()"
   ]
  },
  {
   "cell_type": "markdown",
   "metadata": {},
   "source": [
    "Obsevation : it can be observed that our data set contains outliers, which i will handle further down, also from the table,\n",
    "columns like Monthly_Inhand_Salary,Num_Credit_Inquiries, contains, missing or null values as thier counts isn't up to the total count, \n",
    "of 150,000."
   ]
  },
  {
   "cell_type": "code",
   "execution_count": 10,
   "metadata": {},
   "outputs": [],
   "source": [
    "# dropping this colums as they're not meaningful to our target column. \n",
    "df.drop(['ID', 'Customer_ID', 'SSN', 'Name'], axis=1, inplace=True)"
   ]
  },
  {
   "cell_type": "code",
   "execution_count": 11,
   "metadata": {},
   "outputs": [
    {
     "data": {
      "text/plain": [
       "(150000, 24)"
      ]
     },
     "execution_count": 11,
     "metadata": {},
     "output_type": "execute_result"
    }
   ],
   "source": [
    "df.shape"
   ]
  },
  {
   "cell_type": "markdown",
   "metadata": {},
   "source": [
    "Feature Engineering\n",
    "Handling Categorical features "
   ]
  },
  {
   "cell_type": "code",
   "execution_count": 12,
   "metadata": {},
   "outputs": [
    {
     "data": {
      "text/html": [
       "<div>\n",
       "<style scoped>\n",
       "    .dataframe tbody tr th:only-of-type {\n",
       "        vertical-align: middle;\n",
       "    }\n",
       "\n",
       "    .dataframe tbody tr th {\n",
       "        vertical-align: top;\n",
       "    }\n",
       "\n",
       "    .dataframe thead th {\n",
       "        text-align: right;\n",
       "    }\n",
       "</style>\n",
       "<table border=\"1\" class=\"dataframe\">\n",
       "  <thead>\n",
       "    <tr style=\"text-align: right;\">\n",
       "      <th></th>\n",
       "      <th>Month</th>\n",
       "      <th>Age</th>\n",
       "      <th>Occupation</th>\n",
       "      <th>Annual_Income</th>\n",
       "      <th>Num_of_Loan</th>\n",
       "      <th>Type_of_Loan</th>\n",
       "      <th>Num_of_Delayed_Payment</th>\n",
       "      <th>Changed_Credit_Limit</th>\n",
       "      <th>Credit_Mix</th>\n",
       "      <th>Outstanding_Debt</th>\n",
       "      <th>Credit_History_Age</th>\n",
       "      <th>Payment_of_Min_Amount</th>\n",
       "      <th>Amount_invested_monthly</th>\n",
       "      <th>Payment_Behaviour</th>\n",
       "      <th>Monthly_Balance</th>\n",
       "      <th>Credit_Score</th>\n",
       "    </tr>\n",
       "  </thead>\n",
       "  <tbody>\n",
       "    <tr>\n",
       "      <th>0</th>\n",
       "      <td>January</td>\n",
       "      <td>23</td>\n",
       "      <td>Scientist</td>\n",
       "      <td>19114.12</td>\n",
       "      <td>4</td>\n",
       "      <td>Auto Loan, Credit-Builder Loan, Personal Loan,...</td>\n",
       "      <td>7</td>\n",
       "      <td>11.27</td>\n",
       "      <td>_</td>\n",
       "      <td>809.98</td>\n",
       "      <td>22 Years and 1 Months</td>\n",
       "      <td>No</td>\n",
       "      <td>80.41529543900253</td>\n",
       "      <td>High_spent_Small_value_payments</td>\n",
       "      <td>312.49408867943663</td>\n",
       "      <td>Good</td>\n",
       "    </tr>\n",
       "    <tr>\n",
       "      <th>1</th>\n",
       "      <td>February</td>\n",
       "      <td>23</td>\n",
       "      <td>Scientist</td>\n",
       "      <td>19114.12</td>\n",
       "      <td>4</td>\n",
       "      <td>Auto Loan, Credit-Builder Loan, Personal Loan,...</td>\n",
       "      <td>NaN</td>\n",
       "      <td>11.27</td>\n",
       "      <td>Good</td>\n",
       "      <td>809.98</td>\n",
       "      <td>NaN</td>\n",
       "      <td>No</td>\n",
       "      <td>118.28022162236736</td>\n",
       "      <td>Low_spent_Large_value_payments</td>\n",
       "      <td>284.62916249607184</td>\n",
       "      <td>Good</td>\n",
       "    </tr>\n",
       "    <tr>\n",
       "      <th>2</th>\n",
       "      <td>March</td>\n",
       "      <td>-500</td>\n",
       "      <td>Scientist</td>\n",
       "      <td>19114.12</td>\n",
       "      <td>4</td>\n",
       "      <td>Auto Loan, Credit-Builder Loan, Personal Loan,...</td>\n",
       "      <td>7</td>\n",
       "      <td>_</td>\n",
       "      <td>Good</td>\n",
       "      <td>809.98</td>\n",
       "      <td>22 Years and 3 Months</td>\n",
       "      <td>No</td>\n",
       "      <td>81.699521264648</td>\n",
       "      <td>Low_spent_Medium_value_payments</td>\n",
       "      <td>331.2098628537912</td>\n",
       "      <td>Good</td>\n",
       "    </tr>\n",
       "    <tr>\n",
       "      <th>3</th>\n",
       "      <td>April</td>\n",
       "      <td>23</td>\n",
       "      <td>Scientist</td>\n",
       "      <td>19114.12</td>\n",
       "      <td>4</td>\n",
       "      <td>Auto Loan, Credit-Builder Loan, Personal Loan,...</td>\n",
       "      <td>4</td>\n",
       "      <td>6.27</td>\n",
       "      <td>Good</td>\n",
       "      <td>809.98</td>\n",
       "      <td>22 Years and 4 Months</td>\n",
       "      <td>No</td>\n",
       "      <td>199.4580743910713</td>\n",
       "      <td>Low_spent_Small_value_payments</td>\n",
       "      <td>223.45130972736786</td>\n",
       "      <td>Good</td>\n",
       "    </tr>\n",
       "    <tr>\n",
       "      <th>4</th>\n",
       "      <td>May</td>\n",
       "      <td>23</td>\n",
       "      <td>Scientist</td>\n",
       "      <td>19114.12</td>\n",
       "      <td>4</td>\n",
       "      <td>Auto Loan, Credit-Builder Loan, Personal Loan,...</td>\n",
       "      <td>NaN</td>\n",
       "      <td>11.27</td>\n",
       "      <td>Good</td>\n",
       "      <td>809.98</td>\n",
       "      <td>22 Years and 5 Months</td>\n",
       "      <td>No</td>\n",
       "      <td>41.420153086217326</td>\n",
       "      <td>High_spent_Medium_value_payments</td>\n",
       "      <td>341.48923103222177</td>\n",
       "      <td>Good</td>\n",
       "    </tr>\n",
       "  </tbody>\n",
       "</table>\n",
       "</div>"
      ],
      "text/plain": [
       "      Month   Age Occupation Annual_Income Num_of_Loan  \\\n",
       "0   January    23  Scientist      19114.12           4   \n",
       "1  February    23  Scientist      19114.12           4   \n",
       "2     March  -500  Scientist      19114.12           4   \n",
       "3     April    23  Scientist      19114.12           4   \n",
       "4       May    23  Scientist      19114.12           4   \n",
       "\n",
       "                                        Type_of_Loan Num_of_Delayed_Payment  \\\n",
       "0  Auto Loan, Credit-Builder Loan, Personal Loan,...                      7   \n",
       "1  Auto Loan, Credit-Builder Loan, Personal Loan,...                    NaN   \n",
       "2  Auto Loan, Credit-Builder Loan, Personal Loan,...                      7   \n",
       "3  Auto Loan, Credit-Builder Loan, Personal Loan,...                      4   \n",
       "4  Auto Loan, Credit-Builder Loan, Personal Loan,...                    NaN   \n",
       "\n",
       "  Changed_Credit_Limit Credit_Mix Outstanding_Debt     Credit_History_Age  \\\n",
       "0                11.27          _           809.98  22 Years and 1 Months   \n",
       "1                11.27       Good           809.98                    NaN   \n",
       "2                    _       Good           809.98  22 Years and 3 Months   \n",
       "3                 6.27       Good           809.98  22 Years and 4 Months   \n",
       "4                11.27       Good           809.98  22 Years and 5 Months   \n",
       "\n",
       "  Payment_of_Min_Amount Amount_invested_monthly  \\\n",
       "0                    No       80.41529543900253   \n",
       "1                    No      118.28022162236736   \n",
       "2                    No         81.699521264648   \n",
       "3                    No       199.4580743910713   \n",
       "4                    No      41.420153086217326   \n",
       "\n",
       "                  Payment_Behaviour     Monthly_Balance Credit_Score  \n",
       "0   High_spent_Small_value_payments  312.49408867943663         Good  \n",
       "1    Low_spent_Large_value_payments  284.62916249607184         Good  \n",
       "2   Low_spent_Medium_value_payments   331.2098628537912         Good  \n",
       "3    Low_spent_Small_value_payments  223.45130972736786         Good  \n",
       "4  High_spent_Medium_value_payments  341.48923103222177         Good  "
      ]
     },
     "execution_count": 12,
     "metadata": {},
     "output_type": "execute_result"
    }
   ],
   "source": [
    "df.select_dtypes(include=['object']).head()"
   ]
  },
  {
   "cell_type": "markdown",
   "metadata": {},
   "source": [
    "from the looks of our object table, they are columns which are of numerical data types but coming out as object data types,\n",
    "this could be as a result of special characters or strings embedded within the data of the columns, this should be handled, to correctly specify, \n",
    "the column data types."
   ]
  },
  {
   "cell_type": "markdown",
   "metadata": {},
   "source": [
    "Month"
   ]
  },
  {
   "cell_type": "code",
   "execution_count": 13,
   "metadata": {},
   "outputs": [
    {
     "data": {
      "text/plain": [
       "array(['January', 'February', 'March', 'April', 'May', 'June', 'July',\n",
       "       'August', 'September', 'October', 'November', 'December'],\n",
       "      dtype=object)"
      ]
     },
     "execution_count": 13,
     "metadata": {},
     "output_type": "execute_result"
    }
   ],
   "source": [
    "df['Month'].unique()"
   ]
  },
  {
   "cell_type": "code",
   "execution_count": 14,
   "metadata": {},
   "outputs": [],
   "source": [
    "#using label encoding we have\n",
    "df['Month']=df['Month'].map({'January':1,'February':2,'March':3,'April':4, 'May':5, 'June':6, 'July':7, 'August': 8 ,'September':9, 'October':10, 'November':11, 'December':12})"
   ]
  },
  {
   "cell_type": "code",
   "execution_count": 15,
   "metadata": {},
   "outputs": [
    {
     "data": {
      "text/plain": [
       "0"
      ]
     },
     "execution_count": 15,
     "metadata": {},
     "output_type": "execute_result"
    }
   ],
   "source": [
    "#checking for missing values in the column\n",
    "df['Month'].isnull().sum()"
   ]
  },
  {
   "cell_type": "markdown",
   "metadata": {},
   "source": [
    "Occupation"
   ]
  },
  {
   "cell_type": "code",
   "execution_count": 16,
   "metadata": {},
   "outputs": [
    {
     "data": {
      "text/plain": [
       "array(['Scientist', '_______', 'Teacher', 'Engineer', 'Entrepreneur',\n",
       "       'Developer', 'Lawyer', 'Media_Manager', 'Doctor', 'Journalist',\n",
       "       'Manager', 'Accountant', 'Musician', 'Mechanic', 'Writer',\n",
       "       'Architect'], dtype=object)"
      ]
     },
     "execution_count": 16,
     "metadata": {},
     "output_type": "execute_result"
    }
   ],
   "source": [
    "df['Occupation'].unique()"
   ]
  },
  {
   "cell_type": "code",
   "execution_count": 17,
   "metadata": {},
   "outputs": [],
   "source": [
    "# rows containing this characters '_______' will be removed as it counts is higher than any occupation present \n",
    "df= df[df['Occupation'].str.contains('_______',)== False]"
   ]
  },
  {
   "cell_type": "code",
   "execution_count": 18,
   "metadata": {},
   "outputs": [
    {
     "data": {
      "text/plain": [
       "Occupation\n",
       "Lawyer           9899\n",
       "Engineer         9562\n",
       "Architect        9550\n",
       "Mechanic         9459\n",
       "Accountant       9404\n",
       "Scientist        9403\n",
       "Developer        9381\n",
       "Media_Manager    9362\n",
       "Teacher          9318\n",
       "Entrepreneur     9277\n",
       "Journalist       9122\n",
       "Doctor           9114\n",
       "Manager          8973\n",
       "Musician         8858\n",
       "Writer           8818\n",
       "Name: count, dtype: int64"
      ]
     },
     "execution_count": 18,
     "metadata": {},
     "output_type": "execute_result"
    }
   ],
   "source": [
    "df['Occupation'].value_counts(dropna=False)"
   ]
  },
  {
   "cell_type": "code",
   "execution_count": 19,
   "metadata": {},
   "outputs": [],
   "source": [
    "df = pd.get_dummies(df, prefix='Occupation', columns=['Occupation'], drop_first=True)"
   ]
  },
  {
   "cell_type": "code",
   "execution_count": 20,
   "metadata": {},
   "outputs": [
    {
     "data": {
      "text/html": [
       "<div>\n",
       "<style scoped>\n",
       "    .dataframe tbody tr th:only-of-type {\n",
       "        vertical-align: middle;\n",
       "    }\n",
       "\n",
       "    .dataframe tbody tr th {\n",
       "        vertical-align: top;\n",
       "    }\n",
       "\n",
       "    .dataframe thead th {\n",
       "        text-align: right;\n",
       "    }\n",
       "</style>\n",
       "<table border=\"1\" class=\"dataframe\">\n",
       "  <thead>\n",
       "    <tr style=\"text-align: right;\">\n",
       "      <th></th>\n",
       "      <th>Month</th>\n",
       "      <th>Age</th>\n",
       "      <th>Annual_Income</th>\n",
       "      <th>Monthly_Inhand_Salary</th>\n",
       "      <th>Num_Bank_Accounts</th>\n",
       "      <th>Num_Credit_Card</th>\n",
       "      <th>Interest_Rate</th>\n",
       "      <th>Num_of_Loan</th>\n",
       "      <th>Type_of_Loan</th>\n",
       "      <th>Delay_from_due_date</th>\n",
       "      <th>Num_of_Delayed_Payment</th>\n",
       "      <th>Changed_Credit_Limit</th>\n",
       "      <th>Num_Credit_Inquiries</th>\n",
       "      <th>Credit_Mix</th>\n",
       "      <th>Outstanding_Debt</th>\n",
       "      <th>Credit_Utilization_Ratio</th>\n",
       "      <th>Credit_History_Age</th>\n",
       "      <th>Payment_of_Min_Amount</th>\n",
       "      <th>Total_EMI_per_month</th>\n",
       "      <th>Amount_invested_monthly</th>\n",
       "      <th>Payment_Behaviour</th>\n",
       "      <th>Monthly_Balance</th>\n",
       "      <th>Credit_Score</th>\n",
       "      <th>Occupation_Architect</th>\n",
       "      <th>Occupation_Developer</th>\n",
       "      <th>Occupation_Doctor</th>\n",
       "      <th>Occupation_Engineer</th>\n",
       "      <th>Occupation_Entrepreneur</th>\n",
       "      <th>Occupation_Journalist</th>\n",
       "      <th>Occupation_Lawyer</th>\n",
       "      <th>Occupation_Manager</th>\n",
       "      <th>Occupation_Mechanic</th>\n",
       "      <th>Occupation_Media_Manager</th>\n",
       "      <th>Occupation_Musician</th>\n",
       "      <th>Occupation_Scientist</th>\n",
       "      <th>Occupation_Teacher</th>\n",
       "      <th>Occupation_Writer</th>\n",
       "    </tr>\n",
       "  </thead>\n",
       "  <tbody>\n",
       "    <tr>\n",
       "      <th>0</th>\n",
       "      <td>1</td>\n",
       "      <td>23</td>\n",
       "      <td>19114.12</td>\n",
       "      <td>1824.843333</td>\n",
       "      <td>3</td>\n",
       "      <td>4</td>\n",
       "      <td>3</td>\n",
       "      <td>4</td>\n",
       "      <td>Auto Loan, Credit-Builder Loan, Personal Loan,...</td>\n",
       "      <td>3</td>\n",
       "      <td>7</td>\n",
       "      <td>11.27</td>\n",
       "      <td>4.0</td>\n",
       "      <td>_</td>\n",
       "      <td>809.98</td>\n",
       "      <td>26.82262</td>\n",
       "      <td>22 Years and 1 Months</td>\n",
       "      <td>No</td>\n",
       "      <td>49.574949</td>\n",
       "      <td>80.41529543900253</td>\n",
       "      <td>High_spent_Small_value_payments</td>\n",
       "      <td>312.49408867943663</td>\n",
       "      <td>Good</td>\n",
       "      <td>False</td>\n",
       "      <td>False</td>\n",
       "      <td>False</td>\n",
       "      <td>False</td>\n",
       "      <td>False</td>\n",
       "      <td>False</td>\n",
       "      <td>False</td>\n",
       "      <td>False</td>\n",
       "      <td>False</td>\n",
       "      <td>False</td>\n",
       "      <td>False</td>\n",
       "      <td>True</td>\n",
       "      <td>False</td>\n",
       "      <td>False</td>\n",
       "    </tr>\n",
       "    <tr>\n",
       "      <th>1</th>\n",
       "      <td>2</td>\n",
       "      <td>23</td>\n",
       "      <td>19114.12</td>\n",
       "      <td>NaN</td>\n",
       "      <td>3</td>\n",
       "      <td>4</td>\n",
       "      <td>3</td>\n",
       "      <td>4</td>\n",
       "      <td>Auto Loan, Credit-Builder Loan, Personal Loan,...</td>\n",
       "      <td>-1</td>\n",
       "      <td>NaN</td>\n",
       "      <td>11.27</td>\n",
       "      <td>4.0</td>\n",
       "      <td>Good</td>\n",
       "      <td>809.98</td>\n",
       "      <td>31.94496</td>\n",
       "      <td>NaN</td>\n",
       "      <td>No</td>\n",
       "      <td>49.574949</td>\n",
       "      <td>118.28022162236736</td>\n",
       "      <td>Low_spent_Large_value_payments</td>\n",
       "      <td>284.62916249607184</td>\n",
       "      <td>Good</td>\n",
       "      <td>False</td>\n",
       "      <td>False</td>\n",
       "      <td>False</td>\n",
       "      <td>False</td>\n",
       "      <td>False</td>\n",
       "      <td>False</td>\n",
       "      <td>False</td>\n",
       "      <td>False</td>\n",
       "      <td>False</td>\n",
       "      <td>False</td>\n",
       "      <td>False</td>\n",
       "      <td>True</td>\n",
       "      <td>False</td>\n",
       "      <td>False</td>\n",
       "    </tr>\n",
       "  </tbody>\n",
       "</table>\n",
       "</div>"
      ],
      "text/plain": [
       "   Month Age Annual_Income  Monthly_Inhand_Salary  Num_Bank_Accounts  \\\n",
       "0      1  23      19114.12            1824.843333                  3   \n",
       "1      2  23      19114.12                    NaN                  3   \n",
       "\n",
       "   Num_Credit_Card  Interest_Rate Num_of_Loan  \\\n",
       "0                4              3           4   \n",
       "1                4              3           4   \n",
       "\n",
       "                                        Type_of_Loan  Delay_from_due_date  \\\n",
       "0  Auto Loan, Credit-Builder Loan, Personal Loan,...                    3   \n",
       "1  Auto Loan, Credit-Builder Loan, Personal Loan,...                   -1   \n",
       "\n",
       "  Num_of_Delayed_Payment Changed_Credit_Limit  Num_Credit_Inquiries  \\\n",
       "0                      7                11.27                   4.0   \n",
       "1                    NaN                11.27                   4.0   \n",
       "\n",
       "  Credit_Mix Outstanding_Debt  Credit_Utilization_Ratio  \\\n",
       "0          _           809.98                  26.82262   \n",
       "1       Good           809.98                  31.94496   \n",
       "\n",
       "      Credit_History_Age Payment_of_Min_Amount  Total_EMI_per_month  \\\n",
       "0  22 Years and 1 Months                    No            49.574949   \n",
       "1                    NaN                    No            49.574949   \n",
       "\n",
       "  Amount_invested_monthly                Payment_Behaviour  \\\n",
       "0       80.41529543900253  High_spent_Small_value_payments   \n",
       "1      118.28022162236736   Low_spent_Large_value_payments   \n",
       "\n",
       "      Monthly_Balance Credit_Score  Occupation_Architect  \\\n",
       "0  312.49408867943663         Good                 False   \n",
       "1  284.62916249607184         Good                 False   \n",
       "\n",
       "   Occupation_Developer  Occupation_Doctor  Occupation_Engineer  \\\n",
       "0                 False              False                False   \n",
       "1                 False              False                False   \n",
       "\n",
       "   Occupation_Entrepreneur  Occupation_Journalist  Occupation_Lawyer  \\\n",
       "0                    False                  False              False   \n",
       "1                    False                  False              False   \n",
       "\n",
       "   Occupation_Manager  Occupation_Mechanic  Occupation_Media_Manager  \\\n",
       "0               False                False                     False   \n",
       "1               False                False                     False   \n",
       "\n",
       "   Occupation_Musician  Occupation_Scientist  Occupation_Teacher  \\\n",
       "0                False                  True               False   \n",
       "1                False                  True               False   \n",
       "\n",
       "   Occupation_Writer  \n",
       "0              False  \n",
       "1              False  "
      ]
     },
     "execution_count": 20,
     "metadata": {},
     "output_type": "execute_result"
    }
   ],
   "source": [
    "df.head(2)"
   ]
  },
  {
   "cell_type": "code",
   "execution_count": 21,
   "metadata": {},
   "outputs": [],
   "source": [
    "columns_to_convert = ['Occupation_Architect', 'Occupation_Developer','Occupation_Doctor','Occupation_Engineer','Occupation_Entrepreneur', 'Occupation_Journalist','Occupation_Lawyer', 'Occupation_Manager','Occupation_Mechanic', 'Occupation_Media_Manager', 'Occupation_Musician', 'Occupation_Scientist', 'Occupation_Teacher', 'Occupation_Writer']"
   ]
  },
  {
   "cell_type": "code",
   "execution_count": 22,
   "metadata": {},
   "outputs": [],
   "source": [
    "df[columns_to_convert]=df[columns_to_convert].astype(int)"
   ]
  },
  {
   "cell_type": "code",
   "execution_count": 23,
   "metadata": {},
   "outputs": [
    {
     "data": {
      "text/html": [
       "<div>\n",
       "<style scoped>\n",
       "    .dataframe tbody tr th:only-of-type {\n",
       "        vertical-align: middle;\n",
       "    }\n",
       "\n",
       "    .dataframe tbody tr th {\n",
       "        vertical-align: top;\n",
       "    }\n",
       "\n",
       "    .dataframe thead th {\n",
       "        text-align: right;\n",
       "    }\n",
       "</style>\n",
       "<table border=\"1\" class=\"dataframe\">\n",
       "  <thead>\n",
       "    <tr style=\"text-align: right;\">\n",
       "      <th></th>\n",
       "      <th>Month</th>\n",
       "      <th>Age</th>\n",
       "      <th>Annual_Income</th>\n",
       "      <th>Monthly_Inhand_Salary</th>\n",
       "      <th>Num_Bank_Accounts</th>\n",
       "      <th>Num_Credit_Card</th>\n",
       "      <th>Interest_Rate</th>\n",
       "      <th>Num_of_Loan</th>\n",
       "      <th>Type_of_Loan</th>\n",
       "      <th>Delay_from_due_date</th>\n",
       "      <th>Num_of_Delayed_Payment</th>\n",
       "      <th>Changed_Credit_Limit</th>\n",
       "      <th>Num_Credit_Inquiries</th>\n",
       "      <th>Credit_Mix</th>\n",
       "      <th>Outstanding_Debt</th>\n",
       "      <th>Credit_Utilization_Ratio</th>\n",
       "      <th>Credit_History_Age</th>\n",
       "      <th>Payment_of_Min_Amount</th>\n",
       "      <th>Total_EMI_per_month</th>\n",
       "      <th>Amount_invested_monthly</th>\n",
       "      <th>Payment_Behaviour</th>\n",
       "      <th>Monthly_Balance</th>\n",
       "      <th>Credit_Score</th>\n",
       "      <th>Occupation_Architect</th>\n",
       "      <th>Occupation_Developer</th>\n",
       "      <th>Occupation_Doctor</th>\n",
       "      <th>Occupation_Engineer</th>\n",
       "      <th>Occupation_Entrepreneur</th>\n",
       "      <th>Occupation_Journalist</th>\n",
       "      <th>Occupation_Lawyer</th>\n",
       "      <th>Occupation_Manager</th>\n",
       "      <th>Occupation_Mechanic</th>\n",
       "      <th>Occupation_Media_Manager</th>\n",
       "      <th>Occupation_Musician</th>\n",
       "      <th>Occupation_Scientist</th>\n",
       "      <th>Occupation_Teacher</th>\n",
       "      <th>Occupation_Writer</th>\n",
       "    </tr>\n",
       "  </thead>\n",
       "  <tbody>\n",
       "    <tr>\n",
       "      <th>0</th>\n",
       "      <td>1</td>\n",
       "      <td>23</td>\n",
       "      <td>19114.12</td>\n",
       "      <td>1824.843333</td>\n",
       "      <td>3</td>\n",
       "      <td>4</td>\n",
       "      <td>3</td>\n",
       "      <td>4</td>\n",
       "      <td>Auto Loan, Credit-Builder Loan, Personal Loan,...</td>\n",
       "      <td>3</td>\n",
       "      <td>7</td>\n",
       "      <td>11.27</td>\n",
       "      <td>4.0</td>\n",
       "      <td>_</td>\n",
       "      <td>809.98</td>\n",
       "      <td>26.82262</td>\n",
       "      <td>22 Years and 1 Months</td>\n",
       "      <td>No</td>\n",
       "      <td>49.574949</td>\n",
       "      <td>80.41529543900253</td>\n",
       "      <td>High_spent_Small_value_payments</td>\n",
       "      <td>312.49408867943663</td>\n",
       "      <td>Good</td>\n",
       "      <td>0</td>\n",
       "      <td>0</td>\n",
       "      <td>0</td>\n",
       "      <td>0</td>\n",
       "      <td>0</td>\n",
       "      <td>0</td>\n",
       "      <td>0</td>\n",
       "      <td>0</td>\n",
       "      <td>0</td>\n",
       "      <td>0</td>\n",
       "      <td>0</td>\n",
       "      <td>1</td>\n",
       "      <td>0</td>\n",
       "      <td>0</td>\n",
       "    </tr>\n",
       "    <tr>\n",
       "      <th>1</th>\n",
       "      <td>2</td>\n",
       "      <td>23</td>\n",
       "      <td>19114.12</td>\n",
       "      <td>NaN</td>\n",
       "      <td>3</td>\n",
       "      <td>4</td>\n",
       "      <td>3</td>\n",
       "      <td>4</td>\n",
       "      <td>Auto Loan, Credit-Builder Loan, Personal Loan,...</td>\n",
       "      <td>-1</td>\n",
       "      <td>NaN</td>\n",
       "      <td>11.27</td>\n",
       "      <td>4.0</td>\n",
       "      <td>Good</td>\n",
       "      <td>809.98</td>\n",
       "      <td>31.94496</td>\n",
       "      <td>NaN</td>\n",
       "      <td>No</td>\n",
       "      <td>49.574949</td>\n",
       "      <td>118.28022162236736</td>\n",
       "      <td>Low_spent_Large_value_payments</td>\n",
       "      <td>284.62916249607184</td>\n",
       "      <td>Good</td>\n",
       "      <td>0</td>\n",
       "      <td>0</td>\n",
       "      <td>0</td>\n",
       "      <td>0</td>\n",
       "      <td>0</td>\n",
       "      <td>0</td>\n",
       "      <td>0</td>\n",
       "      <td>0</td>\n",
       "      <td>0</td>\n",
       "      <td>0</td>\n",
       "      <td>0</td>\n",
       "      <td>1</td>\n",
       "      <td>0</td>\n",
       "      <td>0</td>\n",
       "    </tr>\n",
       "  </tbody>\n",
       "</table>\n",
       "</div>"
      ],
      "text/plain": [
       "   Month Age Annual_Income  Monthly_Inhand_Salary  Num_Bank_Accounts  \\\n",
       "0      1  23      19114.12            1824.843333                  3   \n",
       "1      2  23      19114.12                    NaN                  3   \n",
       "\n",
       "   Num_Credit_Card  Interest_Rate Num_of_Loan  \\\n",
       "0                4              3           4   \n",
       "1                4              3           4   \n",
       "\n",
       "                                        Type_of_Loan  Delay_from_due_date  \\\n",
       "0  Auto Loan, Credit-Builder Loan, Personal Loan,...                    3   \n",
       "1  Auto Loan, Credit-Builder Loan, Personal Loan,...                   -1   \n",
       "\n",
       "  Num_of_Delayed_Payment Changed_Credit_Limit  Num_Credit_Inquiries  \\\n",
       "0                      7                11.27                   4.0   \n",
       "1                    NaN                11.27                   4.0   \n",
       "\n",
       "  Credit_Mix Outstanding_Debt  Credit_Utilization_Ratio  \\\n",
       "0          _           809.98                  26.82262   \n",
       "1       Good           809.98                  31.94496   \n",
       "\n",
       "      Credit_History_Age Payment_of_Min_Amount  Total_EMI_per_month  \\\n",
       "0  22 Years and 1 Months                    No            49.574949   \n",
       "1                    NaN                    No            49.574949   \n",
       "\n",
       "  Amount_invested_monthly                Payment_Behaviour  \\\n",
       "0       80.41529543900253  High_spent_Small_value_payments   \n",
       "1      118.28022162236736   Low_spent_Large_value_payments   \n",
       "\n",
       "      Monthly_Balance Credit_Score  Occupation_Architect  \\\n",
       "0  312.49408867943663         Good                     0   \n",
       "1  284.62916249607184         Good                     0   \n",
       "\n",
       "   Occupation_Developer  Occupation_Doctor  Occupation_Engineer  \\\n",
       "0                     0                  0                    0   \n",
       "1                     0                  0                    0   \n",
       "\n",
       "   Occupation_Entrepreneur  Occupation_Journalist  Occupation_Lawyer  \\\n",
       "0                        0                      0                  0   \n",
       "1                        0                      0                  0   \n",
       "\n",
       "   Occupation_Manager  Occupation_Mechanic  Occupation_Media_Manager  \\\n",
       "0                   0                    0                         0   \n",
       "1                   0                    0                         0   \n",
       "\n",
       "   Occupation_Musician  Occupation_Scientist  Occupation_Teacher  \\\n",
       "0                    0                     1                   0   \n",
       "1                    0                     1                   0   \n",
       "\n",
       "   Occupation_Writer  \n",
       "0                  0  \n",
       "1                  0  "
      ]
     },
     "execution_count": 23,
     "metadata": {},
     "output_type": "execute_result"
    }
   ],
   "source": [
    "df.head(2)"
   ]
  },
  {
   "cell_type": "markdown",
   "metadata": {},
   "source": [
    "Age"
   ]
  },
  {
   "cell_type": "markdown",
   "metadata": {},
   "source": [
    "This columns datatype isn't supposed to be an object type but due to some string present it is classified as such"
   ]
  },
  {
   "cell_type": "code",
   "execution_count": 24,
   "metadata": {},
   "outputs": [
    {
     "data": {
      "text/plain": [
       "array(['23', '-500', '28', ..., '326', '7910', '5826'], dtype=object)"
      ]
     },
     "execution_count": 24,
     "metadata": {},
     "output_type": "execute_result"
    }
   ],
   "source": [
    "df['Age'].unique()\n",
    "\n"
   ]
  },
  {
   "cell_type": "code",
   "execution_count": 25,
   "metadata": {},
   "outputs": [],
   "source": [
    "df['Age']= df['Age'].str.replace('_','')"
   ]
  },
  {
   "cell_type": "code",
   "execution_count": 26,
   "metadata": {},
   "outputs": [],
   "source": [
    "df['Age']= df['Age'].astype(int)"
   ]
  },
  {
   "cell_type": "code",
   "execution_count": 27,
   "metadata": {},
   "outputs": [
    {
     "data": {
      "text/html": [
       "<div>\n",
       "<style scoped>\n",
       "    .dataframe tbody tr th:only-of-type {\n",
       "        vertical-align: middle;\n",
       "    }\n",
       "\n",
       "    .dataframe tbody tr th {\n",
       "        vertical-align: top;\n",
       "    }\n",
       "\n",
       "    .dataframe thead th {\n",
       "        text-align: right;\n",
       "    }\n",
       "</style>\n",
       "<table border=\"1\" class=\"dataframe\">\n",
       "  <thead>\n",
       "    <tr style=\"text-align: right;\">\n",
       "      <th></th>\n",
       "      <th>Annual_Income</th>\n",
       "      <th>Num_of_Loan</th>\n",
       "      <th>Type_of_Loan</th>\n",
       "      <th>Num_of_Delayed_Payment</th>\n",
       "      <th>Changed_Credit_Limit</th>\n",
       "      <th>Credit_Mix</th>\n",
       "      <th>Outstanding_Debt</th>\n",
       "      <th>Credit_History_Age</th>\n",
       "      <th>Payment_of_Min_Amount</th>\n",
       "      <th>Amount_invested_monthly</th>\n",
       "      <th>Payment_Behaviour</th>\n",
       "      <th>Monthly_Balance</th>\n",
       "      <th>Credit_Score</th>\n",
       "    </tr>\n",
       "  </thead>\n",
       "  <tbody>\n",
       "    <tr>\n",
       "      <th>0</th>\n",
       "      <td>19114.12</td>\n",
       "      <td>4</td>\n",
       "      <td>Auto Loan, Credit-Builder Loan, Personal Loan,...</td>\n",
       "      <td>7</td>\n",
       "      <td>11.27</td>\n",
       "      <td>_</td>\n",
       "      <td>809.98</td>\n",
       "      <td>22 Years and 1 Months</td>\n",
       "      <td>No</td>\n",
       "      <td>80.41529543900253</td>\n",
       "      <td>High_spent_Small_value_payments</td>\n",
       "      <td>312.49408867943663</td>\n",
       "      <td>Good</td>\n",
       "    </tr>\n",
       "    <tr>\n",
       "      <th>1</th>\n",
       "      <td>19114.12</td>\n",
       "      <td>4</td>\n",
       "      <td>Auto Loan, Credit-Builder Loan, Personal Loan,...</td>\n",
       "      <td>NaN</td>\n",
       "      <td>11.27</td>\n",
       "      <td>Good</td>\n",
       "      <td>809.98</td>\n",
       "      <td>NaN</td>\n",
       "      <td>No</td>\n",
       "      <td>118.28022162236736</td>\n",
       "      <td>Low_spent_Large_value_payments</td>\n",
       "      <td>284.62916249607184</td>\n",
       "      <td>Good</td>\n",
       "    </tr>\n",
       "  </tbody>\n",
       "</table>\n",
       "</div>"
      ],
      "text/plain": [
       "  Annual_Income Num_of_Loan  \\\n",
       "0      19114.12           4   \n",
       "1      19114.12           4   \n",
       "\n",
       "                                        Type_of_Loan Num_of_Delayed_Payment  \\\n",
       "0  Auto Loan, Credit-Builder Loan, Personal Loan,...                      7   \n",
       "1  Auto Loan, Credit-Builder Loan, Personal Loan,...                    NaN   \n",
       "\n",
       "  Changed_Credit_Limit Credit_Mix Outstanding_Debt     Credit_History_Age  \\\n",
       "0                11.27          _           809.98  22 Years and 1 Months   \n",
       "1                11.27       Good           809.98                    NaN   \n",
       "\n",
       "  Payment_of_Min_Amount Amount_invested_monthly  \\\n",
       "0                    No       80.41529543900253   \n",
       "1                    No      118.28022162236736   \n",
       "\n",
       "                 Payment_Behaviour     Monthly_Balance Credit_Score  \n",
       "0  High_spent_Small_value_payments  312.49408867943663         Good  \n",
       "1   Low_spent_Large_value_payments  284.62916249607184         Good  "
      ]
     },
     "execution_count": 27,
     "metadata": {},
     "output_type": "execute_result"
    }
   ],
   "source": [
    "df.select_dtypes(include=['object']).head(2)"
   ]
  },
  {
   "cell_type": "markdown",
   "metadata": {},
   "source": [
    "Annual_Income\n"
   ]
  },
  {
   "cell_type": "code",
   "execution_count": 28,
   "metadata": {},
   "outputs": [
    {
     "data": {
      "text/plain": [
       "array(['19114.12', '34847.84', '34847.84_', ..., '14937.49_', '71025.4_',\n",
       "       '22620.79_'], dtype=object)"
      ]
     },
     "execution_count": 28,
     "metadata": {},
     "output_type": "execute_result"
    }
   ],
   "source": [
    "df['Annual_Income'].unique()"
   ]
  },
  {
   "cell_type": "code",
   "execution_count": 29,
   "metadata": {},
   "outputs": [],
   "source": [
    "df['Annual_Income']=df['Annual_Income'].str.replace('_','')"
   ]
  },
  {
   "cell_type": "code",
   "execution_count": 30,
   "metadata": {},
   "outputs": [
    {
     "data": {
      "text/plain": [
       "0"
      ]
     },
     "execution_count": 30,
     "metadata": {},
     "output_type": "execute_result"
    }
   ],
   "source": [
    "df['Annual_Income'].isnull().sum()"
   ]
  },
  {
   "cell_type": "code",
   "execution_count": 31,
   "metadata": {},
   "outputs": [],
   "source": [
    "df['Annual_Income']=df['Annual_Income'].astype(float)"
   ]
  },
  {
   "cell_type": "markdown",
   "metadata": {},
   "source": [
    "\tNum_of_Loan"
   ]
  },
  {
   "cell_type": "code",
   "execution_count": 32,
   "metadata": {},
   "outputs": [
    {
     "data": {
      "text/plain": [
       "array(['4', '1', '3', '967', '-100', '0', '0_', '2', '3_', '2_', '7', '5',\n",
       "       '5_', '6', '8', '8_', '9', '9_', '4_', '7_', '1_', '1464', '6_',\n",
       "       '622', '352', '1017', '146', '563', '341', '444', '720', '49',\n",
       "       '737', '1106', '466', '728', '313', '843', '597_', '617', '119',\n",
       "       '663', '640', '92_', '1019', '501', '1302', '39', '716', '848',\n",
       "       '931', '1214', '186', '424', '1001', '1110', '1152', '457', '1433',\n",
       "       '1187', '52', '1480', '1047', '1035', '1347_', '193', '699', '329',\n",
       "       '1451', '484', '132', '649', '995', '545', '684', '1135', '1094',\n",
       "       '654', '58', '348', '614', '1363', '323', '1406', '1348', '430',\n",
       "       '153', '1461', '905', '1312', '1424', '95', '1353', '1228', '819',\n",
       "       '1006', '795', '359', '1209', '590', '696', '1185_', '1465', '911',\n",
       "       '1181', '70', '816', '1369', '143', '1416', '455', '55', '1096',\n",
       "       '1474', '420', '1131', '904', '89', '1259', '527', '1241', '449',\n",
       "       '418', '23', '238', '638', '138', '235_', '280', '1070', '1484',\n",
       "       '274', '494', '1459_', '404', '1354', '1495', '1391', '601',\n",
       "       '1319', '898', '231', '752', '174', '961', '1046', '834', '284',\n",
       "       '438', '288', '1463', '1151', '719', '198', '1015', '855', '841',\n",
       "       '1444', '103', '1320_', '745', '252', '630_', '241', '31', '405',\n",
       "       '1217', '1030', '1257', '172', '137', '157', '164', '1088', '1048',\n",
       "       '330', '1439', '321', '661', '952', '939', '562', '1202', '302',\n",
       "       '943', '394', '955', '1318', '936', '781', '100', '1329', '1365',\n",
       "       '860', '217', '191', '32', '282', '351', '1387', '757', '416',\n",
       "       '833', '359_', '292', '1225_', '1227', '639', '859', '243', '267',\n",
       "       '510', '332', '597', '311', '492', '820', '336', '123', '1311_',\n",
       "       '1441', '895', '50', '940', '935', '596', '29', '1182', '1129_',\n",
       "       '1014', '251', '365', '291', '1447', '742', '1085', '148', '462',\n",
       "       '832', '881', '1225', '1412', '785_', '1127', '910', '538', '999',\n",
       "       '733', '101', '237', '659', '633', '387', '447', '629', '831',\n",
       "       '1384', '773', '621', '1419', '143_', '285', '1393', '1131_',\n",
       "       '27_', '1359', '1482', '1189', '1294', '201', '579', '814', '141',\n",
       "       '1320', '581', '1171_', '679', '1040', '1054', '1430', '1023',\n",
       "       '1077', '1457', '1150', '701', '1382', '889', '437', '372', '1222',\n",
       "       '126', '1159', '868', '19', '1297', '227_', '190', '809', '1216',\n",
       "       '1074', '571', '520', '1274', '1340', '316', '697', '926', '1002',\n",
       "       '378_', '65', '875', '867', '548', '652', '33', '1372', '606',\n",
       "       '1036', '1300', '17', '1178', '290', '802', '1219_', '1271',\n",
       "       '1236', '1137', '1496', '439', '196', '192', '228', '1053', '229',\n",
       "       '753', '1296', '1371', '254', '863', '464', '515', '838', '1160',\n",
       "       '1289', '1298', '799', '574', '527_', '242', '415', '869', '958',\n",
       "       '54', '1265', '656', '275', '778', '208', '147', '507', '463',\n",
       "       '497', '927', '653', '662', '529', '1027_', '897', '1039', '227',\n",
       "       '1345', '924', '696_', '1279', '546', '1112', '1210', '526', '300',\n",
       "       '1103', '504', '136', '1400', '78', '686', '1091', '344', '215',\n",
       "       '84', '628', '1470', '968', '83', '1196', '1307', '1132_', '1008',\n",
       "       '917', '657', '56', '18', '41', '801', '978', '216', '349', '966',\n",
       "       '1381', '965', '428', '256', '495', '1018', '1021', '744', '481_',\n",
       "       '1237', '602', '582', '717', '1316', '1146', '1009', '660', '286',\n",
       "       '505', '1161', '765', '864', '949', '181', '42', '385', '452',\n",
       "       '434', '77', '249', '106', '498', '1073', '899', '769', '1292',\n",
       "       '1266', '114', '810', '992', '828', '1248', '543', '919', '1374',\n",
       "       '263', '746', '1487', '731', '445', '1325', '1147', '808', '511',\n",
       "       '1445', '1140', '876', '1304', '569', '350', '1221', '608', '570',\n",
       "       '1063', '741', '1428', '1254', '1361', '232', '1475', '1448',\n",
       "       '1414', '426', '1308', '647', '1068', '954_', '1283', '909', '977',\n",
       "       '1333', '700', '486', '1027', '170', '1108', '1471', '1284',\n",
       "       '1489', '1446', '35', '483', '265', '928', '1429', '547', '950',\n",
       "       '1153', '539', '1240', '376', '393', '610', '725_', '1481', '1287',\n",
       "       '325', '72_', '1024', '1072', '220', '478', '53', '368', '551',\n",
       "       '1244', '734_', '140', '255', '1207', '326', '273', '99', '1149',\n",
       "       '1148', '519_', '453', '641', '97', '441', '631', '295', '465',\n",
       "       '960', '790', '624', '370', '361', '105', '813', '1095', '508',\n",
       "       '879', '1373', '615', '997', '561', '161', '612', '488', '324',\n",
       "       '531', '339', '1057', '343', '1041', '738', '1399', '414', '395',\n",
       "       '1175', '135', '354', '1263', '477', '544', '1134', '204', '534',\n",
       "       '870', '1292_', '1436', '1352', '594', '25', '1442'], dtype=object)"
      ]
     },
     "execution_count": 32,
     "metadata": {},
     "output_type": "execute_result"
    }
   ],
   "source": [
    "df['Num_of_Loan'].unique()"
   ]
  },
  {
   "cell_type": "code",
   "execution_count": 33,
   "metadata": {},
   "outputs": [],
   "source": [
    "df['Num_of_Loan']= df['Num_of_Loan'].str.replace('_','')"
   ]
  },
  {
   "cell_type": "code",
   "execution_count": 34,
   "metadata": {},
   "outputs": [],
   "source": [
    "df['Num_of_Loan']=df['Num_of_Loan'].astype(int)"
   ]
  },
  {
   "cell_type": "markdown",
   "metadata": {},
   "source": [
    "Num_of_Delayed_Payment"
   ]
  },
  {
   "cell_type": "code",
   "execution_count": 35,
   "metadata": {},
   "outputs": [
    {
     "data": {
      "text/plain": [
       "array(['7', nan, '4', '8_', '6', '1', '-1', '3_', '0', '5', '3', '9',\n",
       "       '12', '15', '17', '10', '2', '2_', '11', '14', '8', '20', '22',\n",
       "       '13', '13_', '14_', '16', '12_', '18', '19', '23', '21', '24',\n",
       "       '3318', '3083', '22_', '1338', '4_', '3104', '21_', '25', '10_',\n",
       "       '183_', '9_', '1106', '834', '19_', '26', '24_', '17_', '23_',\n",
       "       '2672', '20_', '2008', '-3', '538', '1_', '16_', '-2', '3478',\n",
       "       '2420', '15_', '707', '708', '26_', '18_', '3815', '11_', '28',\n",
       "       '27', '5_', '1867', '2250', '1463', '25_', '7_', '4126', '2882',\n",
       "       '1941', '2628', '132', '3069', '306', '0_', '6_', '3539', '3684',\n",
       "       '1823', '4128', '1946', '827', '2297', '2566', '904', '182', '929',\n",
       "       '3568', '2503', '1552', '2812', '1697', '851', '3905', '923', '88',\n",
       "       '1668', '3253', '808', '2689', '3858', '642', '3457', '1402',\n",
       "       '1732', '3154', '847', '3037', '2204', '3103', '1063', '2056',\n",
       "       '1282', '2569_', '211', '793', '3484', '411', '3491', '2072',\n",
       "       '3050', '1049', '2162', '3402', '27_', '1718', '1014', '3260',\n",
       "       '3855', '84', '2311', '3251', '1832', '4069', '3010', '733',\n",
       "       '4241', '166', '2461', '1749', '3200', '663_', '2185', '4161',\n",
       "       '3009', '359', '2015', '1523', '594', '1199', '186', '1015',\n",
       "       '1989', '281', '559', '2165', '1509', '3545', '779', '192', '-2_',\n",
       "       '2323', '1471', '1538', '3529', '3456', '3040', '2697', '3179',\n",
       "       '1332', '3175', '3112', '829', '4022', '3870', '4023', '531',\n",
       "       '3092', '3191', '2400', '3621', '3536', '544', '1864', '28_',\n",
       "       '142', '2300', '264', '72', '497', '398', '2222', '3960', '1473',\n",
       "       '3043', '4216', '2903', '2658', '-1_', '1323_', '2184', '921',\n",
       "       '1328', '3404', '2438', '809', '47', '1996', '4164', '1370',\n",
       "       '1204', '2167', '4011', '2594', '2533', '1663', '1018', '2919',\n",
       "       '3316', '2589', '2801', '3355', '2529', '2488', '4266', '1243',\n",
       "       '739', '845', '4107', '1884', '2660', '290', '674', '2450', '3738',\n",
       "       '1792', '2823', '775', '960', '1706', '2493', '3031', '2794_',\n",
       "       '2219_', '758_', '1849', '3559', '4096', '3726', '1953', '2657',\n",
       "       '4043', '2938', '4384', '1647', '2694', '3533', '519', '2677',\n",
       "       '2413', '-3_', '4139', '2609', '4326', '4211', '823', '3011',\n",
       "       '1608', '2860', '4219', '4047', '1531', '742', '52', '4024',\n",
       "       '1673', '49', '2243', '1685', '2587', '3489', '749', '1164',\n",
       "       '2616', '848_', '4134', '1530', '1502', '4075', '3845', '1060',\n",
       "       '2573', '2128', '640', '2585', '2230', '1795', '1180', '1534',\n",
       "       '3739', '3313', '4191', '996', '372', '3340', '3177', '602', '787',\n",
       "       '4135', '3878', '4059', '1766', '1359', '3107', '1263', '2511',\n",
       "       '709', '3632', '4077', '2943', '2793', '2317', '1640', '2237_',\n",
       "       '3819', '252', '3978', '1833', '2737', '1192', '1481', '271',\n",
       "       '2286', '273', '1215', '3944', '2070', '1478', '3749', '871',\n",
       "       '2508', '2959', '130', '294', '3097_', '3511', '415', '2196',\n",
       "       '2138', '2149', '1874', '1553', '3847', '3222', '1222', '2907',\n",
       "       '3051', '98', '1598', '416', '2314', '2955', '1691', '1450',\n",
       "       '2021', '1636', '80', '3708', '195', '320', '2945', '1911', '3416',\n",
       "       '3796', '2255', '938', '4397', '3776', '2148', '1994', '853',\n",
       "       '1178', '1633', '3864', '714', '1687', '1034', '468', '1337',\n",
       "       '2044', '1541', '3661', '1211', '2645', '2007', '102', '1891',\n",
       "       '3162', '3142', '2566_', '2766', '3881', '2728', '1952', '3580',\n",
       "       '2705', '3840_', '972', '3119', '3502', '4185', '2954', '683',\n",
       "       '1614', '1572', '4302', '3447', '1852', '2131', '1900', '1699',\n",
       "       '133', '2018', '2127', '508', '577', '1664', '2604', '1411',\n",
       "       '2351', '1371', '2352', '1191', '905', '4053', '3869', '933',\n",
       "       '3660', '3300', '3629', '3208', '2142', '2521', '450', '583',\n",
       "       '876', '121', '3919', '2560', '2578', '2060', '1236', '1489',\n",
       "       '4360', '1154', '2544', '4172', '2924', '4270', '3909', '3951',\n",
       "       '2712', '2498', '3171', '1750', '197', '2569', '265', '4293',\n",
       "       '887', '2707', '2397', '4337', '4249', '2950', '1859', '107',\n",
       "       '2348', '2506', '2810', '2873', '1301', '2262', '1890', '3078',\n",
       "       '3865', '3268', '3105', '1278', '3793', '2276', '2879', '4298',\n",
       "       '2141', '223', '2239', '846', '1862', '2756', '1181', '1184',\n",
       "       '2617', '3972', '2334', '3900', '2759', '4169', '2280', '2492',\n",
       "       '2729', '3750', '1825', '309', '2431', '3099', '2080', '2279',\n",
       "       '2666', '3722', '1976', '529', '1985', '3060', '4278', '3212',\n",
       "       '3148', '3467', '3790', '473', '1536', '3955', '2324', '2381',\n",
       "       '1177', '371', '2896', '3880', '2991', '4319', '1061', '662',\n",
       "       '4144', '693', '2006', '3115', '3751', '1861', '4262', '2913',\n",
       "       '3492', '800', '3766', '384', '3407', '1087', '1086', '2216',\n",
       "       '1087_', '3522', '3274', '3488', '238', '351', '3706', '4280',\n",
       "       '4095', '2926', '1329', '3370', '283', '1392', '2429', '974',\n",
       "       '3156', '1133', '4388', '3243', '4282', '2523', '4281', '3415',\n",
       "       '2001', '441', '94', '3499', '969', '3368', '1004', '2638', '3946',\n",
       "       '2956', '4324', '85', '4113', '819', '1172', '2553', '1765',\n",
       "       '3495', '4239', '4340', '1295_', '2636', '4295', '1653', '1325',\n",
       "       '1879', '1096', '1735', '3584', '1975', '3827', '2552', '3754',\n",
       "       '2378', '532', '926', '2376', '3636', '3763', '778', '2621', '804',\n",
       "       '754', '2418', '4019', '3926', '3861_', '3574', '175', '162',\n",
       "       '2834', '3765', '523', '2274', '1606', '1443', '1354', '2142_',\n",
       "       '1422', '4231', '2278', '1045', '4106', '3155', '666', '659',\n",
       "       '3229', '1841', '1216', '2076', '1473_', '2384', '1954', '719',\n",
       "       '2534', '4002', '541', '2875', '4344', '2081', '3894', '1256',\n",
       "       '676', '4178', '399', '86', '1571', '4037', '1967', '4005', '2671',\n",
       "       '1150', '2591', '1801', '3721', '1775', '2260', '3707', '4292',\n",
       "       '1820', '145', '1480', '1850', '430', '217', '3920_', '1389',\n",
       "       '1579', '3391', '2385', '3336', '3392', '3688', '221', '2047',\n",
       "       '1942', '2077', '210', '1314', '429', '759', '2806', '2465',\n",
       "       '4246', '1186', '75', '1134', '1230', '4318', '1491', '1591',\n",
       "       '3552', '3667', '420', '2606', '959', '1122', '3178', '3472',\n",
       "       '3398', '1486', '4086', '861', '586', '873', '3948', '2503_',\n",
       "       '3627', '3825', '3954', '376', '2354', '4343', '391', '1334',\n",
       "       '1958', '2608', '456', '1274', '452', '227_', '3097', '2730',\n",
       "       '2161', '377', '762', '1131', '2649', '1544', '4136', '1377',\n",
       "       '2412', '3508_', '3429', '975_', '518', '657', '3477', '370',\n",
       "       '1234', '1080', '3057', '1065', '2819', '2583', '2497', '3479',\n",
       "       '3689', '2273', '2403', '697', '1802', '1880', '181', '3591',\n",
       "       '2912', '1356', '1117', '590', '1095', '1562', '100', '1355',\n",
       "       '1235', '2822', '1035', '832', '2942', '2802', '4351', '549',\n",
       "       '3393', '3556', '288', '1146', '975', '2424', '345', '2269', '179',\n",
       "       '1513', '3071', '2817_', '700', '2836', '434', '2347', '2999',\n",
       "       '687', '2344_', '1437', '483', '4374', '3898', '918', '1963',\n",
       "       '864', '1570', '1511', '1297', '1881', '414', '4399', '4044',\n",
       "       '773', '1632', '427', '961', '3652', '952', '4091_', '3863',\n",
       "       '3853', '1809', '3425', '2803', '1069', '750', '1959', '1990',\n",
       "       '1166', '3565_', '2032', '2595', '226', '482', '599', '3379',\n",
       "       '992', '3589', '292', '2767', '617', '1246', '2259', '1085',\n",
       "       '2653', '652', '3744', '1223', '3520', '2392', '817', '2148_',\n",
       "       '806', '3161', '3945', '1630', '2902', '1904', '524', '1921',\n",
       "       '4088', '2885', '2172', '1149', '1542', '1312', '2055_', '1309',\n",
       "       '3803', '3064', '1761', '878', '4133', '3392_', '2026', '358',\n",
       "       '2368', '2570', '3032', '828', '4206', '1344', '1885', '3862',\n",
       "       '841', '1385', '3807', '1169', '1682', '1703', '909', '2287',\n",
       "       '688', '1410', '1698', '2527', '2401', '4131', '1907', '2388',\n",
       "       '4214', '4026', '726', '3000', '2748', '820', '2704', '2538',\n",
       "       '3535', '1055', '1265', '1968', '3630', '1290', '1287', '502',\n",
       "       '459', '3812', '1059', '2170', '69', '3192', '2407', '2358',\n",
       "       '3608', '1289', '2953', '3734', '3757', '2052', '4141', '883',\n",
       "       '1751', '1368', '2410', '3058', '3633', '4160', '889', '2208',\n",
       "       '2171', '4265', '989', '3971', '1097', '3920', '1634', '481_',\n",
       "       '97_', '3390', '548', '947', '225', '2346', '3273', '4313', '3622',\n",
       "       '3124', '3843_', '1779', '1619', '3406', '3246', '3666', '1616',\n",
       "       '2601', '528', '3594', '272', '3637', '174', '3240', '1805',\n",
       "       '3913', '533', '332', '2034'], dtype=object)"
      ]
     },
     "execution_count": 35,
     "metadata": {},
     "output_type": "execute_result"
    }
   ],
   "source": [
    "df['Num_of_Delayed_Payment'].unique()"
   ]
  },
  {
   "cell_type": "code",
   "execution_count": 36,
   "metadata": {},
   "outputs": [
    {
     "data": {
      "text/plain": [
       "Num_of_Delayed_Payment\n",
       "NaN     9778\n",
       "19      7412\n",
       "17      7265\n",
       "10      7169\n",
       "16      7137\n",
       "        ... \n",
       "905        1\n",
       "4053       1\n",
       "3869       1\n",
       "933        1\n",
       "2034       1\n",
       "Name: count, Length: 999, dtype: int64"
      ]
     },
     "execution_count": 36,
     "metadata": {},
     "output_type": "execute_result"
    }
   ],
   "source": [
    "df['Num_of_Delayed_Payment'].value_counts(dropna=False)"
   ]
  },
  {
   "cell_type": "code",
   "execution_count": 37,
   "metadata": {},
   "outputs": [],
   "source": [
    "df['Num_of_Delayed_Payment']= df['Num_of_Delayed_Payment'].str.replace('_','')"
   ]
  },
  {
   "cell_type": "code",
   "execution_count": 38,
   "metadata": {},
   "outputs": [],
   "source": [
    "\n",
    "df['Num_of_Delayed_Payment']= df['Num_of_Delayed_Payment'].fillna(df['Num_of_Delayed_Payment'].median())\n",
    "\n"
   ]
  },
  {
   "cell_type": "code",
   "execution_count": 39,
   "metadata": {},
   "outputs": [],
   "source": [
    "df['Num_of_Delayed_Payment']=df['Num_of_Delayed_Payment'].astype(int)"
   ]
  },
  {
   "cell_type": "code",
   "execution_count": 40,
   "metadata": {},
   "outputs": [
    {
     "data": {
      "text/html": [
       "<div>\n",
       "<style scoped>\n",
       "    .dataframe tbody tr th:only-of-type {\n",
       "        vertical-align: middle;\n",
       "    }\n",
       "\n",
       "    .dataframe tbody tr th {\n",
       "        vertical-align: top;\n",
       "    }\n",
       "\n",
       "    .dataframe thead th {\n",
       "        text-align: right;\n",
       "    }\n",
       "</style>\n",
       "<table border=\"1\" class=\"dataframe\">\n",
       "  <thead>\n",
       "    <tr style=\"text-align: right;\">\n",
       "      <th></th>\n",
       "      <th>Type_of_Loan</th>\n",
       "      <th>Changed_Credit_Limit</th>\n",
       "      <th>Credit_Mix</th>\n",
       "      <th>Outstanding_Debt</th>\n",
       "      <th>Credit_History_Age</th>\n",
       "      <th>Payment_of_Min_Amount</th>\n",
       "      <th>Amount_invested_monthly</th>\n",
       "      <th>Payment_Behaviour</th>\n",
       "      <th>Monthly_Balance</th>\n",
       "      <th>Credit_Score</th>\n",
       "    </tr>\n",
       "  </thead>\n",
       "  <tbody>\n",
       "    <tr>\n",
       "      <th>0</th>\n",
       "      <td>Auto Loan, Credit-Builder Loan, Personal Loan,...</td>\n",
       "      <td>11.27</td>\n",
       "      <td>_</td>\n",
       "      <td>809.98</td>\n",
       "      <td>22 Years and 1 Months</td>\n",
       "      <td>No</td>\n",
       "      <td>80.41529543900253</td>\n",
       "      <td>High_spent_Small_value_payments</td>\n",
       "      <td>312.49408867943663</td>\n",
       "      <td>Good</td>\n",
       "    </tr>\n",
       "    <tr>\n",
       "      <th>1</th>\n",
       "      <td>Auto Loan, Credit-Builder Loan, Personal Loan,...</td>\n",
       "      <td>11.27</td>\n",
       "      <td>Good</td>\n",
       "      <td>809.98</td>\n",
       "      <td>NaN</td>\n",
       "      <td>No</td>\n",
       "      <td>118.28022162236736</td>\n",
       "      <td>Low_spent_Large_value_payments</td>\n",
       "      <td>284.62916249607184</td>\n",
       "      <td>Good</td>\n",
       "    </tr>\n",
       "  </tbody>\n",
       "</table>\n",
       "</div>"
      ],
      "text/plain": [
       "                                        Type_of_Loan Changed_Credit_Limit  \\\n",
       "0  Auto Loan, Credit-Builder Loan, Personal Loan,...                11.27   \n",
       "1  Auto Loan, Credit-Builder Loan, Personal Loan,...                11.27   \n",
       "\n",
       "  Credit_Mix Outstanding_Debt     Credit_History_Age Payment_of_Min_Amount  \\\n",
       "0          _           809.98  22 Years and 1 Months                    No   \n",
       "1       Good           809.98                    NaN                    No   \n",
       "\n",
       "  Amount_invested_monthly                Payment_Behaviour  \\\n",
       "0       80.41529543900253  High_spent_Small_value_payments   \n",
       "1      118.28022162236736   Low_spent_Large_value_payments   \n",
       "\n",
       "      Monthly_Balance Credit_Score  \n",
       "0  312.49408867943663         Good  \n",
       "1  284.62916249607184         Good  "
      ]
     },
     "execution_count": 40,
     "metadata": {},
     "output_type": "execute_result"
    }
   ],
   "source": [
    "df.select_dtypes(include=['object']).head(2)"
   ]
  },
  {
   "cell_type": "markdown",
   "metadata": {},
   "source": [
    "Changed_Credit_Limit"
   ]
  },
  {
   "cell_type": "code",
   "execution_count": 41,
   "metadata": {},
   "outputs": [
    {
     "data": {
      "text/plain": [
       "array(['11.27', '_', '6.27', ..., '-1.6', '-4.6', '29.17'], dtype=object)"
      ]
     },
     "execution_count": 41,
     "metadata": {},
     "output_type": "execute_result"
    }
   ],
   "source": [
    "df['Changed_Credit_Limit'].unique()"
   ]
  },
  {
   "cell_type": "code",
   "execution_count": 42,
   "metadata": {},
   "outputs": [
    {
     "data": {
      "text/plain": [
       "Changed_Credit_Limit\n",
       "_                      2930\n",
       "11.5                    187\n",
       "11.32                   184\n",
       "8.22                    177\n",
       "10.06                   166\n",
       "                       ... \n",
       "-0.5699999999999998       1\n",
       "34.77                     1\n",
       "30.45                     1\n",
       "32.370000000000005        1\n",
       "29.17                     1\n",
       "Name: count, Length: 4578, dtype: int64"
      ]
     },
     "execution_count": 42,
     "metadata": {},
     "output_type": "execute_result"
    }
   ],
   "source": [
    "df['Changed_Credit_Limit'].value_counts()"
   ]
  },
  {
   "cell_type": "code",
   "execution_count": 43,
   "metadata": {},
   "outputs": [],
   "source": [
    "df['Changed_Credit_Limit']=df['Changed_Credit_Limit'].replace ('_', pd.NA)"
   ]
  },
  {
   "cell_type": "code",
   "execution_count": 44,
   "metadata": {},
   "outputs": [
    {
     "data": {
      "text/plain": [
       "Changed_Credit_Limit\n",
       "<NA>                   2930\n",
       "11.5                    187\n",
       "11.32                   184\n",
       "8.22                    177\n",
       "10.06                   166\n",
       "                       ... \n",
       "-0.5699999999999998       1\n",
       "34.77                     1\n",
       "30.45                     1\n",
       "32.370000000000005        1\n",
       "29.17                     1\n",
       "Name: count, Length: 4578, dtype: int64"
      ]
     },
     "execution_count": 44,
     "metadata": {},
     "output_type": "execute_result"
    }
   ],
   "source": [
    "df['Changed_Credit_Limit'].value_counts(dropna=False)"
   ]
  },
  {
   "cell_type": "code",
   "execution_count": 45,
   "metadata": {},
   "outputs": [],
   "source": [
    "df['Changed_Credit_Limit']=df['Changed_Credit_Limit'].fillna(df['Changed_Credit_Limit'].median())"
   ]
  },
  {
   "cell_type": "code",
   "execution_count": 46,
   "metadata": {},
   "outputs": [],
   "source": [
    "df['Changed_Credit_Limit']=df['Changed_Credit_Limit'].astype(float)"
   ]
  },
  {
   "cell_type": "markdown",
   "metadata": {},
   "source": [
    "Credit_Mix"
   ]
  },
  {
   "cell_type": "code",
   "execution_count": 47,
   "metadata": {},
   "outputs": [
    {
     "data": {
      "text/plain": [
       "array(['_', 'Good', 'Standard', 'Bad'], dtype=object)"
      ]
     },
     "execution_count": 47,
     "metadata": {},
     "output_type": "execute_result"
    }
   ],
   "source": [
    "df['Credit_Mix'].unique()"
   ]
  },
  {
   "cell_type": "code",
   "execution_count": 48,
   "metadata": {},
   "outputs": [],
   "source": [
    "df['Credit_Mix']=df['Credit_Mix'].replace('',pd.NA)"
   ]
  },
  {
   "cell_type": "code",
   "execution_count": 49,
   "metadata": {},
   "outputs": [],
   "source": [
    "df['Credit_Mix']=df['Credit_Mix'].fillna(df['Credit_Mix'].mode()[0])"
   ]
  },
  {
   "cell_type": "code",
   "execution_count": 50,
   "metadata": {},
   "outputs": [],
   "source": [
    "df['Credit_Mix']=df['Credit_Mix'].map({'Good':1, 'Standard':2, 'Bad': 3})"
   ]
  },
  {
   "cell_type": "markdown",
   "metadata": {},
   "source": [
    "Outstanding_Debt"
   ]
  },
  {
   "cell_type": "code",
   "execution_count": 51,
   "metadata": {},
   "outputs": [
    {
     "data": {
      "text/plain": [
       "array(['809.98', '605.03', '1303.01', ..., '559.18_', '3711.23_',\n",
       "       '732.11_'], dtype=object)"
      ]
     },
     "execution_count": 51,
     "metadata": {},
     "output_type": "execute_result"
    }
   ],
   "source": [
    "df['Outstanding_Debt'].unique()"
   ]
  },
  {
   "cell_type": "code",
   "execution_count": 52,
   "metadata": {},
   "outputs": [],
   "source": [
    "\n",
    "df['Outstanding_Debt']=df['Outstanding_Debt'].str.replace('_', '')"
   ]
  },
  {
   "cell_type": "code",
   "execution_count": 53,
   "metadata": {},
   "outputs": [
    {
     "data": {
      "text/plain": [
       "0"
      ]
     },
     "execution_count": 53,
     "metadata": {},
     "output_type": "execute_result"
    }
   ],
   "source": [
    "df['Outstanding_Debt'].isnull().sum()"
   ]
  },
  {
   "cell_type": "code",
   "execution_count": 54,
   "metadata": {},
   "outputs": [],
   "source": [
    "df['Outstanding_Debt']=df['Outstanding_Debt'].astype(float)"
   ]
  },
  {
   "cell_type": "markdown",
   "metadata": {},
   "source": [
    "Payment_of_Min_Amount"
   ]
  },
  {
   "cell_type": "code",
   "execution_count": 55,
   "metadata": {},
   "outputs": [
    {
     "data": {
      "text/plain": [
       "array(['No', 'NM', 'Yes'], dtype=object)"
      ]
     },
     "execution_count": 55,
     "metadata": {},
     "output_type": "execute_result"
    }
   ],
   "source": [
    "df['Payment_of_Min_Amount'].unique()"
   ]
  },
  {
   "cell_type": "code",
   "execution_count": 56,
   "metadata": {},
   "outputs": [
    {
     "data": {
      "text/plain": [
       "Payment_of_Min_Amount\n",
       "Yes    73031\n",
       "No     49772\n",
       "NM     16697\n",
       "Name: count, dtype: int64"
      ]
     },
     "execution_count": 56,
     "metadata": {},
     "output_type": "execute_result"
    }
   ],
   "source": [
    "df['Payment_of_Min_Amount'].value_counts()"
   ]
  },
  {
   "cell_type": "code",
   "execution_count": 57,
   "metadata": {},
   "outputs": [],
   "source": [
    "#replacing the strange NM value we have \n",
    "df['Payment_of_Min_Amount']=df['Payment_of_Min_Amount'].replace('NM', pd.NA)"
   ]
  },
  {
   "cell_type": "code",
   "execution_count": 58,
   "metadata": {},
   "outputs": [],
   "source": [
    "df['Payment_of_Min_Amount']=df['Payment_of_Min_Amount'].fillna(df['Payment_of_Min_Amount'].mode()[0])"
   ]
  },
  {
   "cell_type": "code",
   "execution_count": 59,
   "metadata": {},
   "outputs": [],
   "source": [
    "#target encoding\n",
    "df['Payment_of_Min_Amount']=df['Payment_of_Min_Amount'].map({'Yes':1, 'No':2})"
   ]
  },
  {
   "cell_type": "markdown",
   "metadata": {},
   "source": [
    "Amount_invested_monthly"
   ]
  },
  {
   "cell_type": "code",
   "execution_count": 60,
   "metadata": {},
   "outputs": [
    {
     "data": {
      "text/plain": [
       "array(['80.41529543900253', '118.28022162236736', '81.699521264648', ...,\n",
       "       '181.44299902757518', '97.59857973344877', '220.45787812168732'],\n",
       "      dtype=object)"
      ]
     },
     "execution_count": 60,
     "metadata": {},
     "output_type": "execute_result"
    }
   ],
   "source": [
    "df['Amount_invested_monthly'].unique()"
   ]
  },
  {
   "cell_type": "code",
   "execution_count": 61,
   "metadata": {},
   "outputs": [
    {
     "data": {
      "text/plain": [
       "6276"
      ]
     },
     "execution_count": 61,
     "metadata": {},
     "output_type": "execute_result"
    }
   ],
   "source": [
    "df['Amount_invested_monthly'].isnull().sum()"
   ]
  },
  {
   "cell_type": "code",
   "execution_count": 62,
   "metadata": {},
   "outputs": [],
   "source": [
    "df['Amount_invested_monthly']=df['Amount_invested_monthly'].str.replace('_','')"
   ]
  },
  {
   "cell_type": "code",
   "execution_count": 63,
   "metadata": {},
   "outputs": [],
   "source": [
    "df['Amount_invested_monthly']=df['Amount_invested_monthly'].fillna(df['Amount_invested_monthly'].median())"
   ]
  },
  {
   "cell_type": "code",
   "execution_count": 64,
   "metadata": {},
   "outputs": [],
   "source": [
    "df['Amount_invested_monthly']=df['Amount_invested_monthly'].astype(float)"
   ]
  },
  {
   "cell_type": "markdown",
   "metadata": {},
   "source": [
    "Payment_Behaviour"
   ]
  },
  {
   "cell_type": "code",
   "execution_count": 65,
   "metadata": {},
   "outputs": [
    {
     "data": {
      "text/plain": [
       "array(['High_spent_Small_value_payments',\n",
       "       'Low_spent_Large_value_payments',\n",
       "       'Low_spent_Medium_value_payments',\n",
       "       'Low_spent_Small_value_payments',\n",
       "       'High_spent_Medium_value_payments', '!@9#%8',\n",
       "       'High_spent_Large_value_payments'], dtype=object)"
      ]
     },
     "execution_count": 65,
     "metadata": {},
     "output_type": "execute_result"
    }
   ],
   "source": [
    "df['Payment_Behaviour'].unique()"
   ]
  },
  {
   "cell_type": "code",
   "execution_count": 66,
   "metadata": {},
   "outputs": [],
   "source": [
    "#replacing strange value \n",
    "df['Payment_Behaviour']=df['Payment_Behaviour'].replace('!@9#%8', pd.NA)"
   ]
  },
  {
   "cell_type": "code",
   "execution_count": 67,
   "metadata": {},
   "outputs": [
    {
     "data": {
      "text/plain": [
       "10648"
      ]
     },
     "execution_count": 67,
     "metadata": {},
     "output_type": "execute_result"
    }
   ],
   "source": [
    "df['Payment_Behaviour'].isnull().sum()"
   ]
  },
  {
   "cell_type": "code",
   "execution_count": 68,
   "metadata": {},
   "outputs": [],
   "source": [
    "df['Payment_Behaviour']=df['Payment_Behaviour'].map({'High_spent_Small_value_payments':1, 'Low_spent_Large_value_payments':2, 'Low_spent_Medium_value_payments':3, 'Low_spent_Small_value_payments':4, 'High_spent_Medium_value_payments':5, 'High_spent_Large_value_payments': 6})"
   ]
  },
  {
   "cell_type": "code",
   "execution_count": 69,
   "metadata": {},
   "outputs": [],
   "source": [
    "df['Payment_Behaviour']=df['Payment_Behaviour'].fillna(df['Payment_Behaviour'].mode()[0])"
   ]
  },
  {
   "cell_type": "markdown",
   "metadata": {},
   "source": [
    "Monthly_Balance\n"
   ]
  },
  {
   "cell_type": "code",
   "execution_count": 70,
   "metadata": {},
   "outputs": [
    {
     "data": {
      "text/plain": [
       "array(['312.49408867943663', '284.62916249607184', '331.2098628537912',\n",
       "       ..., '349.7263321025098', '463.23898098947717',\n",
       "       '360.37968260123847'], dtype=object)"
      ]
     },
     "execution_count": 70,
     "metadata": {},
     "output_type": "execute_result"
    }
   ],
   "source": [
    "df['Monthly_Balance'].unique()"
   ]
  },
  {
   "cell_type": "code",
   "execution_count": 71,
   "metadata": {},
   "outputs": [
    {
     "data": {
      "text/plain": [
       "1649"
      ]
     },
     "execution_count": 71,
     "metadata": {},
     "output_type": "execute_result"
    }
   ],
   "source": [
    "df['Monthly_Balance'].isnull().sum()"
   ]
  },
  {
   "cell_type": "code",
   "execution_count": 72,
   "metadata": {},
   "outputs": [],
   "source": [
    "df['Monthly_Balance']=df['Monthly_Balance'].fillna(df['Monthly_Balance'].mode()[0])"
   ]
  },
  {
   "cell_type": "code",
   "execution_count": 73,
   "metadata": {},
   "outputs": [],
   "source": [
    "df['Monthly_Balance']=df['Monthly_Balance'].str.replace('_','')"
   ]
  },
  {
   "cell_type": "code",
   "execution_count": 74,
   "metadata": {},
   "outputs": [],
   "source": [
    "df['Monthly_Balance']=df['Monthly_Balance'].astype(float)"
   ]
  },
  {
   "cell_type": "code",
   "execution_count": 75,
   "metadata": {},
   "outputs": [
    {
     "data": {
      "text/html": [
       "<div>\n",
       "<style scoped>\n",
       "    .dataframe tbody tr th:only-of-type {\n",
       "        vertical-align: middle;\n",
       "    }\n",
       "\n",
       "    .dataframe tbody tr th {\n",
       "        vertical-align: top;\n",
       "    }\n",
       "\n",
       "    .dataframe thead th {\n",
       "        text-align: right;\n",
       "    }\n",
       "</style>\n",
       "<table border=\"1\" class=\"dataframe\">\n",
       "  <thead>\n",
       "    <tr style=\"text-align: right;\">\n",
       "      <th></th>\n",
       "      <th>Type_of_Loan</th>\n",
       "      <th>Credit_History_Age</th>\n",
       "      <th>Credit_Score</th>\n",
       "    </tr>\n",
       "  </thead>\n",
       "  <tbody>\n",
       "    <tr>\n",
       "      <th>0</th>\n",
       "      <td>Auto Loan, Credit-Builder Loan, Personal Loan,...</td>\n",
       "      <td>22 Years and 1 Months</td>\n",
       "      <td>Good</td>\n",
       "    </tr>\n",
       "    <tr>\n",
       "      <th>1</th>\n",
       "      <td>Auto Loan, Credit-Builder Loan, Personal Loan,...</td>\n",
       "      <td>NaN</td>\n",
       "      <td>Good</td>\n",
       "    </tr>\n",
       "    <tr>\n",
       "      <th>2</th>\n",
       "      <td>Auto Loan, Credit-Builder Loan, Personal Loan,...</td>\n",
       "      <td>22 Years and 3 Months</td>\n",
       "      <td>Good</td>\n",
       "    </tr>\n",
       "    <tr>\n",
       "      <th>3</th>\n",
       "      <td>Auto Loan, Credit-Builder Loan, Personal Loan,...</td>\n",
       "      <td>22 Years and 4 Months</td>\n",
       "      <td>Good</td>\n",
       "    </tr>\n",
       "    <tr>\n",
       "      <th>4</th>\n",
       "      <td>Auto Loan, Credit-Builder Loan, Personal Loan,...</td>\n",
       "      <td>22 Years and 5 Months</td>\n",
       "      <td>Good</td>\n",
       "    </tr>\n",
       "  </tbody>\n",
       "</table>\n",
       "</div>"
      ],
      "text/plain": [
       "                                        Type_of_Loan     Credit_History_Age  \\\n",
       "0  Auto Loan, Credit-Builder Loan, Personal Loan,...  22 Years and 1 Months   \n",
       "1  Auto Loan, Credit-Builder Loan, Personal Loan,...                    NaN   \n",
       "2  Auto Loan, Credit-Builder Loan, Personal Loan,...  22 Years and 3 Months   \n",
       "3  Auto Loan, Credit-Builder Loan, Personal Loan,...  22 Years and 4 Months   \n",
       "4  Auto Loan, Credit-Builder Loan, Personal Loan,...  22 Years and 5 Months   \n",
       "\n",
       "  Credit_Score  \n",
       "0         Good  \n",
       "1         Good  \n",
       "2         Good  \n",
       "3         Good  \n",
       "4         Good  "
      ]
     },
     "execution_count": 75,
     "metadata": {},
     "output_type": "execute_result"
    }
   ],
   "source": [
    "df.select_dtypes(include=['object']).head()"
   ]
  },
  {
   "cell_type": "markdown",
   "metadata": {},
   "source": [
    "Type_of_Loan"
   ]
  },
  {
   "cell_type": "code",
   "execution_count": 76,
   "metadata": {},
   "outputs": [
    {
     "data": {
      "text/plain": [
       "array(['Auto Loan, Credit-Builder Loan, Personal Loan, and Home Equity Loan',\n",
       "       'Credit-Builder Loan', 'Auto Loan, Auto Loan, and Not Specified',\n",
       "       ..., 'Home Equity Loan, Auto Loan, Auto Loan, and Auto Loan',\n",
       "       'Payday Loan, Student Loan, Mortgage Loan, and Not Specified',\n",
       "       'Personal Loan, Auto Loan, Mortgage Loan, Student Loan, and Student Loan'],\n",
       "      dtype=object)"
      ]
     },
     "execution_count": 76,
     "metadata": {},
     "output_type": "execute_result"
    }
   ],
   "source": [
    "df['Type_of_Loan'].unique()"
   ]
  },
  {
   "cell_type": "markdown",
   "metadata": {},
   "source": [
    "contains different types of loan listed in a single row, this is splitted , so each loan stands alone"
   ]
  },
  {
   "cell_type": "code",
   "execution_count": 77,
   "metadata": {},
   "outputs": [],
   "source": [
    "\n",
    "\n",
    "df['Type_of_Loan'] = df['Type_of_Loan'].str.replace('and', ',')  # Replace 'and' with commas\n"
   ]
  },
  {
   "cell_type": "code",
   "execution_count": 78,
   "metadata": {},
   "outputs": [],
   "source": [
    "df['Type_of_Loan'] = df['Type_of_Loan'].str.split(',')  # Split the string into a list"
   ]
  },
  {
   "cell_type": "code",
   "execution_count": 79,
   "metadata": {},
   "outputs": [],
   "source": [
    "df = df.explode('Type_of_Loan')"
   ]
  },
  {
   "cell_type": "code",
   "execution_count": 80,
   "metadata": {},
   "outputs": [],
   "source": [
    "df['Type_of_Loan'] = df['Type_of_Loan'].str.strip(', ') #stripping away the commas \n",
    "df.reset_index(drop=True, inplace=True)"
   ]
  },
  {
   "cell_type": "code",
   "execution_count": 81,
   "metadata": {},
   "outputs": [],
   "source": [
    "df['Type_of_Loan']= df['Type_of_Loan'].fillna(df['Type_of_Loan'].mode()[0])"
   ]
  },
  {
   "cell_type": "code",
   "execution_count": 82,
   "metadata": {},
   "outputs": [],
   "source": [
    "df['Type_of_Loan']= df['Type_of_Loan'].replace('',pd.NA)"
   ]
  },
  {
   "cell_type": "code",
   "execution_count": 83,
   "metadata": {},
   "outputs": [],
   "source": [
    "df['Type_of_Loan']= df['Type_of_Loan'].replace('Not Specified',pd.NA)"
   ]
  },
  {
   "cell_type": "code",
   "execution_count": 84,
   "metadata": {},
   "outputs": [],
   "source": [
    "df.dropna(subset=['Type_of_Loan'], inplace=True)"
   ]
  },
  {
   "cell_type": "code",
   "execution_count": 85,
   "metadata": {},
   "outputs": [
    {
     "data": {
      "text/plain": [
       "Type_of_Loan\n",
       "Payday Loan                56630\n",
       "Credit-Builder Loan        56529\n",
       "Home Equity Loan           54560\n",
       "Mortgage Loan              54394\n",
       "Student Loan               54269\n",
       "Personal Loan              54264\n",
       "Debt Consolidation Loan    54102\n",
       "Auto Loan                  53053\n",
       "Name: count, dtype: int64"
      ]
     },
     "execution_count": 85,
     "metadata": {},
     "output_type": "execute_result"
    }
   ],
   "source": [
    "df['Type_of_Loan'].value_counts(dropna=False)"
   ]
  },
  {
   "cell_type": "code",
   "execution_count": 86,
   "metadata": {},
   "outputs": [],
   "source": [
    "#encoding this category using one-hot-encoder\n",
    "\n",
    "df = pd.get_dummies(df, prefix='Type_of_Loan', columns=['Type_of_Loan'], drop_first=True )"
   ]
  },
  {
   "cell_type": "code",
   "execution_count": 87,
   "metadata": {},
   "outputs": [
    {
     "data": {
      "text/html": [
       "<div>\n",
       "<style scoped>\n",
       "    .dataframe tbody tr th:only-of-type {\n",
       "        vertical-align: middle;\n",
       "    }\n",
       "\n",
       "    .dataframe tbody tr th {\n",
       "        vertical-align: top;\n",
       "    }\n",
       "\n",
       "    .dataframe thead th {\n",
       "        text-align: right;\n",
       "    }\n",
       "</style>\n",
       "<table border=\"1\" class=\"dataframe\">\n",
       "  <thead>\n",
       "    <tr style=\"text-align: right;\">\n",
       "      <th></th>\n",
       "      <th>Month</th>\n",
       "      <th>Age</th>\n",
       "      <th>Annual_Income</th>\n",
       "      <th>Monthly_Inhand_Salary</th>\n",
       "      <th>Num_Bank_Accounts</th>\n",
       "      <th>Num_Credit_Card</th>\n",
       "      <th>Interest_Rate</th>\n",
       "      <th>Num_of_Loan</th>\n",
       "      <th>Delay_from_due_date</th>\n",
       "      <th>Num_of_Delayed_Payment</th>\n",
       "      <th>Changed_Credit_Limit</th>\n",
       "      <th>Num_Credit_Inquiries</th>\n",
       "      <th>Credit_Mix</th>\n",
       "      <th>Outstanding_Debt</th>\n",
       "      <th>Credit_Utilization_Ratio</th>\n",
       "      <th>Credit_History_Age</th>\n",
       "      <th>Payment_of_Min_Amount</th>\n",
       "      <th>Total_EMI_per_month</th>\n",
       "      <th>Amount_invested_monthly</th>\n",
       "      <th>Payment_Behaviour</th>\n",
       "      <th>Monthly_Balance</th>\n",
       "      <th>Credit_Score</th>\n",
       "      <th>Occupation_Architect</th>\n",
       "      <th>Occupation_Developer</th>\n",
       "      <th>Occupation_Doctor</th>\n",
       "      <th>Occupation_Engineer</th>\n",
       "      <th>Occupation_Entrepreneur</th>\n",
       "      <th>Occupation_Journalist</th>\n",
       "      <th>Occupation_Lawyer</th>\n",
       "      <th>Occupation_Manager</th>\n",
       "      <th>Occupation_Mechanic</th>\n",
       "      <th>Occupation_Media_Manager</th>\n",
       "      <th>Occupation_Musician</th>\n",
       "      <th>Occupation_Scientist</th>\n",
       "      <th>Occupation_Teacher</th>\n",
       "      <th>Occupation_Writer</th>\n",
       "      <th>Type_of_Loan_Credit-Builder Loan</th>\n",
       "      <th>Type_of_Loan_Debt Consolidation Loan</th>\n",
       "      <th>Type_of_Loan_Home Equity Loan</th>\n",
       "      <th>Type_of_Loan_Mortgage Loan</th>\n",
       "      <th>Type_of_Loan_Payday Loan</th>\n",
       "      <th>Type_of_Loan_Personal Loan</th>\n",
       "      <th>Type_of_Loan_Student Loan</th>\n",
       "    </tr>\n",
       "  </thead>\n",
       "  <tbody>\n",
       "    <tr>\n",
       "      <th>0</th>\n",
       "      <td>1</td>\n",
       "      <td>23</td>\n",
       "      <td>19114.12</td>\n",
       "      <td>1824.843333</td>\n",
       "      <td>3</td>\n",
       "      <td>4</td>\n",
       "      <td>3</td>\n",
       "      <td>4</td>\n",
       "      <td>3</td>\n",
       "      <td>7</td>\n",
       "      <td>11.27</td>\n",
       "      <td>4.0</td>\n",
       "      <td>NaN</td>\n",
       "      <td>809.98</td>\n",
       "      <td>26.82262</td>\n",
       "      <td>22 Years and 1 Months</td>\n",
       "      <td>2</td>\n",
       "      <td>49.574949</td>\n",
       "      <td>80.415295</td>\n",
       "      <td>1.0</td>\n",
       "      <td>312.494089</td>\n",
       "      <td>Good</td>\n",
       "      <td>0</td>\n",
       "      <td>0</td>\n",
       "      <td>0</td>\n",
       "      <td>0</td>\n",
       "      <td>0</td>\n",
       "      <td>0</td>\n",
       "      <td>0</td>\n",
       "      <td>0</td>\n",
       "      <td>0</td>\n",
       "      <td>0</td>\n",
       "      <td>0</td>\n",
       "      <td>1</td>\n",
       "      <td>0</td>\n",
       "      <td>0</td>\n",
       "      <td>False</td>\n",
       "      <td>False</td>\n",
       "      <td>False</td>\n",
       "      <td>False</td>\n",
       "      <td>False</td>\n",
       "      <td>False</td>\n",
       "      <td>False</td>\n",
       "    </tr>\n",
       "    <tr>\n",
       "      <th>1</th>\n",
       "      <td>1</td>\n",
       "      <td>23</td>\n",
       "      <td>19114.12</td>\n",
       "      <td>1824.843333</td>\n",
       "      <td>3</td>\n",
       "      <td>4</td>\n",
       "      <td>3</td>\n",
       "      <td>4</td>\n",
       "      <td>3</td>\n",
       "      <td>7</td>\n",
       "      <td>11.27</td>\n",
       "      <td>4.0</td>\n",
       "      <td>NaN</td>\n",
       "      <td>809.98</td>\n",
       "      <td>26.82262</td>\n",
       "      <td>22 Years and 1 Months</td>\n",
       "      <td>2</td>\n",
       "      <td>49.574949</td>\n",
       "      <td>80.415295</td>\n",
       "      <td>1.0</td>\n",
       "      <td>312.494089</td>\n",
       "      <td>Good</td>\n",
       "      <td>0</td>\n",
       "      <td>0</td>\n",
       "      <td>0</td>\n",
       "      <td>0</td>\n",
       "      <td>0</td>\n",
       "      <td>0</td>\n",
       "      <td>0</td>\n",
       "      <td>0</td>\n",
       "      <td>0</td>\n",
       "      <td>0</td>\n",
       "      <td>0</td>\n",
       "      <td>1</td>\n",
       "      <td>0</td>\n",
       "      <td>0</td>\n",
       "      <td>True</td>\n",
       "      <td>False</td>\n",
       "      <td>False</td>\n",
       "      <td>False</td>\n",
       "      <td>False</td>\n",
       "      <td>False</td>\n",
       "      <td>False</td>\n",
       "    </tr>\n",
       "  </tbody>\n",
       "</table>\n",
       "</div>"
      ],
      "text/plain": [
       "   Month  Age  Annual_Income  Monthly_Inhand_Salary  Num_Bank_Accounts  \\\n",
       "0      1   23       19114.12            1824.843333                  3   \n",
       "1      1   23       19114.12            1824.843333                  3   \n",
       "\n",
       "   Num_Credit_Card  Interest_Rate  Num_of_Loan  Delay_from_due_date  \\\n",
       "0                4              3            4                    3   \n",
       "1                4              3            4                    3   \n",
       "\n",
       "   Num_of_Delayed_Payment  Changed_Credit_Limit  Num_Credit_Inquiries  \\\n",
       "0                       7                 11.27                   4.0   \n",
       "1                       7                 11.27                   4.0   \n",
       "\n",
       "   Credit_Mix  Outstanding_Debt  Credit_Utilization_Ratio  \\\n",
       "0         NaN            809.98                  26.82262   \n",
       "1         NaN            809.98                  26.82262   \n",
       "\n",
       "      Credit_History_Age  Payment_of_Min_Amount  Total_EMI_per_month  \\\n",
       "0  22 Years and 1 Months                      2            49.574949   \n",
       "1  22 Years and 1 Months                      2            49.574949   \n",
       "\n",
       "   Amount_invested_monthly  Payment_Behaviour  Monthly_Balance Credit_Score  \\\n",
       "0                80.415295                1.0       312.494089         Good   \n",
       "1                80.415295                1.0       312.494089         Good   \n",
       "\n",
       "   Occupation_Architect  Occupation_Developer  Occupation_Doctor  \\\n",
       "0                     0                     0                  0   \n",
       "1                     0                     0                  0   \n",
       "\n",
       "   Occupation_Engineer  Occupation_Entrepreneur  Occupation_Journalist  \\\n",
       "0                    0                        0                      0   \n",
       "1                    0                        0                      0   \n",
       "\n",
       "   Occupation_Lawyer  Occupation_Manager  Occupation_Mechanic  \\\n",
       "0                  0                   0                    0   \n",
       "1                  0                   0                    0   \n",
       "\n",
       "   Occupation_Media_Manager  Occupation_Musician  Occupation_Scientist  \\\n",
       "0                         0                    0                     1   \n",
       "1                         0                    0                     1   \n",
       "\n",
       "   Occupation_Teacher  Occupation_Writer  Type_of_Loan_Credit-Builder Loan  \\\n",
       "0                   0                  0                             False   \n",
       "1                   0                  0                              True   \n",
       "\n",
       "   Type_of_Loan_Debt Consolidation Loan  Type_of_Loan_Home Equity Loan  \\\n",
       "0                                 False                          False   \n",
       "1                                 False                          False   \n",
       "\n",
       "   Type_of_Loan_Mortgage Loan  Type_of_Loan_Payday Loan  \\\n",
       "0                       False                     False   \n",
       "1                       False                     False   \n",
       "\n",
       "   Type_of_Loan_Personal Loan  Type_of_Loan_Student Loan  \n",
       "0                       False                      False  \n",
       "1                       False                      False  "
      ]
     },
     "execution_count": 87,
     "metadata": {},
     "output_type": "execute_result"
    }
   ],
   "source": [
    "df.head(2)"
   ]
  },
  {
   "cell_type": "code",
   "execution_count": 88,
   "metadata": {},
   "outputs": [],
   "source": [
    "columns_to_converti = ['Type_of_Loan_Credit-Builder Loan','Type_of_Loan_Debt Consolidation Loan', 'Type_of_Loan_Home Equity Loan','Type_of_Loan_Mortgage Loan', 'Type_of_Loan_Payday Loan','Type_of_Loan_Personal Loan', 'Type_of_Loan_Student Loan']"
   ]
  },
  {
   "cell_type": "code",
   "execution_count": 89,
   "metadata": {},
   "outputs": [],
   "source": [
    "df[columns_to_converti]=df[columns_to_converti].astype(int)"
   ]
  },
  {
   "cell_type": "markdown",
   "metadata": {},
   "source": [
    "Credit_History_Age"
   ]
  },
  {
   "cell_type": "code",
   "execution_count": 90,
   "metadata": {},
   "outputs": [
    {
     "data": {
      "text/plain": [
       "array(['22 Years and 1 Months', nan, '22 Years and 3 Months',\n",
       "       '22 Years and 4 Months', '22 Years and 5 Months',\n",
       "       '22 Years and 6 Months', '22 Years and 7 Months',\n",
       "       '26 Years and 8 Months', '26 Years and 9 Months',\n",
       "       '26 Years and 10 Months', '26 Years and 11 Months',\n",
       "       '27 Years and 0 Months', '27 Years and 1 Months',\n",
       "       '27 Years and 2 Months', '17 Years and 10 Months',\n",
       "       '18 Years and 2 Months', '18 Years and 3 Months',\n",
       "       '18 Years and 4 Months', '30 Years and 7 Months',\n",
       "       '30 Years and 8 Months', '30 Years and 9 Months',\n",
       "       '30 Years and 10 Months', '30 Years and 11 Months',\n",
       "       '31 Years and 0 Months', '31 Years and 1 Months',\n",
       "       '31 Years and 2 Months', '14 Years and 8 Months',\n",
       "       '14 Years and 9 Months', '15 Years and 0 Months',\n",
       "       '15 Years and 1 Months', '15 Years and 2 Months',\n",
       "       '21 Years and 4 Months', '21 Years and 5 Months',\n",
       "       '21 Years and 6 Months', '21 Years and 7 Months',\n",
       "       '21 Years and 8 Months', '21 Years and 9 Months',\n",
       "       '21 Years and 10 Months', '21 Years and 11 Months',\n",
       "       '26 Years and 6 Months', '26 Years and 7 Months',\n",
       "       '19 Years and 2 Months', '19 Years and 3 Months',\n",
       "       '19 Years and 5 Months', '19 Years and 6 Months',\n",
       "       '19 Years and 7 Months', '19 Years and 8 Months',\n",
       "       '25 Years and 5 Months', '25 Years and 6 Months',\n",
       "       '25 Years and 7 Months', '25 Years and 8 Months',\n",
       "       '25 Years and 9 Months', '25 Years and 10 Months',\n",
       "       '25 Years and 11 Months', '26 Years and 0 Months',\n",
       "       '27 Years and 3 Months', '27 Years and 4 Months',\n",
       "       '27 Years and 5 Months', '8 Years and 11 Months',\n",
       "       '9 Years and 0 Months', '9 Years and 1 Months',\n",
       "       '9 Years and 2 Months', '9 Years and 3 Months',\n",
       "       '9 Years and 4 Months', '9 Years and 6 Months',\n",
       "       '18 Years and 5 Months', '18 Years and 6 Months',\n",
       "       '18 Years and 8 Months', '18 Years and 9 Months',\n",
       "       '16 Years and 10 Months', '16 Years and 11 Months',\n",
       "       '17 Years and 0 Months', '17 Years and 1 Months',\n",
       "       '17 Years and 2 Months', '17 Years and 3 Months',\n",
       "       '17 Years and 4 Months', '17 Years and 5 Months',\n",
       "       '6 Years and 5 Months', '6 Years and 6 Months',\n",
       "       '6 Years and 7 Months', '6 Years and 8 Months',\n",
       "       '6 Years and 9 Months', '6 Years and 10 Months',\n",
       "       '6 Years and 11 Months', '7 Years and 0 Months',\n",
       "       '10 Years and 1 Months', '10 Years and 2 Months',\n",
       "       '10 Years and 3 Months', '10 Years and 4 Months',\n",
       "       '10 Years and 5 Months', '10 Years and 7 Months',\n",
       "       '10 Years and 8 Months', '12 Years and 3 Months',\n",
       "       '12 Years and 4 Months', '12 Years and 5 Months',\n",
       "       '12 Years and 7 Months', '12 Years and 8 Months',\n",
       "       '12 Years and 10 Months', '12 Years and 6 Months',\n",
       "       '12 Years and 9 Months', '18 Years and 1 Months',\n",
       "       '13 Years and 8 Months', '13 Years and 11 Months',\n",
       "       '14 Years and 1 Months', '14 Years and 2 Months',\n",
       "       '14 Years and 3 Months', '19 Years and 4 Months',\n",
       "       '19 Years and 9 Months', '30 Years and 3 Months',\n",
       "       '30 Years and 4 Months', '30 Years and 6 Months',\n",
       "       '8 Years and 9 Months', '8 Years and 10 Months',\n",
       "       '18 Years and 7 Months', '18 Years and 10 Months',\n",
       "       '18 Years and 11 Months', '19 Years and 0 Months',\n",
       "       '19 Years and 1 Months', '8 Years and 8 Months',\n",
       "       '13 Years and 1 Months', '13 Years and 2 Months',\n",
       "       '13 Years and 3 Months', '13 Years and 5 Months',\n",
       "       '13 Years and 6 Months', '13 Years and 7 Months',\n",
       "       '22 Years and 0 Months', '13 Years and 4 Months',\n",
       "       '13 Years and 9 Months', '27 Years and 11 Months',\n",
       "       '28 Years and 0 Months', '28 Years and 1 Months',\n",
       "       '28 Years and 4 Months', '28 Years and 5 Months',\n",
       "       '7 Years and 10 Months', '7 Years and 11 Months',\n",
       "       '8 Years and 0 Months', '8 Years and 1 Months',\n",
       "       '8 Years and 2 Months', '8 Years and 3 Months',\n",
       "       '8 Years and 4 Months', '8 Years and 5 Months',\n",
       "       '24 Years and 3 Months', '24 Years and 4 Months',\n",
       "       '24 Years and 5 Months', '24 Years and 6 Months',\n",
       "       '24 Years and 7 Months', '24 Years and 8 Months',\n",
       "       '24 Years and 9 Months', '1 Years and 2 Months',\n",
       "       '1 Years and 3 Months', '1 Years and 4 Months',\n",
       "       '1 Years and 5 Months', '1 Years and 6 Months',\n",
       "       '1 Years and 7 Months', '1 Years and 8 Months',\n",
       "       '10 Years and 11 Months', '11 Years and 0 Months',\n",
       "       '11 Years and 3 Months', '11 Years and 4 Months',\n",
       "       '11 Years and 5 Months', '11 Years and 6 Months',\n",
       "       '10 Years and 6 Months', '10 Years and 9 Months',\n",
       "       '10 Years and 10 Months', '14 Years and 0 Months',\n",
       "       '14 Years and 4 Months', '14 Years and 5 Months',\n",
       "       '20 Years and 8 Months', '20 Years and 9 Months',\n",
       "       '20 Years and 10 Months', '20 Years and 11 Months',\n",
       "       '21 Years and 0 Months', '21 Years and 2 Months',\n",
       "       '21 Years and 3 Months', '0 Years and 4 Months',\n",
       "       '0 Years and 5 Months', '0 Years and 6 Months',\n",
       "       '0 Years and 8 Months', '0 Years and 9 Months',\n",
       "       '0 Years and 10 Months', '31 Years and 7 Months',\n",
       "       '31 Years and 8 Months', '31 Years and 9 Months',\n",
       "       '31 Years and 10 Months', '31 Years and 11 Months',\n",
       "       '32 Years and 0 Months', '32 Years and 1 Months',\n",
       "       '32 Years and 2 Months', '12 Years and 11 Months',\n",
       "       '13 Years and 0 Months', '11 Years and 7 Months',\n",
       "       '11 Years and 8 Months', '11 Years and 10 Months',\n",
       "       '24 Years and 10 Months', '24 Years and 11 Months',\n",
       "       '25 Years and 0 Months', '25 Years and 2 Months',\n",
       "       '25 Years and 3 Months', '31 Years and 3 Months',\n",
       "       '31 Years and 4 Months', '31 Years and 5 Months',\n",
       "       '5 Years and 2 Months', '5 Years and 3 Months',\n",
       "       '5 Years and 4 Months', '5 Years and 5 Months',\n",
       "       '5 Years and 6 Months', '5 Years and 7 Months',\n",
       "       '5 Years and 8 Months', '5 Years and 9 Months',\n",
       "       '2 Years and 11 Months', '3 Years and 0 Months',\n",
       "       '3 Years and 1 Months', '3 Years and 3 Months',\n",
       "       '3 Years and 4 Months', '3 Years and 5 Months',\n",
       "       '3 Years and 6 Months', '16 Years and 4 Months',\n",
       "       '16 Years and 5 Months', '16 Years and 6 Months',\n",
       "       '16 Years and 8 Months', '22 Years and 11 Months',\n",
       "       '23 Years and 0 Months', '23 Years and 2 Months',\n",
       "       '23 Years and 3 Months', '23 Years and 4 Months',\n",
       "       '23 Years and 5 Months', '23 Years and 6 Months',\n",
       "       '8 Years and 6 Months', '4 Years and 5 Months',\n",
       "       '4 Years and 6 Months', '4 Years and 8 Months',\n",
       "       '4 Years and 9 Months', '4 Years and 10 Months',\n",
       "       '4 Years and 11 Months', '5 Years and 0 Months',\n",
       "       '32 Years and 8 Months', '32 Years and 9 Months',\n",
       "       '32 Years and 10 Months', '32 Years and 11 Months',\n",
       "       '33 Years and 0 Months', '33 Years and 2 Months',\n",
       "       '33 Years and 3 Months', '12 Years and 2 Months',\n",
       "       '17 Years and 6 Months', '17 Years and 7 Months',\n",
       "       '17 Years and 8 Months', '17 Years and 9 Months',\n",
       "       '29 Years and 9 Months', '29 Years and 11 Months',\n",
       "       '30 Years and 0 Months', '30 Years and 2 Months',\n",
       "       '26 Years and 1 Months', '26 Years and 2 Months',\n",
       "       '33 Years and 1 Months', '33 Years and 4 Months',\n",
       "       '26 Years and 3 Months', '26 Years and 4 Months',\n",
       "       '26 Years and 5 Months', '17 Years and 11 Months',\n",
       "       '18 Years and 0 Months', '7 Years and 6 Months',\n",
       "       '7 Years and 7 Months', '7 Years and 8 Months',\n",
       "       '7 Years and 9 Months', '11 Years and 2 Months',\n",
       "       '11 Years and 9 Months', '28 Years and 3 Months',\n",
       "       '28 Years and 6 Months', '28 Years and 7 Months',\n",
       "       '28 Years and 8 Months', '28 Years and 10 Months',\n",
       "       '29 Years and 2 Months', '29 Years and 3 Months',\n",
       "       '29 Years and 4 Months', '29 Years and 5 Months',\n",
       "       '29 Years and 6 Months', '29 Years and 7 Months',\n",
       "       '29 Years and 8 Months', '13 Years and 10 Months',\n",
       "       '1 Years and 9 Months', '1 Years and 10 Months',\n",
       "       '1 Years and 11 Months', '33 Years and 5 Months',\n",
       "       '33 Years and 7 Months', '28 Years and 9 Months',\n",
       "       '29 Years and 0 Months', '29 Years and 1 Months',\n",
       "       '5 Years and 1 Months', '5 Years and 10 Months',\n",
       "       '5 Years and 11 Months', '6 Years and 1 Months',\n",
       "       '6 Years and 2 Months', '6 Years and 3 Months',\n",
       "       '19 Years and 10 Months', '16 Years and 7 Months',\n",
       "       '22 Years and 2 Months', '20 Years and 2 Months',\n",
       "       '20 Years and 3 Months', '20 Years and 4 Months',\n",
       "       '20 Years and 6 Months', '20 Years and 7 Months',\n",
       "       '15 Years and 4 Months', '15 Years and 5 Months',\n",
       "       '15 Years and 6 Months', '15 Years and 8 Months',\n",
       "       '15 Years and 9 Months', '15 Years and 10 Months',\n",
       "       '15 Years and 11 Months', '20 Years and 5 Months',\n",
       "       '2 Years and 4 Months', '2 Years and 5 Months',\n",
       "       '2 Years and 6 Months', '2 Years and 7 Months',\n",
       "       '2 Years and 8 Months', '2 Years and 9 Months',\n",
       "       '2 Years and 10 Months', '2 Years and 0 Months',\n",
       "       '15 Years and 7 Months', '16 Years and 2 Months',\n",
       "       '16 Years and 3 Months', '9 Years and 5 Months',\n",
       "       '9 Years and 7 Months', '9 Years and 8 Months',\n",
       "       '9 Years and 9 Months', '27 Years and 7 Months',\n",
       "       '27 Years and 8 Months', '27 Years and 9 Months',\n",
       "       '27 Years and 10 Months', '28 Years and 2 Months',\n",
       "       '11 Years and 11 Months', '12 Years and 0 Months',\n",
       "       '12 Years and 1 Months', '28 Years and 11 Months',\n",
       "       '31 Years and 6 Months', '21 Years and 1 Months',\n",
       "       '22 Years and 9 Months', '22 Years and 10 Months',\n",
       "       '23 Years and 1 Months', '16 Years and 0 Months',\n",
       "       '16 Years and 1 Months', '14 Years and 6 Months',\n",
       "       '14 Years and 7 Months', '14 Years and 10 Months',\n",
       "       '14 Years and 11 Months', '22 Years and 8 Months',\n",
       "       '8 Years and 7 Months', '6 Years and 0 Months',\n",
       "       '25 Years and 4 Months', '20 Years and 1 Months',\n",
       "       '15 Years and 3 Months', '32 Years and 3 Months',\n",
       "       '32 Years and 4 Months', '32 Years and 5 Months',\n",
       "       '32 Years and 6 Months', '7 Years and 1 Months',\n",
       "       '7 Years and 2 Months', '7 Years and 4 Months',\n",
       "       '7 Years and 5 Months', '23 Years and 7 Months',\n",
       "       '23 Years and 8 Months', '23 Years and 9 Months',\n",
       "       '33 Years and 6 Months', '30 Years and 1 Months',\n",
       "       '30 Years and 5 Months', '7 Years and 3 Months',\n",
       "       '16 Years and 9 Months', '29 Years and 10 Months',\n",
       "       '9 Years and 10 Months', '9 Years and 11 Months',\n",
       "       '10 Years and 0 Months', '2 Years and 2 Months',\n",
       "       '2 Years and 3 Months', '23 Years and 10 Months',\n",
       "       '23 Years and 11 Months', '24 Years and 0 Months',\n",
       "       '3 Years and 2 Months', '25 Years and 1 Months',\n",
       "       '11 Years and 1 Months', '24 Years and 2 Months',\n",
       "       '19 Years and 11 Months', '20 Years and 0 Months',\n",
       "       '27 Years and 6 Months', '6 Years and 4 Months',\n",
       "       '0 Years and 1 Months', '0 Years and 2 Months',\n",
       "       '0 Years and 3 Months', '0 Years and 7 Months',\n",
       "       '3 Years and 8 Months', '4 Years and 7 Months',\n",
       "       '32 Years and 7 Months', '3 Years and 7 Months',\n",
       "       '3 Years and 9 Months', '3 Years and 10 Months',\n",
       "       '0 Years and 11 Months', '1 Years and 0 Months',\n",
       "       '1 Years and 1 Months', '24 Years and 1 Months',\n",
       "       '4 Years and 4 Months', '3 Years and 11 Months',\n",
       "       '4 Years and 0 Months', '4 Years and 1 Months',\n",
       "       '4 Years and 2 Months', '4 Years and 3 Months',\n",
       "       '2 Years and 1 Months', '33 Years and 8 Months',\n",
       "       '33 Years and 9 Months', '33 Years and 10 Months',\n",
       "       '33 Years and 11 Months', '34 Years and 0 Months'], dtype=object)"
      ]
     },
     "execution_count": 90,
     "metadata": {},
     "output_type": "execute_result"
    }
   ],
   "source": [
    "df['Credit_History_Age'].unique()"
   ]
  },
  {
   "cell_type": "code",
   "execution_count": 91,
   "metadata": {},
   "outputs": [],
   "source": [
    "df['Credit_History_Age']=df['Credit_History_Age'].fillna(df['Credit_History_Age'].mode()[0])"
   ]
  },
  {
   "cell_type": "code",
   "execution_count": 92,
   "metadata": {},
   "outputs": [],
   "source": [
    "#splitting Credit_history_age into  year and month\n",
    "df['Credit_histoty_year'] = df['Credit_History_Age'].str.extract(r'(\\d+) Years?')[0].astype(float)\n",
    "df['Credit_histoty_month'] = df['Credit_History_Age'].str.extract(r'(\\d+) Months?')[0].astype(float)\n"
   ]
  },
  {
   "cell_type": "code",
   "execution_count": 93,
   "metadata": {},
   "outputs": [],
   "source": [
    "df.drop(['Credit_History_Age'], axis=1, inplace=True)"
   ]
  },
  {
   "cell_type": "code",
   "execution_count": 94,
   "metadata": {},
   "outputs": [
    {
     "data": {
      "text/html": [
       "<div>\n",
       "<style scoped>\n",
       "    .dataframe tbody tr th:only-of-type {\n",
       "        vertical-align: middle;\n",
       "    }\n",
       "\n",
       "    .dataframe tbody tr th {\n",
       "        vertical-align: top;\n",
       "    }\n",
       "\n",
       "    .dataframe thead th {\n",
       "        text-align: right;\n",
       "    }\n",
       "</style>\n",
       "<table border=\"1\" class=\"dataframe\">\n",
       "  <thead>\n",
       "    <tr style=\"text-align: right;\">\n",
       "      <th></th>\n",
       "      <th>Month</th>\n",
       "      <th>Age</th>\n",
       "      <th>Annual_Income</th>\n",
       "      <th>Monthly_Inhand_Salary</th>\n",
       "      <th>Num_Bank_Accounts</th>\n",
       "      <th>Num_Credit_Card</th>\n",
       "      <th>Interest_Rate</th>\n",
       "      <th>Num_of_Loan</th>\n",
       "      <th>Delay_from_due_date</th>\n",
       "      <th>Num_of_Delayed_Payment</th>\n",
       "      <th>Changed_Credit_Limit</th>\n",
       "      <th>Num_Credit_Inquiries</th>\n",
       "      <th>Credit_Mix</th>\n",
       "      <th>Outstanding_Debt</th>\n",
       "      <th>Credit_Utilization_Ratio</th>\n",
       "      <th>Payment_of_Min_Amount</th>\n",
       "      <th>Total_EMI_per_month</th>\n",
       "      <th>Amount_invested_monthly</th>\n",
       "      <th>Payment_Behaviour</th>\n",
       "      <th>Monthly_Balance</th>\n",
       "      <th>Credit_Score</th>\n",
       "      <th>Occupation_Architect</th>\n",
       "      <th>Occupation_Developer</th>\n",
       "      <th>Occupation_Doctor</th>\n",
       "      <th>Occupation_Engineer</th>\n",
       "      <th>Occupation_Entrepreneur</th>\n",
       "      <th>Occupation_Journalist</th>\n",
       "      <th>Occupation_Lawyer</th>\n",
       "      <th>Occupation_Manager</th>\n",
       "      <th>Occupation_Mechanic</th>\n",
       "      <th>Occupation_Media_Manager</th>\n",
       "      <th>Occupation_Musician</th>\n",
       "      <th>Occupation_Scientist</th>\n",
       "      <th>Occupation_Teacher</th>\n",
       "      <th>Occupation_Writer</th>\n",
       "      <th>Type_of_Loan_Credit-Builder Loan</th>\n",
       "      <th>Type_of_Loan_Debt Consolidation Loan</th>\n",
       "      <th>Type_of_Loan_Home Equity Loan</th>\n",
       "      <th>Type_of_Loan_Mortgage Loan</th>\n",
       "      <th>Type_of_Loan_Payday Loan</th>\n",
       "      <th>Type_of_Loan_Personal Loan</th>\n",
       "      <th>Type_of_Loan_Student Loan</th>\n",
       "      <th>Credit_histoty_year</th>\n",
       "      <th>Credit_histoty_month</th>\n",
       "    </tr>\n",
       "  </thead>\n",
       "  <tbody>\n",
       "    <tr>\n",
       "      <th>0</th>\n",
       "      <td>1</td>\n",
       "      <td>23</td>\n",
       "      <td>19114.12</td>\n",
       "      <td>1824.843333</td>\n",
       "      <td>3</td>\n",
       "      <td>4</td>\n",
       "      <td>3</td>\n",
       "      <td>4</td>\n",
       "      <td>3</td>\n",
       "      <td>7</td>\n",
       "      <td>11.27</td>\n",
       "      <td>4.0</td>\n",
       "      <td>NaN</td>\n",
       "      <td>809.98</td>\n",
       "      <td>26.82262</td>\n",
       "      <td>2</td>\n",
       "      <td>49.574949</td>\n",
       "      <td>80.415295</td>\n",
       "      <td>1.0</td>\n",
       "      <td>312.494089</td>\n",
       "      <td>Good</td>\n",
       "      <td>0</td>\n",
       "      <td>0</td>\n",
       "      <td>0</td>\n",
       "      <td>0</td>\n",
       "      <td>0</td>\n",
       "      <td>0</td>\n",
       "      <td>0</td>\n",
       "      <td>0</td>\n",
       "      <td>0</td>\n",
       "      <td>0</td>\n",
       "      <td>0</td>\n",
       "      <td>1</td>\n",
       "      <td>0</td>\n",
       "      <td>0</td>\n",
       "      <td>0</td>\n",
       "      <td>0</td>\n",
       "      <td>0</td>\n",
       "      <td>0</td>\n",
       "      <td>0</td>\n",
       "      <td>0</td>\n",
       "      <td>0</td>\n",
       "      <td>22.0</td>\n",
       "      <td>1.0</td>\n",
       "    </tr>\n",
       "    <tr>\n",
       "      <th>1</th>\n",
       "      <td>1</td>\n",
       "      <td>23</td>\n",
       "      <td>19114.12</td>\n",
       "      <td>1824.843333</td>\n",
       "      <td>3</td>\n",
       "      <td>4</td>\n",
       "      <td>3</td>\n",
       "      <td>4</td>\n",
       "      <td>3</td>\n",
       "      <td>7</td>\n",
       "      <td>11.27</td>\n",
       "      <td>4.0</td>\n",
       "      <td>NaN</td>\n",
       "      <td>809.98</td>\n",
       "      <td>26.82262</td>\n",
       "      <td>2</td>\n",
       "      <td>49.574949</td>\n",
       "      <td>80.415295</td>\n",
       "      <td>1.0</td>\n",
       "      <td>312.494089</td>\n",
       "      <td>Good</td>\n",
       "      <td>0</td>\n",
       "      <td>0</td>\n",
       "      <td>0</td>\n",
       "      <td>0</td>\n",
       "      <td>0</td>\n",
       "      <td>0</td>\n",
       "      <td>0</td>\n",
       "      <td>0</td>\n",
       "      <td>0</td>\n",
       "      <td>0</td>\n",
       "      <td>0</td>\n",
       "      <td>1</td>\n",
       "      <td>0</td>\n",
       "      <td>0</td>\n",
       "      <td>1</td>\n",
       "      <td>0</td>\n",
       "      <td>0</td>\n",
       "      <td>0</td>\n",
       "      <td>0</td>\n",
       "      <td>0</td>\n",
       "      <td>0</td>\n",
       "      <td>22.0</td>\n",
       "      <td>1.0</td>\n",
       "    </tr>\n",
       "  </tbody>\n",
       "</table>\n",
       "</div>"
      ],
      "text/plain": [
       "   Month  Age  Annual_Income  Monthly_Inhand_Salary  Num_Bank_Accounts  \\\n",
       "0      1   23       19114.12            1824.843333                  3   \n",
       "1      1   23       19114.12            1824.843333                  3   \n",
       "\n",
       "   Num_Credit_Card  Interest_Rate  Num_of_Loan  Delay_from_due_date  \\\n",
       "0                4              3            4                    3   \n",
       "1                4              3            4                    3   \n",
       "\n",
       "   Num_of_Delayed_Payment  Changed_Credit_Limit  Num_Credit_Inquiries  \\\n",
       "0                       7                 11.27                   4.0   \n",
       "1                       7                 11.27                   4.0   \n",
       "\n",
       "   Credit_Mix  Outstanding_Debt  Credit_Utilization_Ratio  \\\n",
       "0         NaN            809.98                  26.82262   \n",
       "1         NaN            809.98                  26.82262   \n",
       "\n",
       "   Payment_of_Min_Amount  Total_EMI_per_month  Amount_invested_monthly  \\\n",
       "0                      2            49.574949                80.415295   \n",
       "1                      2            49.574949                80.415295   \n",
       "\n",
       "   Payment_Behaviour  Monthly_Balance Credit_Score  Occupation_Architect  \\\n",
       "0                1.0       312.494089         Good                     0   \n",
       "1                1.0       312.494089         Good                     0   \n",
       "\n",
       "   Occupation_Developer  Occupation_Doctor  Occupation_Engineer  \\\n",
       "0                     0                  0                    0   \n",
       "1                     0                  0                    0   \n",
       "\n",
       "   Occupation_Entrepreneur  Occupation_Journalist  Occupation_Lawyer  \\\n",
       "0                        0                      0                  0   \n",
       "1                        0                      0                  0   \n",
       "\n",
       "   Occupation_Manager  Occupation_Mechanic  Occupation_Media_Manager  \\\n",
       "0                   0                    0                         0   \n",
       "1                   0                    0                         0   \n",
       "\n",
       "   Occupation_Musician  Occupation_Scientist  Occupation_Teacher  \\\n",
       "0                    0                     1                   0   \n",
       "1                    0                     1                   0   \n",
       "\n",
       "   Occupation_Writer  Type_of_Loan_Credit-Builder Loan  \\\n",
       "0                  0                                 0   \n",
       "1                  0                                 1   \n",
       "\n",
       "   Type_of_Loan_Debt Consolidation Loan  Type_of_Loan_Home Equity Loan  \\\n",
       "0                                     0                              0   \n",
       "1                                     0                              0   \n",
       "\n",
       "   Type_of_Loan_Mortgage Loan  Type_of_Loan_Payday Loan  \\\n",
       "0                           0                         0   \n",
       "1                           0                         0   \n",
       "\n",
       "   Type_of_Loan_Personal Loan  Type_of_Loan_Student Loan  Credit_histoty_year  \\\n",
       "0                           0                          0                 22.0   \n",
       "1                           0                          0                 22.0   \n",
       "\n",
       "   Credit_histoty_month  \n",
       "0                   1.0  \n",
       "1                   1.0  "
      ]
     },
     "execution_count": 94,
     "metadata": {},
     "output_type": "execute_result"
    }
   ],
   "source": [
    "df.head(2)"
   ]
  },
  {
   "cell_type": "code",
   "execution_count": 95,
   "metadata": {},
   "outputs": [
    {
     "data": {
      "text/html": [
       "<div>\n",
       "<style scoped>\n",
       "    .dataframe tbody tr th:only-of-type {\n",
       "        vertical-align: middle;\n",
       "    }\n",
       "\n",
       "    .dataframe tbody tr th {\n",
       "        vertical-align: top;\n",
       "    }\n",
       "\n",
       "    .dataframe thead th {\n",
       "        text-align: right;\n",
       "    }\n",
       "</style>\n",
       "<table border=\"1\" class=\"dataframe\">\n",
       "  <thead>\n",
       "    <tr style=\"text-align: right;\">\n",
       "      <th></th>\n",
       "      <th>Credit_Score</th>\n",
       "    </tr>\n",
       "  </thead>\n",
       "  <tbody>\n",
       "    <tr>\n",
       "      <th>0</th>\n",
       "      <td>Good</td>\n",
       "    </tr>\n",
       "    <tr>\n",
       "      <th>1</th>\n",
       "      <td>Good</td>\n",
       "    </tr>\n",
       "  </tbody>\n",
       "</table>\n",
       "</div>"
      ],
      "text/plain": [
       "  Credit_Score\n",
       "0         Good\n",
       "1         Good"
      ]
     },
     "execution_count": 95,
     "metadata": {},
     "output_type": "execute_result"
    }
   ],
   "source": [
    "df.select_dtypes(include=['object']).head(2)"
   ]
  },
  {
   "cell_type": "markdown",
   "metadata": {},
   "source": [
    "Credit_Score( target column)\n",
    "this column will be encoded using label encoding "
   ]
  },
  {
   "cell_type": "code",
   "execution_count": 96,
   "metadata": {},
   "outputs": [
    {
     "data": {
      "text/plain": [
       "array(['Good', 'Standard', 'Poor', nan], dtype=object)"
      ]
     },
     "execution_count": 96,
     "metadata": {},
     "output_type": "execute_result"
    }
   ],
   "source": [
    "df['Credit_Score'].unique()"
   ]
  },
  {
   "cell_type": "markdown",
   "metadata": {},
   "source": [
    "the Nan are the test data, so we do nothing about it"
   ]
  },
  {
   "cell_type": "code",
   "execution_count": 97,
   "metadata": {},
   "outputs": [],
   "source": [
    "df['Credit_Score']= df['Credit_Score'].map({'Good':3, 'Standard':2 , 'Poor':1 })"
   ]
  },
  {
   "cell_type": "markdown",
   "metadata": {},
   "source": [
    "Categorical handling of the data is done, the full dataset will be checked one more time to see if there're any null values contained in the numerical columns "
   ]
  },
  {
   "cell_type": "code",
   "execution_count": 98,
   "metadata": {},
   "outputs": [
    {
     "data": {
      "text/html": [
       "<div>\n",
       "<style scoped>\n",
       "    .dataframe tbody tr th:only-of-type {\n",
       "        vertical-align: middle;\n",
       "    }\n",
       "\n",
       "    .dataframe tbody tr th {\n",
       "        vertical-align: top;\n",
       "    }\n",
       "\n",
       "    .dataframe thead th {\n",
       "        text-align: right;\n",
       "    }\n",
       "</style>\n",
       "<table border=\"1\" class=\"dataframe\">\n",
       "  <thead>\n",
       "    <tr style=\"text-align: right;\">\n",
       "      <th></th>\n",
       "      <th>Month</th>\n",
       "      <th>Age</th>\n",
       "      <th>Annual_Income</th>\n",
       "      <th>Monthly_Inhand_Salary</th>\n",
       "      <th>Num_Bank_Accounts</th>\n",
       "      <th>Num_Credit_Card</th>\n",
       "      <th>Interest_Rate</th>\n",
       "      <th>Num_of_Loan</th>\n",
       "      <th>Delay_from_due_date</th>\n",
       "      <th>Num_of_Delayed_Payment</th>\n",
       "      <th>Changed_Credit_Limit</th>\n",
       "      <th>Num_Credit_Inquiries</th>\n",
       "      <th>Credit_Mix</th>\n",
       "      <th>Outstanding_Debt</th>\n",
       "      <th>Credit_Utilization_Ratio</th>\n",
       "      <th>Payment_of_Min_Amount</th>\n",
       "      <th>Total_EMI_per_month</th>\n",
       "      <th>Amount_invested_monthly</th>\n",
       "      <th>Payment_Behaviour</th>\n",
       "      <th>Monthly_Balance</th>\n",
       "      <th>Credit_Score</th>\n",
       "      <th>Occupation_Architect</th>\n",
       "      <th>Occupation_Developer</th>\n",
       "      <th>Occupation_Doctor</th>\n",
       "      <th>Occupation_Engineer</th>\n",
       "      <th>Occupation_Entrepreneur</th>\n",
       "      <th>Occupation_Journalist</th>\n",
       "      <th>Occupation_Lawyer</th>\n",
       "      <th>Occupation_Manager</th>\n",
       "      <th>Occupation_Mechanic</th>\n",
       "      <th>Occupation_Media_Manager</th>\n",
       "      <th>Occupation_Musician</th>\n",
       "      <th>Occupation_Scientist</th>\n",
       "      <th>Occupation_Teacher</th>\n",
       "      <th>Occupation_Writer</th>\n",
       "      <th>Type_of_Loan_Credit-Builder Loan</th>\n",
       "      <th>Type_of_Loan_Debt Consolidation Loan</th>\n",
       "      <th>Type_of_Loan_Home Equity Loan</th>\n",
       "      <th>Type_of_Loan_Mortgage Loan</th>\n",
       "      <th>Type_of_Loan_Payday Loan</th>\n",
       "      <th>Type_of_Loan_Personal Loan</th>\n",
       "      <th>Type_of_Loan_Student Loan</th>\n",
       "      <th>Credit_histoty_year</th>\n",
       "      <th>Credit_histoty_month</th>\n",
       "    </tr>\n",
       "  </thead>\n",
       "  <tbody>\n",
       "    <tr>\n",
       "      <th>0</th>\n",
       "      <td>1</td>\n",
       "      <td>23</td>\n",
       "      <td>19114.12</td>\n",
       "      <td>1824.843333</td>\n",
       "      <td>3</td>\n",
       "      <td>4</td>\n",
       "      <td>3</td>\n",
       "      <td>4</td>\n",
       "      <td>3</td>\n",
       "      <td>7</td>\n",
       "      <td>11.27</td>\n",
       "      <td>4.0</td>\n",
       "      <td>NaN</td>\n",
       "      <td>809.98</td>\n",
       "      <td>26.82262</td>\n",
       "      <td>2</td>\n",
       "      <td>49.574949</td>\n",
       "      <td>80.415295</td>\n",
       "      <td>1.0</td>\n",
       "      <td>312.494089</td>\n",
       "      <td>3.0</td>\n",
       "      <td>0</td>\n",
       "      <td>0</td>\n",
       "      <td>0</td>\n",
       "      <td>0</td>\n",
       "      <td>0</td>\n",
       "      <td>0</td>\n",
       "      <td>0</td>\n",
       "      <td>0</td>\n",
       "      <td>0</td>\n",
       "      <td>0</td>\n",
       "      <td>0</td>\n",
       "      <td>1</td>\n",
       "      <td>0</td>\n",
       "      <td>0</td>\n",
       "      <td>0</td>\n",
       "      <td>0</td>\n",
       "      <td>0</td>\n",
       "      <td>0</td>\n",
       "      <td>0</td>\n",
       "      <td>0</td>\n",
       "      <td>0</td>\n",
       "      <td>22.0</td>\n",
       "      <td>1.0</td>\n",
       "    </tr>\n",
       "    <tr>\n",
       "      <th>1</th>\n",
       "      <td>1</td>\n",
       "      <td>23</td>\n",
       "      <td>19114.12</td>\n",
       "      <td>1824.843333</td>\n",
       "      <td>3</td>\n",
       "      <td>4</td>\n",
       "      <td>3</td>\n",
       "      <td>4</td>\n",
       "      <td>3</td>\n",
       "      <td>7</td>\n",
       "      <td>11.27</td>\n",
       "      <td>4.0</td>\n",
       "      <td>NaN</td>\n",
       "      <td>809.98</td>\n",
       "      <td>26.82262</td>\n",
       "      <td>2</td>\n",
       "      <td>49.574949</td>\n",
       "      <td>80.415295</td>\n",
       "      <td>1.0</td>\n",
       "      <td>312.494089</td>\n",
       "      <td>3.0</td>\n",
       "      <td>0</td>\n",
       "      <td>0</td>\n",
       "      <td>0</td>\n",
       "      <td>0</td>\n",
       "      <td>0</td>\n",
       "      <td>0</td>\n",
       "      <td>0</td>\n",
       "      <td>0</td>\n",
       "      <td>0</td>\n",
       "      <td>0</td>\n",
       "      <td>0</td>\n",
       "      <td>1</td>\n",
       "      <td>0</td>\n",
       "      <td>0</td>\n",
       "      <td>1</td>\n",
       "      <td>0</td>\n",
       "      <td>0</td>\n",
       "      <td>0</td>\n",
       "      <td>0</td>\n",
       "      <td>0</td>\n",
       "      <td>0</td>\n",
       "      <td>22.0</td>\n",
       "      <td>1.0</td>\n",
       "    </tr>\n",
       "    <tr>\n",
       "      <th>2</th>\n",
       "      <td>1</td>\n",
       "      <td>23</td>\n",
       "      <td>19114.12</td>\n",
       "      <td>1824.843333</td>\n",
       "      <td>3</td>\n",
       "      <td>4</td>\n",
       "      <td>3</td>\n",
       "      <td>4</td>\n",
       "      <td>3</td>\n",
       "      <td>7</td>\n",
       "      <td>11.27</td>\n",
       "      <td>4.0</td>\n",
       "      <td>NaN</td>\n",
       "      <td>809.98</td>\n",
       "      <td>26.82262</td>\n",
       "      <td>2</td>\n",
       "      <td>49.574949</td>\n",
       "      <td>80.415295</td>\n",
       "      <td>1.0</td>\n",
       "      <td>312.494089</td>\n",
       "      <td>3.0</td>\n",
       "      <td>0</td>\n",
       "      <td>0</td>\n",
       "      <td>0</td>\n",
       "      <td>0</td>\n",
       "      <td>0</td>\n",
       "      <td>0</td>\n",
       "      <td>0</td>\n",
       "      <td>0</td>\n",
       "      <td>0</td>\n",
       "      <td>0</td>\n",
       "      <td>0</td>\n",
       "      <td>1</td>\n",
       "      <td>0</td>\n",
       "      <td>0</td>\n",
       "      <td>0</td>\n",
       "      <td>0</td>\n",
       "      <td>0</td>\n",
       "      <td>0</td>\n",
       "      <td>0</td>\n",
       "      <td>1</td>\n",
       "      <td>0</td>\n",
       "      <td>22.0</td>\n",
       "      <td>1.0</td>\n",
       "    </tr>\n",
       "    <tr>\n",
       "      <th>4</th>\n",
       "      <td>1</td>\n",
       "      <td>23</td>\n",
       "      <td>19114.12</td>\n",
       "      <td>1824.843333</td>\n",
       "      <td>3</td>\n",
       "      <td>4</td>\n",
       "      <td>3</td>\n",
       "      <td>4</td>\n",
       "      <td>3</td>\n",
       "      <td>7</td>\n",
       "      <td>11.27</td>\n",
       "      <td>4.0</td>\n",
       "      <td>NaN</td>\n",
       "      <td>809.98</td>\n",
       "      <td>26.82262</td>\n",
       "      <td>2</td>\n",
       "      <td>49.574949</td>\n",
       "      <td>80.415295</td>\n",
       "      <td>1.0</td>\n",
       "      <td>312.494089</td>\n",
       "      <td>3.0</td>\n",
       "      <td>0</td>\n",
       "      <td>0</td>\n",
       "      <td>0</td>\n",
       "      <td>0</td>\n",
       "      <td>0</td>\n",
       "      <td>0</td>\n",
       "      <td>0</td>\n",
       "      <td>0</td>\n",
       "      <td>0</td>\n",
       "      <td>0</td>\n",
       "      <td>0</td>\n",
       "      <td>1</td>\n",
       "      <td>0</td>\n",
       "      <td>0</td>\n",
       "      <td>0</td>\n",
       "      <td>0</td>\n",
       "      <td>1</td>\n",
       "      <td>0</td>\n",
       "      <td>0</td>\n",
       "      <td>0</td>\n",
       "      <td>0</td>\n",
       "      <td>22.0</td>\n",
       "      <td>1.0</td>\n",
       "    </tr>\n",
       "    <tr>\n",
       "      <th>5</th>\n",
       "      <td>2</td>\n",
       "      <td>23</td>\n",
       "      <td>19114.12</td>\n",
       "      <td>NaN</td>\n",
       "      <td>3</td>\n",
       "      <td>4</td>\n",
       "      <td>3</td>\n",
       "      <td>4</td>\n",
       "      <td>-1</td>\n",
       "      <td>14</td>\n",
       "      <td>11.27</td>\n",
       "      <td>4.0</td>\n",
       "      <td>1.0</td>\n",
       "      <td>809.98</td>\n",
       "      <td>31.94496</td>\n",
       "      <td>2</td>\n",
       "      <td>49.574949</td>\n",
       "      <td>118.280222</td>\n",
       "      <td>2.0</td>\n",
       "      <td>284.629162</td>\n",
       "      <td>3.0</td>\n",
       "      <td>0</td>\n",
       "      <td>0</td>\n",
       "      <td>0</td>\n",
       "      <td>0</td>\n",
       "      <td>0</td>\n",
       "      <td>0</td>\n",
       "      <td>0</td>\n",
       "      <td>0</td>\n",
       "      <td>0</td>\n",
       "      <td>0</td>\n",
       "      <td>0</td>\n",
       "      <td>1</td>\n",
       "      <td>0</td>\n",
       "      <td>0</td>\n",
       "      <td>0</td>\n",
       "      <td>0</td>\n",
       "      <td>0</td>\n",
       "      <td>0</td>\n",
       "      <td>0</td>\n",
       "      <td>0</td>\n",
       "      <td>0</td>\n",
       "      <td>6.0</td>\n",
       "      <td>7.0</td>\n",
       "    </tr>\n",
       "    <tr>\n",
       "      <th>6</th>\n",
       "      <td>2</td>\n",
       "      <td>23</td>\n",
       "      <td>19114.12</td>\n",
       "      <td>NaN</td>\n",
       "      <td>3</td>\n",
       "      <td>4</td>\n",
       "      <td>3</td>\n",
       "      <td>4</td>\n",
       "      <td>-1</td>\n",
       "      <td>14</td>\n",
       "      <td>11.27</td>\n",
       "      <td>4.0</td>\n",
       "      <td>1.0</td>\n",
       "      <td>809.98</td>\n",
       "      <td>31.94496</td>\n",
       "      <td>2</td>\n",
       "      <td>49.574949</td>\n",
       "      <td>118.280222</td>\n",
       "      <td>2.0</td>\n",
       "      <td>284.629162</td>\n",
       "      <td>3.0</td>\n",
       "      <td>0</td>\n",
       "      <td>0</td>\n",
       "      <td>0</td>\n",
       "      <td>0</td>\n",
       "      <td>0</td>\n",
       "      <td>0</td>\n",
       "      <td>0</td>\n",
       "      <td>0</td>\n",
       "      <td>0</td>\n",
       "      <td>0</td>\n",
       "      <td>0</td>\n",
       "      <td>1</td>\n",
       "      <td>0</td>\n",
       "      <td>0</td>\n",
       "      <td>1</td>\n",
       "      <td>0</td>\n",
       "      <td>0</td>\n",
       "      <td>0</td>\n",
       "      <td>0</td>\n",
       "      <td>0</td>\n",
       "      <td>0</td>\n",
       "      <td>6.0</td>\n",
       "      <td>7.0</td>\n",
       "    </tr>\n",
       "  </tbody>\n",
       "</table>\n",
       "</div>"
      ],
      "text/plain": [
       "   Month  Age  Annual_Income  Monthly_Inhand_Salary  Num_Bank_Accounts  \\\n",
       "0      1   23       19114.12            1824.843333                  3   \n",
       "1      1   23       19114.12            1824.843333                  3   \n",
       "2      1   23       19114.12            1824.843333                  3   \n",
       "4      1   23       19114.12            1824.843333                  3   \n",
       "5      2   23       19114.12                    NaN                  3   \n",
       "6      2   23       19114.12                    NaN                  3   \n",
       "\n",
       "   Num_Credit_Card  Interest_Rate  Num_of_Loan  Delay_from_due_date  \\\n",
       "0                4              3            4                    3   \n",
       "1                4              3            4                    3   \n",
       "2                4              3            4                    3   \n",
       "4                4              3            4                    3   \n",
       "5                4              3            4                   -1   \n",
       "6                4              3            4                   -1   \n",
       "\n",
       "   Num_of_Delayed_Payment  Changed_Credit_Limit  Num_Credit_Inquiries  \\\n",
       "0                       7                 11.27                   4.0   \n",
       "1                       7                 11.27                   4.0   \n",
       "2                       7                 11.27                   4.0   \n",
       "4                       7                 11.27                   4.0   \n",
       "5                      14                 11.27                   4.0   \n",
       "6                      14                 11.27                   4.0   \n",
       "\n",
       "   Credit_Mix  Outstanding_Debt  Credit_Utilization_Ratio  \\\n",
       "0         NaN            809.98                  26.82262   \n",
       "1         NaN            809.98                  26.82262   \n",
       "2         NaN            809.98                  26.82262   \n",
       "4         NaN            809.98                  26.82262   \n",
       "5         1.0            809.98                  31.94496   \n",
       "6         1.0            809.98                  31.94496   \n",
       "\n",
       "   Payment_of_Min_Amount  Total_EMI_per_month  Amount_invested_monthly  \\\n",
       "0                      2            49.574949                80.415295   \n",
       "1                      2            49.574949                80.415295   \n",
       "2                      2            49.574949                80.415295   \n",
       "4                      2            49.574949                80.415295   \n",
       "5                      2            49.574949               118.280222   \n",
       "6                      2            49.574949               118.280222   \n",
       "\n",
       "   Payment_Behaviour  Monthly_Balance  Credit_Score  Occupation_Architect  \\\n",
       "0                1.0       312.494089           3.0                     0   \n",
       "1                1.0       312.494089           3.0                     0   \n",
       "2                1.0       312.494089           3.0                     0   \n",
       "4                1.0       312.494089           3.0                     0   \n",
       "5                2.0       284.629162           3.0                     0   \n",
       "6                2.0       284.629162           3.0                     0   \n",
       "\n",
       "   Occupation_Developer  Occupation_Doctor  Occupation_Engineer  \\\n",
       "0                     0                  0                    0   \n",
       "1                     0                  0                    0   \n",
       "2                     0                  0                    0   \n",
       "4                     0                  0                    0   \n",
       "5                     0                  0                    0   \n",
       "6                     0                  0                    0   \n",
       "\n",
       "   Occupation_Entrepreneur  Occupation_Journalist  Occupation_Lawyer  \\\n",
       "0                        0                      0                  0   \n",
       "1                        0                      0                  0   \n",
       "2                        0                      0                  0   \n",
       "4                        0                      0                  0   \n",
       "5                        0                      0                  0   \n",
       "6                        0                      0                  0   \n",
       "\n",
       "   Occupation_Manager  Occupation_Mechanic  Occupation_Media_Manager  \\\n",
       "0                   0                    0                         0   \n",
       "1                   0                    0                         0   \n",
       "2                   0                    0                         0   \n",
       "4                   0                    0                         0   \n",
       "5                   0                    0                         0   \n",
       "6                   0                    0                         0   \n",
       "\n",
       "   Occupation_Musician  Occupation_Scientist  Occupation_Teacher  \\\n",
       "0                    0                     1                   0   \n",
       "1                    0                     1                   0   \n",
       "2                    0                     1                   0   \n",
       "4                    0                     1                   0   \n",
       "5                    0                     1                   0   \n",
       "6                    0                     1                   0   \n",
       "\n",
       "   Occupation_Writer  Type_of_Loan_Credit-Builder Loan  \\\n",
       "0                  0                                 0   \n",
       "1                  0                                 1   \n",
       "2                  0                                 0   \n",
       "4                  0                                 0   \n",
       "5                  0                                 0   \n",
       "6                  0                                 1   \n",
       "\n",
       "   Type_of_Loan_Debt Consolidation Loan  Type_of_Loan_Home Equity Loan  \\\n",
       "0                                     0                              0   \n",
       "1                                     0                              0   \n",
       "2                                     0                              0   \n",
       "4                                     0                              1   \n",
       "5                                     0                              0   \n",
       "6                                     0                              0   \n",
       "\n",
       "   Type_of_Loan_Mortgage Loan  Type_of_Loan_Payday Loan  \\\n",
       "0                           0                         0   \n",
       "1                           0                         0   \n",
       "2                           0                         0   \n",
       "4                           0                         0   \n",
       "5                           0                         0   \n",
       "6                           0                         0   \n",
       "\n",
       "   Type_of_Loan_Personal Loan  Type_of_Loan_Student Loan  Credit_histoty_year  \\\n",
       "0                           0                          0                 22.0   \n",
       "1                           0                          0                 22.0   \n",
       "2                           1                          0                 22.0   \n",
       "4                           0                          0                 22.0   \n",
       "5                           0                          0                  6.0   \n",
       "6                           0                          0                  6.0   \n",
       "\n",
       "   Credit_histoty_month  \n",
       "0                   1.0  \n",
       "1                   1.0  \n",
       "2                   1.0  \n",
       "4                   1.0  \n",
       "5                   7.0  \n",
       "6                   7.0  "
      ]
     },
     "execution_count": 98,
     "metadata": {},
     "output_type": "execute_result"
    }
   ],
   "source": [
    "df.head(6)"
   ]
  },
  {
   "cell_type": "code",
   "execution_count": 99,
   "metadata": {},
   "outputs": [
    {
     "data": {
      "text/plain": [
       "Month                                        0\n",
       "Age                                          0\n",
       "Annual_Income                                0\n",
       "Monthly_Inhand_Salary                    65670\n",
       "Num_Bank_Accounts                            0\n",
       "Num_Credit_Card                              0\n",
       "Interest_Rate                                0\n",
       "Num_of_Loan                                  0\n",
       "Delay_from_due_date                          0\n",
       "Num_of_Delayed_Payment                       0\n",
       "Changed_Credit_Limit                         0\n",
       "Num_Credit_Inquiries                      8759\n",
       "Credit_Mix                               87656\n",
       "Outstanding_Debt                             0\n",
       "Credit_Utilization_Ratio                     0\n",
       "Payment_of_Min_Amount                        0\n",
       "Total_EMI_per_month                          0\n",
       "Amount_invested_monthly                      0\n",
       "Payment_Behaviour                            0\n",
       "Monthly_Balance                           4695\n",
       "Credit_Score                            145889\n",
       "Occupation_Architect                         0\n",
       "Occupation_Developer                         0\n",
       "Occupation_Doctor                            0\n",
       "Occupation_Engineer                          0\n",
       "Occupation_Entrepreneur                      0\n",
       "Occupation_Journalist                        0\n",
       "Occupation_Lawyer                            0\n",
       "Occupation_Manager                           0\n",
       "Occupation_Mechanic                          0\n",
       "Occupation_Media_Manager                     0\n",
       "Occupation_Musician                          0\n",
       "Occupation_Scientist                         0\n",
       "Occupation_Teacher                           0\n",
       "Occupation_Writer                            0\n",
       "Type_of_Loan_Credit-Builder Loan             0\n",
       "Type_of_Loan_Debt Consolidation Loan         0\n",
       "Type_of_Loan_Home Equity Loan                0\n",
       "Type_of_Loan_Mortgage Loan                   0\n",
       "Type_of_Loan_Payday Loan                     0\n",
       "Type_of_Loan_Personal Loan                   0\n",
       "Type_of_Loan_Student Loan                    0\n",
       "Credit_histoty_year                          0\n",
       "Credit_histoty_month                         0\n",
       "dtype: int64"
      ]
     },
     "execution_count": 99,
     "metadata": {},
     "output_type": "execute_result"
    }
   ],
   "source": [
    "df.isnull().sum()"
   ]
  },
  {
   "cell_type": "code",
   "execution_count": 100,
   "metadata": {},
   "outputs": [],
   "source": [
    "df.dropna(subset=['Monthly_Balance', 'Credit_Mix', 'Num_Credit_Inquiries','Monthly_Inhand_Salary'], inplace=True)"
   ]
  },
  {
   "cell_type": "code",
   "execution_count": 101,
   "metadata": {},
   "outputs": [
    {
     "data": {
      "text/plain": [
       "Month  Age   Annual_Income  Monthly_Inhand_Salary  Num_Bank_Accounts  Num_Credit_Card  Interest_Rate  Num_of_Loan  Delay_from_due_date  Num_of_Delayed_Payment  Changed_Credit_Limit  Num_Credit_Inquiries  Credit_Mix  Outstanding_Debt  Credit_Utilization_Ratio  Payment_of_Min_Amount  Total_EMI_per_month  Amount_invested_monthly  Payment_Behaviour  Monthly_Balance  Credit_Score  Occupation_Architect  Occupation_Developer  Occupation_Doctor  Occupation_Engineer  Occupation_Entrepreneur  Occupation_Journalist  Occupation_Lawyer  Occupation_Manager  Occupation_Mechanic  Occupation_Media_Manager  Occupation_Musician  Occupation_Scientist  Occupation_Teacher  Occupation_Writer  Type_of_Loan_Credit-Builder Loan  Type_of_Loan_Debt Consolidation Loan  Type_of_Loan_Home Equity Loan  Type_of_Loan_Mortgage Loan  Type_of_Loan_Payday Loan  Type_of_Loan_Personal Loan  Type_of_Loan_Student Loan  Credit_histoty_year  Credit_histoty_month\n",
       "1      41    15931.72       1179.643333            6                  8                32             9            60                   15                      6.28                  10.0                  3.0         1693.97           25.414439                 1                      93.401646            46.487979                5.0                228.074709       1.0           0                     0                     0                  0                    0                        0                      0                  0                   0                    0                         0                    0                     1                   0                  0                                 0                                     0                              1                           0                         0                           0                          18.0                 7.0                     5\n",
       "6      22    47686.05       3963.837500            7                  3                19             7            4                    14                      13.20                 5.0                   2.0         1176.39           37.442948                 1                      263.019208           160.285110               5.0                223.079433       2.0           0                     0                     0                  0                    0                        0                      0                  0                   0                    0                         0                    0                     0                   1                  0                                 1                                     0                              0                           0                         0                           0                          15.0                 0.0                     5\n",
       "7      41    15931.72       1179.643333            6                  8                32             9            60                   15                      6.28                  10.0                  3.0         1693.97           39.635304                 1                      93.401646            30.687765                2.0                263.874922       1.0           0                     0                     0                  0                    0                        0                      0                  0                   0                    0                         0                    0                     1                   0                  0                                 0                                     0                              1                           0                         0                           0                          19.0                 1.0                     5\n",
       "1      26    18503.85       1634.987500            3                  7                15             7            26                   8                       11.33                 7.0                   2.0         742.33            32.973502                 1                      77.240964            37.889754                4.0                288.368032       2.0           0                     0                     0                  0                    0                        0                      0                  0                   0                    1                         0                    0                     0                   0                  0                                 0                                     0                              0                           1                         0                           0                          15.0                 11.0                    5\n",
       "5      22    47686.05       3963.837500            7                  3                19             7            9                    6                       13.20                 5.0                   2.0         1176.39           25.054851                 1                      263.019208           373.548819               3.0                39.815724        2.0           0                     0                     0                  0                    0                        0                      0                  0                   0                    0                         0                    0                     0                   1                  0                                 1                                     0                              0                           0                         0                           0                          14.0                 11.0                    5\n",
       "                                                                                                                                                                                                                                                                                                                                                                                                                                                                                                                                                                                                                                                                                                                                                                                                                                                                                                                                                                       ..\n",
       "3      56    51150.64       4024.553333            8                  5                17             3            28                   19                      19.74                 2.0                   2.0         1228.48           38.428516                 1                      127.249198           193.076015               4.0                362.130121       2.0           0                     0                     0                  0                    0                        0                      0                  0                   0                    0                         1                    0                     0                   0                  0                                 0                                     1                              0                           0                         0                           0                          6.0                  7.0                     1\n",
       "             41563.69       3691.640833            5                  4                6              3            17                   8                       3.47                  4.0                   1.0         1306.64           29.484963                 2                      72.672128            201.598352               2.0                364.893604       3.0           0                     0                     0                  0                    0                        0                      0                  0                   0                    0                         0                    0                     0                   0                  0                                 0                                     1                              0                           0                         0                           0                          31.0                 9.0                     1\n",
       "                                                                                                                                                                                                                                                                                                                                                                                                                                                                                                                                                                                                                                                                                                                                                                               0                              0                           0                         0                           1                          31.0                 9.0                     1\n",
       "             32011.89       2806.657500            2                  6                4              3            12                   7                       6.10                  1.0                   1.0         1215.09           29.155180                 2                      66.357449            185.299398               3.0                309.008903       1.0           1                     0                     0                  0                    0                        0                      0                  0                   0                    0                         0                    0                     0                   0                  1                                 0                                     0                              0                           0                         0                           0                          25.0                 7.0                     1\n",
       "8      8678  23681.87       1826.489167            3                  5                15             3            9                    11                      4.51                  0.0                   2.0         1433.17           31.882977                 2                      41.642793            48.424448                1.0                352.581675       2.0           0                     0                     0                  0                    0                        0                      0                  0                   1                    0                         0                    0                     0                   0                  1                                 0                                     0                              0                           0                         0                           0                          21.0                 0.0                     1\n",
       "Name: count, Length: 152611, dtype: int64"
      ]
     },
     "execution_count": 101,
     "metadata": {},
     "output_type": "execute_result"
    }
   ],
   "source": [
    "df.value_counts()"
   ]
  },
  {
   "cell_type": "code",
   "execution_count": 102,
   "metadata": {},
   "outputs": [
    {
     "data": {
      "text/plain": [
       "(288687, 44)"
      ]
     },
     "execution_count": 102,
     "metadata": {},
     "output_type": "execute_result"
    }
   ],
   "source": [
    "df.shape"
   ]
  },
  {
   "cell_type": "markdown",
   "metadata": {},
   "source": [
    "##Handling Outliers "
   ]
  },
  {
   "cell_type": "code",
   "execution_count": 103,
   "metadata": {},
   "outputs": [
    {
     "data": {
      "text/html": [
       "<div>\n",
       "<style scoped>\n",
       "    .dataframe tbody tr th:only-of-type {\n",
       "        vertical-align: middle;\n",
       "    }\n",
       "\n",
       "    .dataframe tbody tr th {\n",
       "        vertical-align: top;\n",
       "    }\n",
       "\n",
       "    .dataframe thead th {\n",
       "        text-align: right;\n",
       "    }\n",
       "</style>\n",
       "<table border=\"1\" class=\"dataframe\">\n",
       "  <thead>\n",
       "    <tr style=\"text-align: right;\">\n",
       "      <th></th>\n",
       "      <th>Month</th>\n",
       "      <th>Age</th>\n",
       "      <th>Annual_Income</th>\n",
       "      <th>Monthly_Inhand_Salary</th>\n",
       "      <th>Num_Bank_Accounts</th>\n",
       "      <th>Num_Credit_Card</th>\n",
       "      <th>Interest_Rate</th>\n",
       "      <th>Num_of_Loan</th>\n",
       "      <th>Delay_from_due_date</th>\n",
       "      <th>Num_of_Delayed_Payment</th>\n",
       "      <th>Changed_Credit_Limit</th>\n",
       "      <th>Num_Credit_Inquiries</th>\n",
       "      <th>Credit_Mix</th>\n",
       "      <th>Outstanding_Debt</th>\n",
       "      <th>Credit_Utilization_Ratio</th>\n",
       "      <th>Payment_of_Min_Amount</th>\n",
       "      <th>Total_EMI_per_month</th>\n",
       "      <th>Amount_invested_monthly</th>\n",
       "      <th>Payment_Behaviour</th>\n",
       "      <th>Monthly_Balance</th>\n",
       "      <th>Credit_Score</th>\n",
       "      <th>Occupation_Architect</th>\n",
       "      <th>Occupation_Developer</th>\n",
       "      <th>Occupation_Doctor</th>\n",
       "      <th>Occupation_Engineer</th>\n",
       "      <th>Occupation_Entrepreneur</th>\n",
       "      <th>Occupation_Journalist</th>\n",
       "      <th>Occupation_Lawyer</th>\n",
       "      <th>Occupation_Manager</th>\n",
       "      <th>Occupation_Mechanic</th>\n",
       "      <th>Occupation_Media_Manager</th>\n",
       "      <th>Occupation_Musician</th>\n",
       "      <th>Occupation_Scientist</th>\n",
       "      <th>Occupation_Teacher</th>\n",
       "      <th>Occupation_Writer</th>\n",
       "      <th>Type_of_Loan_Credit-Builder Loan</th>\n",
       "      <th>Type_of_Loan_Debt Consolidation Loan</th>\n",
       "      <th>Type_of_Loan_Home Equity Loan</th>\n",
       "      <th>Type_of_Loan_Mortgage Loan</th>\n",
       "      <th>Type_of_Loan_Payday Loan</th>\n",
       "      <th>Type_of_Loan_Personal Loan</th>\n",
       "      <th>Type_of_Loan_Student Loan</th>\n",
       "      <th>Credit_histoty_year</th>\n",
       "      <th>Credit_histoty_month</th>\n",
       "    </tr>\n",
       "  </thead>\n",
       "  <tbody>\n",
       "    <tr>\n",
       "      <th>count</th>\n",
       "      <td>288687.000000</td>\n",
       "      <td>288687.000000</td>\n",
       "      <td>2.886870e+05</td>\n",
       "      <td>288687.000000</td>\n",
       "      <td>288687.000000</td>\n",
       "      <td>288687.000000</td>\n",
       "      <td>288687.000000</td>\n",
       "      <td>288687.000000</td>\n",
       "      <td>288687.000000</td>\n",
       "      <td>288687.000000</td>\n",
       "      <td>288687.000000</td>\n",
       "      <td>288687.000000</td>\n",
       "      <td>288687.000000</td>\n",
       "      <td>288687.000000</td>\n",
       "      <td>288687.000000</td>\n",
       "      <td>288687.000000</td>\n",
       "      <td>288687.000000</td>\n",
       "      <td>288687.000000</td>\n",
       "      <td>288687.000000</td>\n",
       "      <td>2.886870e+05</td>\n",
       "      <td>191348.000000</td>\n",
       "      <td>288687.000000</td>\n",
       "      <td>288687.000000</td>\n",
       "      <td>288687.000000</td>\n",
       "      <td>288687.000000</td>\n",
       "      <td>288687.000000</td>\n",
       "      <td>288687.000000</td>\n",
       "      <td>288687.000000</td>\n",
       "      <td>288687.000000</td>\n",
       "      <td>288687.000000</td>\n",
       "      <td>288687.000000</td>\n",
       "      <td>288687.000000</td>\n",
       "      <td>288687.000000</td>\n",
       "      <td>288687.000000</td>\n",
       "      <td>288687.000000</td>\n",
       "      <td>288687.000000</td>\n",
       "      <td>288687.000000</td>\n",
       "      <td>288687.000000</td>\n",
       "      <td>288687.000000</td>\n",
       "      <td>288687.000000</td>\n",
       "      <td>288687.000000</td>\n",
       "      <td>288687.000000</td>\n",
       "      <td>288687.000000</td>\n",
       "      <td>288687.000000</td>\n",
       "    </tr>\n",
       "    <tr>\n",
       "      <th>mean</th>\n",
       "      <td>6.521904</td>\n",
       "      <td>111.430681</td>\n",
       "      <td>1.696633e+05</td>\n",
       "      <td>3627.083930</td>\n",
       "      <td>17.690035</td>\n",
       "      <td>22.896351</td>\n",
       "      <td>76.506067</td>\n",
       "      <td>4.684690</td>\n",
       "      <td>26.254854</td>\n",
       "      <td>32.300672</td>\n",
       "      <td>12.082141</td>\n",
       "      <td>30.760935</td>\n",
       "      <td>2.259329</td>\n",
       "      <td>1942.857704</td>\n",
       "      <td>31.927823</td>\n",
       "      <td>1.201083</td>\n",
       "      <td>1443.050170</td>\n",
       "      <td>592.326191</td>\n",
       "      <td>3.728387</td>\n",
       "      <td>-5.939535e+24</td>\n",
       "      <td>1.721518</td>\n",
       "      <td>0.065680</td>\n",
       "      <td>0.069144</td>\n",
       "      <td>0.068621</td>\n",
       "      <td>0.068531</td>\n",
       "      <td>0.067201</td>\n",
       "      <td>0.063893</td>\n",
       "      <td>0.068694</td>\n",
       "      <td>0.064586</td>\n",
       "      <td>0.069144</td>\n",
       "      <td>0.066023</td>\n",
       "      <td>0.061115</td>\n",
       "      <td>0.068749</td>\n",
       "      <td>0.065819</td>\n",
       "      <td>0.063335</td>\n",
       "      <td>0.128880</td>\n",
       "      <td>0.123636</td>\n",
       "      <td>0.124595</td>\n",
       "      <td>0.125132</td>\n",
       "      <td>0.129289</td>\n",
       "      <td>0.123719</td>\n",
       "      <td>0.124509</td>\n",
       "      <td>13.885371</td>\n",
       "      <td>5.628979</td>\n",
       "    </tr>\n",
       "    <tr>\n",
       "      <th>std</th>\n",
       "      <td>3.456942</td>\n",
       "      <td>693.944553</td>\n",
       "      <td>1.427496e+06</td>\n",
       "      <td>2821.639096</td>\n",
       "      <td>117.132779</td>\n",
       "      <td>127.685891</td>\n",
       "      <td>466.527943</td>\n",
       "      <td>63.081229</td>\n",
       "      <td>16.278846</td>\n",
       "      <td>220.337572</td>\n",
       "      <td>7.579253</td>\n",
       "      <td>198.275585</td>\n",
       "      <td>0.730032</td>\n",
       "      <td>1334.374523</td>\n",
       "      <td>5.026217</td>\n",
       "      <td>0.400811</td>\n",
       "      <td>8375.244478</td>\n",
       "      <td>1997.246692</td>\n",
       "      <td>1.468958</td>\n",
       "      <td>4.409732e+25</td>\n",
       "      <td>0.650400</td>\n",
       "      <td>0.247723</td>\n",
       "      <td>0.253699</td>\n",
       "      <td>0.252809</td>\n",
       "      <td>0.252655</td>\n",
       "      <td>0.250370</td>\n",
       "      <td>0.244562</td>\n",
       "      <td>0.252933</td>\n",
       "      <td>0.245793</td>\n",
       "      <td>0.253699</td>\n",
       "      <td>0.248323</td>\n",
       "      <td>0.239541</td>\n",
       "      <td>0.253028</td>\n",
       "      <td>0.247965</td>\n",
       "      <td>0.243565</td>\n",
       "      <td>0.335068</td>\n",
       "      <td>0.329166</td>\n",
       "      <td>0.330260</td>\n",
       "      <td>0.330869</td>\n",
       "      <td>0.335520</td>\n",
       "      <td>0.329261</td>\n",
       "      <td>0.330161</td>\n",
       "      <td>8.125377</td>\n",
       "      <td>3.321070</td>\n",
       "    </tr>\n",
       "    <tr>\n",
       "      <th>min</th>\n",
       "      <td>1.000000</td>\n",
       "      <td>-500.000000</td>\n",
       "      <td>7.005930e+03</td>\n",
       "      <td>303.645417</td>\n",
       "      <td>-1.000000</td>\n",
       "      <td>0.000000</td>\n",
       "      <td>1.000000</td>\n",
       "      <td>-100.000000</td>\n",
       "      <td>-5.000000</td>\n",
       "      <td>-3.000000</td>\n",
       "      <td>-6.480000</td>\n",
       "      <td>0.000000</td>\n",
       "      <td>1.000000</td>\n",
       "      <td>0.230000</td>\n",
       "      <td>20.000000</td>\n",
       "      <td>1.000000</td>\n",
       "      <td>4.713184</td>\n",
       "      <td>0.000000</td>\n",
       "      <td>1.000000</td>\n",
       "      <td>-3.333333e+26</td>\n",
       "      <td>1.000000</td>\n",
       "      <td>0.000000</td>\n",
       "      <td>0.000000</td>\n",
       "      <td>0.000000</td>\n",
       "      <td>0.000000</td>\n",
       "      <td>0.000000</td>\n",
       "      <td>0.000000</td>\n",
       "      <td>0.000000</td>\n",
       "      <td>0.000000</td>\n",
       "      <td>0.000000</td>\n",
       "      <td>0.000000</td>\n",
       "      <td>0.000000</td>\n",
       "      <td>0.000000</td>\n",
       "      <td>0.000000</td>\n",
       "      <td>0.000000</td>\n",
       "      <td>0.000000</td>\n",
       "      <td>0.000000</td>\n",
       "      <td>0.000000</td>\n",
       "      <td>0.000000</td>\n",
       "      <td>0.000000</td>\n",
       "      <td>0.000000</td>\n",
       "      <td>0.000000</td>\n",
       "      <td>0.000000</td>\n",
       "      <td>0.000000</td>\n",
       "    </tr>\n",
       "    <tr>\n",
       "      <th>25%</th>\n",
       "      <td>4.000000</td>\n",
       "      <td>23.000000</td>\n",
       "      <td>1.747163e+04</td>\n",
       "      <td>1451.606667</td>\n",
       "      <td>5.000000</td>\n",
       "      <td>5.000000</td>\n",
       "      <td>11.000000</td>\n",
       "      <td>3.000000</td>\n",
       "      <td>14.000000</td>\n",
       "      <td>12.000000</td>\n",
       "      <td>6.480000</td>\n",
       "      <td>5.000000</td>\n",
       "      <td>2.000000</td>\n",
       "      <td>865.300000</td>\n",
       "      <td>27.754529</td>\n",
       "      <td>1.000000</td>\n",
       "      <td>53.178709</td>\n",
       "      <td>69.630461</td>\n",
       "      <td>3.000000</td>\n",
       "      <td>2.441065e+02</td>\n",
       "      <td>1.000000</td>\n",
       "      <td>0.000000</td>\n",
       "      <td>0.000000</td>\n",
       "      <td>0.000000</td>\n",
       "      <td>0.000000</td>\n",
       "      <td>0.000000</td>\n",
       "      <td>0.000000</td>\n",
       "      <td>0.000000</td>\n",
       "      <td>0.000000</td>\n",
       "      <td>0.000000</td>\n",
       "      <td>0.000000</td>\n",
       "      <td>0.000000</td>\n",
       "      <td>0.000000</td>\n",
       "      <td>0.000000</td>\n",
       "      <td>0.000000</td>\n",
       "      <td>0.000000</td>\n",
       "      <td>0.000000</td>\n",
       "      <td>0.000000</td>\n",
       "      <td>0.000000</td>\n",
       "      <td>0.000000</td>\n",
       "      <td>0.000000</td>\n",
       "      <td>0.000000</td>\n",
       "      <td>7.000000</td>\n",
       "      <td>3.000000</td>\n",
       "    </tr>\n",
       "    <tr>\n",
       "      <th>50%</th>\n",
       "      <td>7.000000</td>\n",
       "      <td>32.000000</td>\n",
       "      <td>3.408765e+04</td>\n",
       "      <td>2808.200000</td>\n",
       "      <td>7.000000</td>\n",
       "      <td>6.000000</td>\n",
       "      <td>18.000000</td>\n",
       "      <td>5.000000</td>\n",
       "      <td>23.000000</td>\n",
       "      <td>16.000000</td>\n",
       "      <td>10.620000</td>\n",
       "      <td>8.000000</td>\n",
       "      <td>2.000000</td>\n",
       "      <td>1636.230000</td>\n",
       "      <td>31.963017</td>\n",
       "      <td>1.000000</td>\n",
       "      <td>100.731462</td>\n",
       "      <td>128.863020</td>\n",
       "      <td>4.000000</td>\n",
       "      <td>2.937065e+02</td>\n",
       "      <td>2.000000</td>\n",
       "      <td>0.000000</td>\n",
       "      <td>0.000000</td>\n",
       "      <td>0.000000</td>\n",
       "      <td>0.000000</td>\n",
       "      <td>0.000000</td>\n",
       "      <td>0.000000</td>\n",
       "      <td>0.000000</td>\n",
       "      <td>0.000000</td>\n",
       "      <td>0.000000</td>\n",
       "      <td>0.000000</td>\n",
       "      <td>0.000000</td>\n",
       "      <td>0.000000</td>\n",
       "      <td>0.000000</td>\n",
       "      <td>0.000000</td>\n",
       "      <td>0.000000</td>\n",
       "      <td>0.000000</td>\n",
       "      <td>0.000000</td>\n",
       "      <td>0.000000</td>\n",
       "      <td>0.000000</td>\n",
       "      <td>0.000000</td>\n",
       "      <td>0.000000</td>\n",
       "      <td>13.000000</td>\n",
       "      <td>6.000000</td>\n",
       "    </tr>\n",
       "    <tr>\n",
       "      <th>75%</th>\n",
       "      <td>10.000000</td>\n",
       "      <td>40.000000</td>\n",
       "      <td>6.214800e+04</td>\n",
       "      <td>5093.753333</td>\n",
       "      <td>8.000000</td>\n",
       "      <td>8.000000</td>\n",
       "      <td>26.000000</td>\n",
       "      <td>7.000000</td>\n",
       "      <td>37.000000</td>\n",
       "      <td>20.000000</td>\n",
       "      <td>17.460000</td>\n",
       "      <td>11.000000</td>\n",
       "      <td>3.000000</td>\n",
       "      <td>2737.740000</td>\n",
       "      <td>36.139353</td>\n",
       "      <td>1.000000</td>\n",
       "      <td>205.989320</td>\n",
       "      <td>223.624097</td>\n",
       "      <td>5.000000</td>\n",
       "      <td>3.815185e+02</td>\n",
       "      <td>2.000000</td>\n",
       "      <td>0.000000</td>\n",
       "      <td>0.000000</td>\n",
       "      <td>0.000000</td>\n",
       "      <td>0.000000</td>\n",
       "      <td>0.000000</td>\n",
       "      <td>0.000000</td>\n",
       "      <td>0.000000</td>\n",
       "      <td>0.000000</td>\n",
       "      <td>0.000000</td>\n",
       "      <td>0.000000</td>\n",
       "      <td>0.000000</td>\n",
       "      <td>0.000000</td>\n",
       "      <td>0.000000</td>\n",
       "      <td>0.000000</td>\n",
       "      <td>0.000000</td>\n",
       "      <td>0.000000</td>\n",
       "      <td>0.000000</td>\n",
       "      <td>0.000000</td>\n",
       "      <td>0.000000</td>\n",
       "      <td>0.000000</td>\n",
       "      <td>0.000000</td>\n",
       "      <td>19.000000</td>\n",
       "      <td>8.000000</td>\n",
       "    </tr>\n",
       "    <tr>\n",
       "      <th>max</th>\n",
       "      <td>12.000000</td>\n",
       "      <td>8697.000000</td>\n",
       "      <td>2.419806e+07</td>\n",
       "      <td>15204.633333</td>\n",
       "      <td>1798.000000</td>\n",
       "      <td>1499.000000</td>\n",
       "      <td>5799.000000</td>\n",
       "      <td>1496.000000</td>\n",
       "      <td>67.000000</td>\n",
       "      <td>4397.000000</td>\n",
       "      <td>36.550000</td>\n",
       "      <td>2597.000000</td>\n",
       "      <td>3.000000</td>\n",
       "      <td>4998.070000</td>\n",
       "      <td>49.564519</td>\n",
       "      <td>2.000000</td>\n",
       "      <td>82347.000000</td>\n",
       "      <td>10000.000000</td>\n",
       "      <td>6.000000</td>\n",
       "      <td>1.553842e+03</td>\n",
       "      <td>3.000000</td>\n",
       "      <td>1.000000</td>\n",
       "      <td>1.000000</td>\n",
       "      <td>1.000000</td>\n",
       "      <td>1.000000</td>\n",
       "      <td>1.000000</td>\n",
       "      <td>1.000000</td>\n",
       "      <td>1.000000</td>\n",
       "      <td>1.000000</td>\n",
       "      <td>1.000000</td>\n",
       "      <td>1.000000</td>\n",
       "      <td>1.000000</td>\n",
       "      <td>1.000000</td>\n",
       "      <td>1.000000</td>\n",
       "      <td>1.000000</td>\n",
       "      <td>1.000000</td>\n",
       "      <td>1.000000</td>\n",
       "      <td>1.000000</td>\n",
       "      <td>1.000000</td>\n",
       "      <td>1.000000</td>\n",
       "      <td>1.000000</td>\n",
       "      <td>1.000000</td>\n",
       "      <td>34.000000</td>\n",
       "      <td>11.000000</td>\n",
       "    </tr>\n",
       "  </tbody>\n",
       "</table>\n",
       "</div>"
      ],
      "text/plain": [
       "               Month            Age  Annual_Income  Monthly_Inhand_Salary  \\\n",
       "count  288687.000000  288687.000000   2.886870e+05          288687.000000   \n",
       "mean        6.521904     111.430681   1.696633e+05            3627.083930   \n",
       "std         3.456942     693.944553   1.427496e+06            2821.639096   \n",
       "min         1.000000    -500.000000   7.005930e+03             303.645417   \n",
       "25%         4.000000      23.000000   1.747163e+04            1451.606667   \n",
       "50%         7.000000      32.000000   3.408765e+04            2808.200000   \n",
       "75%        10.000000      40.000000   6.214800e+04            5093.753333   \n",
       "max        12.000000    8697.000000   2.419806e+07           15204.633333   \n",
       "\n",
       "       Num_Bank_Accounts  Num_Credit_Card  Interest_Rate    Num_of_Loan  \\\n",
       "count      288687.000000    288687.000000  288687.000000  288687.000000   \n",
       "mean           17.690035        22.896351      76.506067       4.684690   \n",
       "std           117.132779       127.685891     466.527943      63.081229   \n",
       "min            -1.000000         0.000000       1.000000    -100.000000   \n",
       "25%             5.000000         5.000000      11.000000       3.000000   \n",
       "50%             7.000000         6.000000      18.000000       5.000000   \n",
       "75%             8.000000         8.000000      26.000000       7.000000   \n",
       "max          1798.000000      1499.000000    5799.000000    1496.000000   \n",
       "\n",
       "       Delay_from_due_date  Num_of_Delayed_Payment  Changed_Credit_Limit  \\\n",
       "count        288687.000000           288687.000000         288687.000000   \n",
       "mean             26.254854               32.300672             12.082141   \n",
       "std              16.278846              220.337572              7.579253   \n",
       "min              -5.000000               -3.000000             -6.480000   \n",
       "25%              14.000000               12.000000              6.480000   \n",
       "50%              23.000000               16.000000             10.620000   \n",
       "75%              37.000000               20.000000             17.460000   \n",
       "max              67.000000             4397.000000             36.550000   \n",
       "\n",
       "       Num_Credit_Inquiries     Credit_Mix  Outstanding_Debt  \\\n",
       "count         288687.000000  288687.000000     288687.000000   \n",
       "mean              30.760935       2.259329       1942.857704   \n",
       "std              198.275585       0.730032       1334.374523   \n",
       "min                0.000000       1.000000          0.230000   \n",
       "25%                5.000000       2.000000        865.300000   \n",
       "50%                8.000000       2.000000       1636.230000   \n",
       "75%               11.000000       3.000000       2737.740000   \n",
       "max             2597.000000       3.000000       4998.070000   \n",
       "\n",
       "       Credit_Utilization_Ratio  Payment_of_Min_Amount  Total_EMI_per_month  \\\n",
       "count             288687.000000          288687.000000        288687.000000   \n",
       "mean                  31.927823               1.201083          1443.050170   \n",
       "std                    5.026217               0.400811          8375.244478   \n",
       "min                   20.000000               1.000000             4.713184   \n",
       "25%                   27.754529               1.000000            53.178709   \n",
       "50%                   31.963017               1.000000           100.731462   \n",
       "75%                   36.139353               1.000000           205.989320   \n",
       "max                   49.564519               2.000000         82347.000000   \n",
       "\n",
       "       Amount_invested_monthly  Payment_Behaviour  Monthly_Balance  \\\n",
       "count            288687.000000      288687.000000     2.886870e+05   \n",
       "mean                592.326191           3.728387    -5.939535e+24   \n",
       "std                1997.246692           1.468958     4.409732e+25   \n",
       "min                   0.000000           1.000000    -3.333333e+26   \n",
       "25%                  69.630461           3.000000     2.441065e+02   \n",
       "50%                 128.863020           4.000000     2.937065e+02   \n",
       "75%                 223.624097           5.000000     3.815185e+02   \n",
       "max               10000.000000           6.000000     1.553842e+03   \n",
       "\n",
       "        Credit_Score  Occupation_Architect  Occupation_Developer  \\\n",
       "count  191348.000000         288687.000000         288687.000000   \n",
       "mean        1.721518              0.065680              0.069144   \n",
       "std         0.650400              0.247723              0.253699   \n",
       "min         1.000000              0.000000              0.000000   \n",
       "25%         1.000000              0.000000              0.000000   \n",
       "50%         2.000000              0.000000              0.000000   \n",
       "75%         2.000000              0.000000              0.000000   \n",
       "max         3.000000              1.000000              1.000000   \n",
       "\n",
       "       Occupation_Doctor  Occupation_Engineer  Occupation_Entrepreneur  \\\n",
       "count      288687.000000        288687.000000            288687.000000   \n",
       "mean            0.068621             0.068531                 0.067201   \n",
       "std             0.252809             0.252655                 0.250370   \n",
       "min             0.000000             0.000000                 0.000000   \n",
       "25%             0.000000             0.000000                 0.000000   \n",
       "50%             0.000000             0.000000                 0.000000   \n",
       "75%             0.000000             0.000000                 0.000000   \n",
       "max             1.000000             1.000000                 1.000000   \n",
       "\n",
       "       Occupation_Journalist  Occupation_Lawyer  Occupation_Manager  \\\n",
       "count          288687.000000      288687.000000       288687.000000   \n",
       "mean                0.063893           0.068694            0.064586   \n",
       "std                 0.244562           0.252933            0.245793   \n",
       "min                 0.000000           0.000000            0.000000   \n",
       "25%                 0.000000           0.000000            0.000000   \n",
       "50%                 0.000000           0.000000            0.000000   \n",
       "75%                 0.000000           0.000000            0.000000   \n",
       "max                 1.000000           1.000000            1.000000   \n",
       "\n",
       "       Occupation_Mechanic  Occupation_Media_Manager  Occupation_Musician  \\\n",
       "count        288687.000000             288687.000000        288687.000000   \n",
       "mean              0.069144                  0.066023             0.061115   \n",
       "std               0.253699                  0.248323             0.239541   \n",
       "min               0.000000                  0.000000             0.000000   \n",
       "25%               0.000000                  0.000000             0.000000   \n",
       "50%               0.000000                  0.000000             0.000000   \n",
       "75%               0.000000                  0.000000             0.000000   \n",
       "max               1.000000                  1.000000             1.000000   \n",
       "\n",
       "       Occupation_Scientist  Occupation_Teacher  Occupation_Writer  \\\n",
       "count         288687.000000       288687.000000      288687.000000   \n",
       "mean               0.068749            0.065819           0.063335   \n",
       "std                0.253028            0.247965           0.243565   \n",
       "min                0.000000            0.000000           0.000000   \n",
       "25%                0.000000            0.000000           0.000000   \n",
       "50%                0.000000            0.000000           0.000000   \n",
       "75%                0.000000            0.000000           0.000000   \n",
       "max                1.000000            1.000000           1.000000   \n",
       "\n",
       "       Type_of_Loan_Credit-Builder Loan  Type_of_Loan_Debt Consolidation Loan  \\\n",
       "count                     288687.000000                         288687.000000   \n",
       "mean                           0.128880                              0.123636   \n",
       "std                            0.335068                              0.329166   \n",
       "min                            0.000000                              0.000000   \n",
       "25%                            0.000000                              0.000000   \n",
       "50%                            0.000000                              0.000000   \n",
       "75%                            0.000000                              0.000000   \n",
       "max                            1.000000                              1.000000   \n",
       "\n",
       "       Type_of_Loan_Home Equity Loan  Type_of_Loan_Mortgage Loan  \\\n",
       "count                  288687.000000               288687.000000   \n",
       "mean                        0.124595                    0.125132   \n",
       "std                         0.330260                    0.330869   \n",
       "min                         0.000000                    0.000000   \n",
       "25%                         0.000000                    0.000000   \n",
       "50%                         0.000000                    0.000000   \n",
       "75%                         0.000000                    0.000000   \n",
       "max                         1.000000                    1.000000   \n",
       "\n",
       "       Type_of_Loan_Payday Loan  Type_of_Loan_Personal Loan  \\\n",
       "count             288687.000000               288687.000000   \n",
       "mean                   0.129289                    0.123719   \n",
       "std                    0.335520                    0.329261   \n",
       "min                    0.000000                    0.000000   \n",
       "25%                    0.000000                    0.000000   \n",
       "50%                    0.000000                    0.000000   \n",
       "75%                    0.000000                    0.000000   \n",
       "max                    1.000000                    1.000000   \n",
       "\n",
       "       Type_of_Loan_Student Loan  Credit_histoty_year  Credit_histoty_month  \n",
       "count              288687.000000        288687.000000         288687.000000  \n",
       "mean                    0.124509            13.885371              5.628979  \n",
       "std                     0.330161             8.125377              3.321070  \n",
       "min                     0.000000             0.000000              0.000000  \n",
       "25%                     0.000000             7.000000              3.000000  \n",
       "50%                     0.000000            13.000000              6.000000  \n",
       "75%                     0.000000            19.000000              8.000000  \n",
       "max                     1.000000            34.000000             11.000000  "
      ]
     },
     "execution_count": 103,
     "metadata": {},
     "output_type": "execute_result"
    }
   ],
   "source": [
    "df.describe()"
   ]
  },
  {
   "cell_type": "code",
   "execution_count": 104,
   "metadata": {},
   "outputs": [
    {
     "data": {
      "image/png": "[encoded data removed]",
      "text/plain": [
       "<Figure size 640x480 with 1 Axes>"
      ]
     },
     "metadata": {},
     "output_type": "display_data"
    }
   ],
   "source": [
    "sns.boxplot(data=df, y='Month')\n",
    "plt.show()"
   ]
  },
  {
   "cell_type": "markdown",
   "metadata": {},
   "source": [
    "Observation: no outliers contained in the month column"
   ]
  },
  {
   "cell_type": "code",
   "execution_count": 105,
   "metadata": {},
   "outputs": [
    {
     "data": {
      "image/png": "[encoded data removed]",
      "text/plain": [
       "<Figure size 640x480 with 1 Axes>"
      ]
     },
     "metadata": {},
     "output_type": "display_data"
    }
   ],
   "source": [
    "sns.boxplot(data=df, y='Age')\n",
    "plt.show()"
   ]
  },
  {
   "cell_type": "markdown",
   "metadata": {},
   "source": [
    "Observation: the age column contains large amounts of outliers as shown by the datapoints above the whisker"
   ]
  },
  {
   "cell_type": "code",
   "execution_count": 107,
   "metadata": {},
   "outputs": [],
   "source": [
    "df['Age']= df['Age'].replace('-','')"
   ]
  },
  {
   "cell_type": "code",
   "execution_count": 108,
   "metadata": {},
   "outputs": [],
   "source": [
    "#handling outliers in the Age column\n",
    "z_scores = stats.zscore(df['Age'])\n",
    "df = df[(z_scores < 3) & (z_scores > -3)]"
   ]
  },
  {
   "cell_type": "code",
   "execution_count": 109,
   "metadata": {},
   "outputs": [
    {
     "data": {
      "image/png": "[encoded data removed]",
      "text/plain": [
       "<Figure size 640x480 with 1 Axes>"
      ]
     },
     "metadata": {},
     "output_type": "display_data"
    }
   ],
   "source": [
    "sns.boxplot(data=df, y='Annual_Income')\n",
    "plt.show()"
   ]
  },
  {
   "cell_type": "markdown",
   "metadata": {},
   "source": [
    "Observation: the boxplot shows, the annual_income contains outliers "
   ]
  },
  {
   "cell_type": "code",
   "execution_count": 110,
   "metadata": {},
   "outputs": [],
   "source": [
    "df['Annual_Income'] = np.log1p(df['Annual_Income'])"
   ]
  },
  {
   "cell_type": "code",
   "execution_count": 111,
   "metadata": {},
   "outputs": [
    {
     "data": {
      "text/html": [
       "<div>\n",
       "<style scoped>\n",
       "    .dataframe tbody tr th:only-of-type {\n",
       "        vertical-align: middle;\n",
       "    }\n",
       "\n",
       "    .dataframe tbody tr th {\n",
       "        vertical-align: top;\n",
       "    }\n",
       "\n",
       "    .dataframe thead th {\n",
       "        text-align: right;\n",
       "    }\n",
       "</style>\n",
       "<table border=\"1\" class=\"dataframe\">\n",
       "  <thead>\n",
       "    <tr style=\"text-align: right;\">\n",
       "      <th></th>\n",
       "      <th>Month</th>\n",
       "      <th>Age</th>\n",
       "      <th>Annual_Income</th>\n",
       "      <th>Monthly_Inhand_Salary</th>\n",
       "      <th>Num_Bank_Accounts</th>\n",
       "      <th>Num_Credit_Card</th>\n",
       "      <th>Interest_Rate</th>\n",
       "      <th>Num_of_Loan</th>\n",
       "      <th>Delay_from_due_date</th>\n",
       "      <th>Num_of_Delayed_Payment</th>\n",
       "      <th>Changed_Credit_Limit</th>\n",
       "      <th>Num_Credit_Inquiries</th>\n",
       "      <th>Credit_Mix</th>\n",
       "      <th>Outstanding_Debt</th>\n",
       "      <th>Credit_Utilization_Ratio</th>\n",
       "      <th>Payment_of_Min_Amount</th>\n",
       "      <th>Total_EMI_per_month</th>\n",
       "      <th>Amount_invested_monthly</th>\n",
       "      <th>Payment_Behaviour</th>\n",
       "      <th>Monthly_Balance</th>\n",
       "      <th>Credit_Score</th>\n",
       "      <th>Occupation_Architect</th>\n",
       "      <th>Occupation_Developer</th>\n",
       "      <th>Occupation_Doctor</th>\n",
       "      <th>Occupation_Engineer</th>\n",
       "      <th>Occupation_Entrepreneur</th>\n",
       "      <th>Occupation_Journalist</th>\n",
       "      <th>Occupation_Lawyer</th>\n",
       "      <th>Occupation_Manager</th>\n",
       "      <th>Occupation_Mechanic</th>\n",
       "      <th>Occupation_Media_Manager</th>\n",
       "      <th>Occupation_Musician</th>\n",
       "      <th>Occupation_Scientist</th>\n",
       "      <th>Occupation_Teacher</th>\n",
       "      <th>Occupation_Writer</th>\n",
       "      <th>Type_of_Loan_Credit-Builder Loan</th>\n",
       "      <th>Type_of_Loan_Debt Consolidation Loan</th>\n",
       "      <th>Type_of_Loan_Home Equity Loan</th>\n",
       "      <th>Type_of_Loan_Mortgage Loan</th>\n",
       "      <th>Type_of_Loan_Payday Loan</th>\n",
       "      <th>Type_of_Loan_Personal Loan</th>\n",
       "      <th>Type_of_Loan_Student Loan</th>\n",
       "      <th>Credit_histoty_year</th>\n",
       "      <th>Credit_histoty_month</th>\n",
       "    </tr>\n",
       "  </thead>\n",
       "  <tbody>\n",
       "    <tr>\n",
       "      <th>20</th>\n",
       "      <td>5</td>\n",
       "      <td>23</td>\n",
       "      <td>9.858235</td>\n",
       "      <td>1824.843333</td>\n",
       "      <td>3</td>\n",
       "      <td>4</td>\n",
       "      <td>3</td>\n",
       "      <td>4</td>\n",
       "      <td>6</td>\n",
       "      <td>14</td>\n",
       "      <td>11.27</td>\n",
       "      <td>4.0</td>\n",
       "      <td>1.0</td>\n",
       "      <td>809.98</td>\n",
       "      <td>24.797347</td>\n",
       "      <td>2</td>\n",
       "      <td>49.574949</td>\n",
       "      <td>41.420153</td>\n",
       "      <td>5.0</td>\n",
       "      <td>341.489231</td>\n",
       "      <td>3.0</td>\n",
       "      <td>0</td>\n",
       "      <td>0</td>\n",
       "      <td>0</td>\n",
       "      <td>0</td>\n",
       "      <td>0</td>\n",
       "      <td>0</td>\n",
       "      <td>0</td>\n",
       "      <td>0</td>\n",
       "      <td>0</td>\n",
       "      <td>0</td>\n",
       "      <td>0</td>\n",
       "      <td>1</td>\n",
       "      <td>0</td>\n",
       "      <td>0</td>\n",
       "      <td>0</td>\n",
       "      <td>0</td>\n",
       "      <td>0</td>\n",
       "      <td>0</td>\n",
       "      <td>0</td>\n",
       "      <td>0</td>\n",
       "      <td>0</td>\n",
       "      <td>22.0</td>\n",
       "      <td>5.0</td>\n",
       "    </tr>\n",
       "    <tr>\n",
       "      <th>21</th>\n",
       "      <td>5</td>\n",
       "      <td>23</td>\n",
       "      <td>9.858235</td>\n",
       "      <td>1824.843333</td>\n",
       "      <td>3</td>\n",
       "      <td>4</td>\n",
       "      <td>3</td>\n",
       "      <td>4</td>\n",
       "      <td>6</td>\n",
       "      <td>14</td>\n",
       "      <td>11.27</td>\n",
       "      <td>4.0</td>\n",
       "      <td>1.0</td>\n",
       "      <td>809.98</td>\n",
       "      <td>24.797347</td>\n",
       "      <td>2</td>\n",
       "      <td>49.574949</td>\n",
       "      <td>41.420153</td>\n",
       "      <td>5.0</td>\n",
       "      <td>341.489231</td>\n",
       "      <td>3.0</td>\n",
       "      <td>0</td>\n",
       "      <td>0</td>\n",
       "      <td>0</td>\n",
       "      <td>0</td>\n",
       "      <td>0</td>\n",
       "      <td>0</td>\n",
       "      <td>0</td>\n",
       "      <td>0</td>\n",
       "      <td>0</td>\n",
       "      <td>0</td>\n",
       "      <td>0</td>\n",
       "      <td>1</td>\n",
       "      <td>0</td>\n",
       "      <td>0</td>\n",
       "      <td>1</td>\n",
       "      <td>0</td>\n",
       "      <td>0</td>\n",
       "      <td>0</td>\n",
       "      <td>0</td>\n",
       "      <td>0</td>\n",
       "      <td>0</td>\n",
       "      <td>22.0</td>\n",
       "      <td>5.0</td>\n",
       "    </tr>\n",
       "  </tbody>\n",
       "</table>\n",
       "</div>"
      ],
      "text/plain": [
       "    Month  Age  Annual_Income  Monthly_Inhand_Salary  Num_Bank_Accounts  \\\n",
       "20      5   23       9.858235            1824.843333                  3   \n",
       "21      5   23       9.858235            1824.843333                  3   \n",
       "\n",
       "    Num_Credit_Card  Interest_Rate  Num_of_Loan  Delay_from_due_date  \\\n",
       "20                4              3            4                    6   \n",
       "21                4              3            4                    6   \n",
       "\n",
       "    Num_of_Delayed_Payment  Changed_Credit_Limit  Num_Credit_Inquiries  \\\n",
       "20                      14                 11.27                   4.0   \n",
       "21                      14                 11.27                   4.0   \n",
       "\n",
       "    Credit_Mix  Outstanding_Debt  Credit_Utilization_Ratio  \\\n",
       "20         1.0            809.98                 24.797347   \n",
       "21         1.0            809.98                 24.797347   \n",
       "\n",
       "    Payment_of_Min_Amount  Total_EMI_per_month  Amount_invested_monthly  \\\n",
       "20                      2            49.574949                41.420153   \n",
       "21                      2            49.574949                41.420153   \n",
       "\n",
       "    Payment_Behaviour  Monthly_Balance  Credit_Score  Occupation_Architect  \\\n",
       "20                5.0       341.489231           3.0                     0   \n",
       "21                5.0       341.489231           3.0                     0   \n",
       "\n",
       "    Occupation_Developer  Occupation_Doctor  Occupation_Engineer  \\\n",
       "20                     0                  0                    0   \n",
       "21                     0                  0                    0   \n",
       "\n",
       "    Occupation_Entrepreneur  Occupation_Journalist  Occupation_Lawyer  \\\n",
       "20                        0                      0                  0   \n",
       "21                        0                      0                  0   \n",
       "\n",
       "    Occupation_Manager  Occupation_Mechanic  Occupation_Media_Manager  \\\n",
       "20                   0                    0                         0   \n",
       "21                   0                    0                         0   \n",
       "\n",
       "    Occupation_Musician  Occupation_Scientist  Occupation_Teacher  \\\n",
       "20                    0                     1                   0   \n",
       "21                    0                     1                   0   \n",
       "\n",
       "    Occupation_Writer  Type_of_Loan_Credit-Builder Loan  \\\n",
       "20                  0                                 0   \n",
       "21                  0                                 1   \n",
       "\n",
       "    Type_of_Loan_Debt Consolidation Loan  Type_of_Loan_Home Equity Loan  \\\n",
       "20                                     0                              0   \n",
       "21                                     0                              0   \n",
       "\n",
       "    Type_of_Loan_Mortgage Loan  Type_of_Loan_Payday Loan  \\\n",
       "20                           0                         0   \n",
       "21                           0                         0   \n",
       "\n",
       "    Type_of_Loan_Personal Loan  Type_of_Loan_Student Loan  \\\n",
       "20                           0                          0   \n",
       "21                           0                          0   \n",
       "\n",
       "    Credit_histoty_year  Credit_histoty_month  \n",
       "20                 22.0                   5.0  \n",
       "21                 22.0                   5.0  "
      ]
     },
     "execution_count": 111,
     "metadata": {},
     "output_type": "execute_result"
    }
   ],
   "source": [
    "df.head(2)"
   ]
  },
  {
   "cell_type": "code",
   "execution_count": 112,
   "metadata": {},
   "outputs": [
    {
     "data": {
      "text/plain": [
       "<function matplotlib.pyplot.show(close=None, block=None)>"
      ]
     },
     "execution_count": 112,
     "metadata": {},
     "output_type": "execute_result"
    },
    {
     "data": {
      "image/png": "[encoded data removed]",
      "text/plain": [
       "<Figure size 640x480 with 1 Axes>"
      ]
     },
     "metadata": {},
     "output_type": "display_data"
    }
   ],
   "source": [
    "sns.boxplot(data=df, y= 'Monthly_Inhand_Salary')\n",
    "plt.show"
   ]
  },
  {
   "cell_type": "markdown",
   "metadata": {},
   "source": [
    "Observation: no much outliers, but it will still be handled"
   ]
  },
  {
   "cell_type": "code",
   "execution_count": 113,
   "metadata": {},
   "outputs": [],
   "source": [
    "df.loc[:, 'Monthly_Inhand_Salary'] = np.log1p(df['Monthly_Inhand_Salary'])\n"
   ]
  },
  {
   "cell_type": "code",
   "execution_count": 114,
   "metadata": {},
   "outputs": [
    {
     "data": {
      "text/plain": [
       "<function matplotlib.pyplot.show(close=None, block=None)>"
      ]
     },
     "execution_count": 114,
     "metadata": {},
     "output_type": "execute_result"
    },
    {
     "data": {
      "image/png": "[encoded data removed]",
      "text/plain": [
       "<Figure size 640x480 with 1 Axes>"
      ]
     },
     "metadata": {},
     "output_type": "display_data"
    }
   ],
   "source": [
    "sns.boxplot(data=df, y= 'Num_Bank_Accounts')\n",
    "plt.show"
   ]
  },
  {
   "cell_type": "markdown",
   "metadata": {},
   "source": [
    "obsevation: This column contains Outliers "
   ]
  },
  {
   "cell_type": "code",
   "execution_count": 115,
   "metadata": {},
   "outputs": [
    {
     "name": "stderr",
     "output_type": "stream",
     "text": [
      "c:\\Users\\neo\\anaconda3\\envs\\my_new_env\\lib\\site-packages\\pandas\\core\\arraylike.py:396: RuntimeWarning: divide by zero encountered in log1p\n",
      "  result = getattr(ufunc, method)(*inputs, **kwargs)\n"
     ]
    }
   ],
   "source": [
    "df.loc[:, 'Num_Bank_Accounts'] = np.log1p(df['Num_Bank_Accounts'])\n",
    "\n"
   ]
  },
  {
   "cell_type": "code",
   "execution_count": 116,
   "metadata": {},
   "outputs": [
    {
     "data": {
      "text/html": [
       "<div>\n",
       "<style scoped>\n",
       "    .dataframe tbody tr th:only-of-type {\n",
       "        vertical-align: middle;\n",
       "    }\n",
       "\n",
       "    .dataframe tbody tr th {\n",
       "        vertical-align: top;\n",
       "    }\n",
       "\n",
       "    .dataframe thead th {\n",
       "        text-align: right;\n",
       "    }\n",
       "</style>\n",
       "<table border=\"1\" class=\"dataframe\">\n",
       "  <thead>\n",
       "    <tr style=\"text-align: right;\">\n",
       "      <th></th>\n",
       "      <th>Month</th>\n",
       "      <th>Age</th>\n",
       "      <th>Annual_Income</th>\n",
       "      <th>Monthly_Inhand_Salary</th>\n",
       "      <th>Num_Bank_Accounts</th>\n",
       "      <th>Num_Credit_Card</th>\n",
       "      <th>Interest_Rate</th>\n",
       "      <th>Num_of_Loan</th>\n",
       "      <th>Delay_from_due_date</th>\n",
       "      <th>Num_of_Delayed_Payment</th>\n",
       "      <th>Changed_Credit_Limit</th>\n",
       "      <th>Num_Credit_Inquiries</th>\n",
       "      <th>Credit_Mix</th>\n",
       "      <th>Outstanding_Debt</th>\n",
       "      <th>Credit_Utilization_Ratio</th>\n",
       "      <th>Payment_of_Min_Amount</th>\n",
       "      <th>Total_EMI_per_month</th>\n",
       "      <th>Amount_invested_monthly</th>\n",
       "      <th>Payment_Behaviour</th>\n",
       "      <th>Monthly_Balance</th>\n",
       "      <th>Credit_Score</th>\n",
       "      <th>Occupation_Architect</th>\n",
       "      <th>Occupation_Developer</th>\n",
       "      <th>Occupation_Doctor</th>\n",
       "      <th>Occupation_Engineer</th>\n",
       "      <th>Occupation_Entrepreneur</th>\n",
       "      <th>Occupation_Journalist</th>\n",
       "      <th>Occupation_Lawyer</th>\n",
       "      <th>Occupation_Manager</th>\n",
       "      <th>Occupation_Mechanic</th>\n",
       "      <th>Occupation_Media_Manager</th>\n",
       "      <th>Occupation_Musician</th>\n",
       "      <th>Occupation_Scientist</th>\n",
       "      <th>Occupation_Teacher</th>\n",
       "      <th>Occupation_Writer</th>\n",
       "      <th>Type_of_Loan_Credit-Builder Loan</th>\n",
       "      <th>Type_of_Loan_Debt Consolidation Loan</th>\n",
       "      <th>Type_of_Loan_Home Equity Loan</th>\n",
       "      <th>Type_of_Loan_Mortgage Loan</th>\n",
       "      <th>Type_of_Loan_Payday Loan</th>\n",
       "      <th>Type_of_Loan_Personal Loan</th>\n",
       "      <th>Type_of_Loan_Student Loan</th>\n",
       "      <th>Credit_histoty_year</th>\n",
       "      <th>Credit_histoty_month</th>\n",
       "    </tr>\n",
       "  </thead>\n",
       "  <tbody>\n",
       "    <tr>\n",
       "      <th>20</th>\n",
       "      <td>5</td>\n",
       "      <td>23</td>\n",
       "      <td>9.858235</td>\n",
       "      <td>7.509797</td>\n",
       "      <td>1.386294</td>\n",
       "      <td>4</td>\n",
       "      <td>3</td>\n",
       "      <td>4</td>\n",
       "      <td>6</td>\n",
       "      <td>14</td>\n",
       "      <td>11.27</td>\n",
       "      <td>4.0</td>\n",
       "      <td>1.0</td>\n",
       "      <td>809.98</td>\n",
       "      <td>24.797347</td>\n",
       "      <td>2</td>\n",
       "      <td>49.574949</td>\n",
       "      <td>41.420153</td>\n",
       "      <td>5.0</td>\n",
       "      <td>341.489231</td>\n",
       "      <td>3.0</td>\n",
       "      <td>0</td>\n",
       "      <td>0</td>\n",
       "      <td>0</td>\n",
       "      <td>0</td>\n",
       "      <td>0</td>\n",
       "      <td>0</td>\n",
       "      <td>0</td>\n",
       "      <td>0</td>\n",
       "      <td>0</td>\n",
       "      <td>0</td>\n",
       "      <td>0</td>\n",
       "      <td>1</td>\n",
       "      <td>0</td>\n",
       "      <td>0</td>\n",
       "      <td>0</td>\n",
       "      <td>0</td>\n",
       "      <td>0</td>\n",
       "      <td>0</td>\n",
       "      <td>0</td>\n",
       "      <td>0</td>\n",
       "      <td>0</td>\n",
       "      <td>22.0</td>\n",
       "      <td>5.0</td>\n",
       "    </tr>\n",
       "    <tr>\n",
       "      <th>21</th>\n",
       "      <td>5</td>\n",
       "      <td>23</td>\n",
       "      <td>9.858235</td>\n",
       "      <td>7.509797</td>\n",
       "      <td>1.386294</td>\n",
       "      <td>4</td>\n",
       "      <td>3</td>\n",
       "      <td>4</td>\n",
       "      <td>6</td>\n",
       "      <td>14</td>\n",
       "      <td>11.27</td>\n",
       "      <td>4.0</td>\n",
       "      <td>1.0</td>\n",
       "      <td>809.98</td>\n",
       "      <td>24.797347</td>\n",
       "      <td>2</td>\n",
       "      <td>49.574949</td>\n",
       "      <td>41.420153</td>\n",
       "      <td>5.0</td>\n",
       "      <td>341.489231</td>\n",
       "      <td>3.0</td>\n",
       "      <td>0</td>\n",
       "      <td>0</td>\n",
       "      <td>0</td>\n",
       "      <td>0</td>\n",
       "      <td>0</td>\n",
       "      <td>0</td>\n",
       "      <td>0</td>\n",
       "      <td>0</td>\n",
       "      <td>0</td>\n",
       "      <td>0</td>\n",
       "      <td>0</td>\n",
       "      <td>1</td>\n",
       "      <td>0</td>\n",
       "      <td>0</td>\n",
       "      <td>1</td>\n",
       "      <td>0</td>\n",
       "      <td>0</td>\n",
       "      <td>0</td>\n",
       "      <td>0</td>\n",
       "      <td>0</td>\n",
       "      <td>0</td>\n",
       "      <td>22.0</td>\n",
       "      <td>5.0</td>\n",
       "    </tr>\n",
       "  </tbody>\n",
       "</table>\n",
       "</div>"
      ],
      "text/plain": [
       "    Month  Age  Annual_Income  Monthly_Inhand_Salary  Num_Bank_Accounts  \\\n",
       "20      5   23       9.858235               7.509797           1.386294   \n",
       "21      5   23       9.858235               7.509797           1.386294   \n",
       "\n",
       "    Num_Credit_Card  Interest_Rate  Num_of_Loan  Delay_from_due_date  \\\n",
       "20                4              3            4                    6   \n",
       "21                4              3            4                    6   \n",
       "\n",
       "    Num_of_Delayed_Payment  Changed_Credit_Limit  Num_Credit_Inquiries  \\\n",
       "20                      14                 11.27                   4.0   \n",
       "21                      14                 11.27                   4.0   \n",
       "\n",
       "    Credit_Mix  Outstanding_Debt  Credit_Utilization_Ratio  \\\n",
       "20         1.0            809.98                 24.797347   \n",
       "21         1.0            809.98                 24.797347   \n",
       "\n",
       "    Payment_of_Min_Amount  Total_EMI_per_month  Amount_invested_monthly  \\\n",
       "20                      2            49.574949                41.420153   \n",
       "21                      2            49.574949                41.420153   \n",
       "\n",
       "    Payment_Behaviour  Monthly_Balance  Credit_Score  Occupation_Architect  \\\n",
       "20                5.0       341.489231           3.0                     0   \n",
       "21                5.0       341.489231           3.0                     0   \n",
       "\n",
       "    Occupation_Developer  Occupation_Doctor  Occupation_Engineer  \\\n",
       "20                     0                  0                    0   \n",
       "21                     0                  0                    0   \n",
       "\n",
       "    Occupation_Entrepreneur  Occupation_Journalist  Occupation_Lawyer  \\\n",
       "20                        0                      0                  0   \n",
       "21                        0                      0                  0   \n",
       "\n",
       "    Occupation_Manager  Occupation_Mechanic  Occupation_Media_Manager  \\\n",
       "20                   0                    0                         0   \n",
       "21                   0                    0                         0   \n",
       "\n",
       "    Occupation_Musician  Occupation_Scientist  Occupation_Teacher  \\\n",
       "20                    0                     1                   0   \n",
       "21                    0                     1                   0   \n",
       "\n",
       "    Occupation_Writer  Type_of_Loan_Credit-Builder Loan  \\\n",
       "20                  0                                 0   \n",
       "21                  0                                 1   \n",
       "\n",
       "    Type_of_Loan_Debt Consolidation Loan  Type_of_Loan_Home Equity Loan  \\\n",
       "20                                     0                              0   \n",
       "21                                     0                              0   \n",
       "\n",
       "    Type_of_Loan_Mortgage Loan  Type_of_Loan_Payday Loan  \\\n",
       "20                           0                         0   \n",
       "21                           0                         0   \n",
       "\n",
       "    Type_of_Loan_Personal Loan  Type_of_Loan_Student Loan  \\\n",
       "20                           0                          0   \n",
       "21                           0                          0   \n",
       "\n",
       "    Credit_histoty_year  Credit_histoty_month  \n",
       "20                 22.0                   5.0  \n",
       "21                 22.0                   5.0  "
      ]
     },
     "execution_count": 116,
     "metadata": {},
     "output_type": "execute_result"
    }
   ],
   "source": [
    "df.head(2)"
   ]
  },
  {
   "cell_type": "code",
   "execution_count": 117,
   "metadata": {},
   "outputs": [
    {
     "data": {
      "text/plain": [
       "<function matplotlib.pyplot.show(close=None, block=None)>"
      ]
     },
     "execution_count": 117,
     "metadata": {},
     "output_type": "execute_result"
    },
    {
     "data": {
      "image/png": "[encoded data removed]",
      "text/plain": [
       "<Figure size 640x480 with 1 Axes>"
      ]
     },
     "metadata": {},
     "output_type": "display_data"
    }
   ],
   "source": [
    "sns.boxplot(data=df, y= 'Num_Credit_Card')\n",
    "plt.show"
   ]
  },
  {
   "cell_type": "code",
   "execution_count": 118,
   "metadata": {},
   "outputs": [],
   "source": [
    "z_scores=stats.zscore(df['Num_Credit_Card'])\n",
    "df=df[(z_scores<3)&(z_scores>-3)]\n"
   ]
  },
  {
   "cell_type": "code",
   "execution_count": 119,
   "metadata": {},
   "outputs": [],
   "source": [
    "df.loc[:, 'Num_Credit_Card'] = np.log1p(df['Num_Credit_Card'])\n"
   ]
  },
  {
   "cell_type": "code",
   "execution_count": 120,
   "metadata": {},
   "outputs": [
    {
     "data": {
      "text/plain": [
       "<function matplotlib.pyplot.show(close=None, block=None)>"
      ]
     },
     "execution_count": 120,
     "metadata": {},
     "output_type": "execute_result"
    },
    {
     "data": {
      "image/png": "[encoded data removed]",
      "text/plain": [
       "<Figure size 640x480 with 1 Axes>"
      ]
     },
     "metadata": {},
     "output_type": "display_data"
    }
   ],
   "source": [
    "sns.boxplot(data=df, y= 'Interest_Rate')\n",
    "plt.show"
   ]
  },
  {
   "cell_type": "code",
   "execution_count": 121,
   "metadata": {},
   "outputs": [],
   "source": [
    "z_scores=stats.zscore(df['Interest_Rate'])\n",
    "df=df[(z_scores<3)&(z_scores>-3)]\n"
   ]
  },
  {
   "cell_type": "code",
   "execution_count": 122,
   "metadata": {},
   "outputs": [],
   "source": [
    "df.loc[:, 'Interest_Rate'] = np.log1p(df['Interest_Rate'])"
   ]
  },
  {
   "cell_type": "code",
   "execution_count": 123,
   "metadata": {},
   "outputs": [
    {
     "data": {
      "text/plain": [
       "<function matplotlib.pyplot.show(close=None, block=None)>"
      ]
     },
     "execution_count": 123,
     "metadata": {},
     "output_type": "execute_result"
    },
    {
     "data": {
      "image/png": "[encoded data removed]",
      "text/plain": [
       "<Figure size 640x480 with 1 Axes>"
      ]
     },
     "metadata": {},
     "output_type": "display_data"
    }
   ],
   "source": [
    "sns.boxplot(data=df, y= 'Num_of_Loan')\n",
    "plt.show"
   ]
  },
  {
   "cell_type": "code",
   "execution_count": 124,
   "metadata": {},
   "outputs": [],
   "source": [
    "z_scores=stats.zscore(df['Num_of_Loan'])\n",
    "df=df[(z_scores<3)&(z_scores>-3)]\n"
   ]
  },
  {
   "cell_type": "code",
   "execution_count": 125,
   "metadata": {},
   "outputs": [
    {
     "name": "stderr",
     "output_type": "stream",
     "text": [
      "c:\\Users\\neo\\anaconda3\\envs\\my_new_env\\lib\\site-packages\\pandas\\core\\arraylike.py:396: RuntimeWarning: invalid value encountered in log1p\n",
      "  result = getattr(ufunc, method)(*inputs, **kwargs)\n"
     ]
    }
   ],
   "source": [
    "df.loc[:, 'Num_of_Loan'] = np.log1p(df['Num_of_Loan'])"
   ]
  },
  {
   "cell_type": "code",
   "execution_count": 126,
   "metadata": {},
   "outputs": [
    {
     "data": {
      "text/html": [
       "<div>\n",
       "<style scoped>\n",
       "    .dataframe tbody tr th:only-of-type {\n",
       "        vertical-align: middle;\n",
       "    }\n",
       "\n",
       "    .dataframe tbody tr th {\n",
       "        vertical-align: top;\n",
       "    }\n",
       "\n",
       "    .dataframe thead th {\n",
       "        text-align: right;\n",
       "    }\n",
       "</style>\n",
       "<table border=\"1\" class=\"dataframe\">\n",
       "  <thead>\n",
       "    <tr style=\"text-align: right;\">\n",
       "      <th></th>\n",
       "      <th>Month</th>\n",
       "      <th>Age</th>\n",
       "      <th>Annual_Income</th>\n",
       "      <th>Monthly_Inhand_Salary</th>\n",
       "      <th>Num_Bank_Accounts</th>\n",
       "      <th>Num_Credit_Card</th>\n",
       "      <th>Interest_Rate</th>\n",
       "      <th>Num_of_Loan</th>\n",
       "      <th>Delay_from_due_date</th>\n",
       "      <th>Num_of_Delayed_Payment</th>\n",
       "      <th>Changed_Credit_Limit</th>\n",
       "      <th>Num_Credit_Inquiries</th>\n",
       "      <th>Credit_Mix</th>\n",
       "      <th>Outstanding_Debt</th>\n",
       "      <th>Credit_Utilization_Ratio</th>\n",
       "      <th>Payment_of_Min_Amount</th>\n",
       "      <th>Total_EMI_per_month</th>\n",
       "      <th>Amount_invested_monthly</th>\n",
       "      <th>Payment_Behaviour</th>\n",
       "      <th>Monthly_Balance</th>\n",
       "      <th>Credit_Score</th>\n",
       "      <th>Occupation_Architect</th>\n",
       "      <th>Occupation_Developer</th>\n",
       "      <th>Occupation_Doctor</th>\n",
       "      <th>Occupation_Engineer</th>\n",
       "      <th>Occupation_Entrepreneur</th>\n",
       "      <th>Occupation_Journalist</th>\n",
       "      <th>Occupation_Lawyer</th>\n",
       "      <th>Occupation_Manager</th>\n",
       "      <th>Occupation_Mechanic</th>\n",
       "      <th>Occupation_Media_Manager</th>\n",
       "      <th>Occupation_Musician</th>\n",
       "      <th>Occupation_Scientist</th>\n",
       "      <th>Occupation_Teacher</th>\n",
       "      <th>Occupation_Writer</th>\n",
       "      <th>Type_of_Loan_Credit-Builder Loan</th>\n",
       "      <th>Type_of_Loan_Debt Consolidation Loan</th>\n",
       "      <th>Type_of_Loan_Home Equity Loan</th>\n",
       "      <th>Type_of_Loan_Mortgage Loan</th>\n",
       "      <th>Type_of_Loan_Payday Loan</th>\n",
       "      <th>Type_of_Loan_Personal Loan</th>\n",
       "      <th>Type_of_Loan_Student Loan</th>\n",
       "      <th>Credit_histoty_year</th>\n",
       "      <th>Credit_histoty_month</th>\n",
       "    </tr>\n",
       "  </thead>\n",
       "  <tbody>\n",
       "    <tr>\n",
       "      <th>20</th>\n",
       "      <td>5</td>\n",
       "      <td>23</td>\n",
       "      <td>9.858235</td>\n",
       "      <td>7.509797</td>\n",
       "      <td>1.386294</td>\n",
       "      <td>1.609438</td>\n",
       "      <td>1.386294</td>\n",
       "      <td>1.609438</td>\n",
       "      <td>6</td>\n",
       "      <td>14</td>\n",
       "      <td>11.27</td>\n",
       "      <td>4.0</td>\n",
       "      <td>1.0</td>\n",
       "      <td>809.98</td>\n",
       "      <td>24.797347</td>\n",
       "      <td>2</td>\n",
       "      <td>49.574949</td>\n",
       "      <td>41.420153</td>\n",
       "      <td>5.0</td>\n",
       "      <td>341.489231</td>\n",
       "      <td>3.0</td>\n",
       "      <td>0</td>\n",
       "      <td>0</td>\n",
       "      <td>0</td>\n",
       "      <td>0</td>\n",
       "      <td>0</td>\n",
       "      <td>0</td>\n",
       "      <td>0</td>\n",
       "      <td>0</td>\n",
       "      <td>0</td>\n",
       "      <td>0</td>\n",
       "      <td>0</td>\n",
       "      <td>1</td>\n",
       "      <td>0</td>\n",
       "      <td>0</td>\n",
       "      <td>0</td>\n",
       "      <td>0</td>\n",
       "      <td>0</td>\n",
       "      <td>0</td>\n",
       "      <td>0</td>\n",
       "      <td>0</td>\n",
       "      <td>0</td>\n",
       "      <td>22.0</td>\n",
       "      <td>5.0</td>\n",
       "    </tr>\n",
       "    <tr>\n",
       "      <th>21</th>\n",
       "      <td>5</td>\n",
       "      <td>23</td>\n",
       "      <td>9.858235</td>\n",
       "      <td>7.509797</td>\n",
       "      <td>1.386294</td>\n",
       "      <td>1.609438</td>\n",
       "      <td>1.386294</td>\n",
       "      <td>1.609438</td>\n",
       "      <td>6</td>\n",
       "      <td>14</td>\n",
       "      <td>11.27</td>\n",
       "      <td>4.0</td>\n",
       "      <td>1.0</td>\n",
       "      <td>809.98</td>\n",
       "      <td>24.797347</td>\n",
       "      <td>2</td>\n",
       "      <td>49.574949</td>\n",
       "      <td>41.420153</td>\n",
       "      <td>5.0</td>\n",
       "      <td>341.489231</td>\n",
       "      <td>3.0</td>\n",
       "      <td>0</td>\n",
       "      <td>0</td>\n",
       "      <td>0</td>\n",
       "      <td>0</td>\n",
       "      <td>0</td>\n",
       "      <td>0</td>\n",
       "      <td>0</td>\n",
       "      <td>0</td>\n",
       "      <td>0</td>\n",
       "      <td>0</td>\n",
       "      <td>0</td>\n",
       "      <td>1</td>\n",
       "      <td>0</td>\n",
       "      <td>0</td>\n",
       "      <td>1</td>\n",
       "      <td>0</td>\n",
       "      <td>0</td>\n",
       "      <td>0</td>\n",
       "      <td>0</td>\n",
       "      <td>0</td>\n",
       "      <td>0</td>\n",
       "      <td>22.0</td>\n",
       "      <td>5.0</td>\n",
       "    </tr>\n",
       "  </tbody>\n",
       "</table>\n",
       "</div>"
      ],
      "text/plain": [
       "    Month  Age  Annual_Income  Monthly_Inhand_Salary  Num_Bank_Accounts  \\\n",
       "20      5   23       9.858235               7.509797           1.386294   \n",
       "21      5   23       9.858235               7.509797           1.386294   \n",
       "\n",
       "    Num_Credit_Card  Interest_Rate  Num_of_Loan  Delay_from_due_date  \\\n",
       "20         1.609438       1.386294     1.609438                    6   \n",
       "21         1.609438       1.386294     1.609438                    6   \n",
       "\n",
       "    Num_of_Delayed_Payment  Changed_Credit_Limit  Num_Credit_Inquiries  \\\n",
       "20                      14                 11.27                   4.0   \n",
       "21                      14                 11.27                   4.0   \n",
       "\n",
       "    Credit_Mix  Outstanding_Debt  Credit_Utilization_Ratio  \\\n",
       "20         1.0            809.98                 24.797347   \n",
       "21         1.0            809.98                 24.797347   \n",
       "\n",
       "    Payment_of_Min_Amount  Total_EMI_per_month  Amount_invested_monthly  \\\n",
       "20                      2            49.574949                41.420153   \n",
       "21                      2            49.574949                41.420153   \n",
       "\n",
       "    Payment_Behaviour  Monthly_Balance  Credit_Score  Occupation_Architect  \\\n",
       "20                5.0       341.489231           3.0                     0   \n",
       "21                5.0       341.489231           3.0                     0   \n",
       "\n",
       "    Occupation_Developer  Occupation_Doctor  Occupation_Engineer  \\\n",
       "20                     0                  0                    0   \n",
       "21                     0                  0                    0   \n",
       "\n",
       "    Occupation_Entrepreneur  Occupation_Journalist  Occupation_Lawyer  \\\n",
       "20                        0                      0                  0   \n",
       "21                        0                      0                  0   \n",
       "\n",
       "    Occupation_Manager  Occupation_Mechanic  Occupation_Media_Manager  \\\n",
       "20                   0                    0                         0   \n",
       "21                   0                    0                         0   \n",
       "\n",
       "    Occupation_Musician  Occupation_Scientist  Occupation_Teacher  \\\n",
       "20                    0                     1                   0   \n",
       "21                    0                     1                   0   \n",
       "\n",
       "    Occupation_Writer  Type_of_Loan_Credit-Builder Loan  \\\n",
       "20                  0                                 0   \n",
       "21                  0                                 1   \n",
       "\n",
       "    Type_of_Loan_Debt Consolidation Loan  Type_of_Loan_Home Equity Loan  \\\n",
       "20                                     0                              0   \n",
       "21                                     0                              0   \n",
       "\n",
       "    Type_of_Loan_Mortgage Loan  Type_of_Loan_Payday Loan  \\\n",
       "20                           0                         0   \n",
       "21                           0                         0   \n",
       "\n",
       "    Type_of_Loan_Personal Loan  Type_of_Loan_Student Loan  \\\n",
       "20                           0                          0   \n",
       "21                           0                          0   \n",
       "\n",
       "    Credit_histoty_year  Credit_histoty_month  \n",
       "20                 22.0                   5.0  \n",
       "21                 22.0                   5.0  "
      ]
     },
     "execution_count": 126,
     "metadata": {},
     "output_type": "execute_result"
    }
   ],
   "source": [
    "df.head(2)"
   ]
  },
  {
   "cell_type": "code",
   "execution_count": 127,
   "metadata": {},
   "outputs": [
    {
     "data": {
      "text/plain": [
       "<function matplotlib.pyplot.show(close=None, block=None)>"
      ]
     },
     "execution_count": 127,
     "metadata": {},
     "output_type": "execute_result"
    },
    {
     "data": {
      "image/png": "[encoded data removed]",
      "text/plain": [
       "<Figure size 640x480 with 1 Axes>"
      ]
     },
     "metadata": {},
     "output_type": "display_data"
    }
   ],
   "source": [
    "sns.boxplot(data=df, y= 'Delay_from_due_date')\n",
    "plt.show"
   ]
  },
  {
   "cell_type": "markdown",
   "metadata": {},
   "source": [
    "observation: no Outliers, as the are no datapoints below or above the whiskers"
   ]
  },
  {
   "cell_type": "code",
   "execution_count": 128,
   "metadata": {},
   "outputs": [
    {
     "data": {
      "text/plain": [
       "<function matplotlib.pyplot.show(close=None, block=None)>"
      ]
     },
     "execution_count": 128,
     "metadata": {},
     "output_type": "execute_result"
    },
    {
     "data": {
      "image/png": "[encoded data removed]",
      "text/plain": [
       "<Figure size 640x480 with 1 Axes>"
      ]
     },
     "metadata": {},
     "output_type": "display_data"
    }
   ],
   "source": [
    "sns.boxplot(data=df, y= 'Num_of_Delayed_Payment')\n",
    "plt.show"
   ]
  },
  {
   "cell_type": "code",
   "execution_count": 129,
   "metadata": {},
   "outputs": [],
   "source": [
    "z_scores=stats.zscore(df['Num_of_Delayed_Payment'])\n",
    "df=df[(z_scores<3)&(z_scores>-3)]"
   ]
  },
  {
   "cell_type": "code",
   "execution_count": 130,
   "metadata": {},
   "outputs": [],
   "source": [
    "from scipy.stats.mstats import winsorize\n",
    "df['Num_of_Delayed_Payment']= winsorize(df['Num_of_Delayed_Payment'], limits=[0.01, 0.01])"
   ]
  },
  {
   "cell_type": "code",
   "execution_count": 131,
   "metadata": {},
   "outputs": [
    {
     "data": {
      "text/plain": [
       "<function matplotlib.pyplot.show(close=None, block=None)>"
      ]
     },
     "execution_count": 131,
     "metadata": {},
     "output_type": "execute_result"
    },
    {
     "data": {
      "image/png": "[encoded data removed]",
      "text/plain": [
       "<Figure size 640x480 with 1 Axes>"
      ]
     },
     "metadata": {},
     "output_type": "display_data"
    }
   ],
   "source": [
    "sns.boxplot(data=df, y= 'Changed_Credit_Limit')\n",
    "plt.show"
   ]
  },
  {
   "cell_type": "code",
   "execution_count": 132,
   "metadata": {},
   "outputs": [],
   "source": [
    "\n",
    "df['Changed_Credit_Limit']= winsorize(df['Changed_Credit_Limit'], limits=[0.01, 0.01])"
   ]
  },
  {
   "cell_type": "code",
   "execution_count": 133,
   "metadata": {},
   "outputs": [
    {
     "data": {
      "text/plain": [
       "<function matplotlib.pyplot.show(close=None, block=None)>"
      ]
     },
     "execution_count": 133,
     "metadata": {},
     "output_type": "execute_result"
    },
    {
     "data": {
      "image/png": "[encoded data removed]",
      "text/plain": [
       "<Figure size 640x480 with 1 Axes>"
      ]
     },
     "metadata": {},
     "output_type": "display_data"
    }
   ],
   "source": [
    "sns.boxplot(data=df, y= 'Num_Credit_Inquiries')\n",
    "plt.show"
   ]
  },
  {
   "cell_type": "code",
   "execution_count": 134,
   "metadata": {},
   "outputs": [],
   "source": [
    "z_scores=stats.zscore(df['Num_Credit_Inquiries'])\n",
    "df=df[(z_scores<3)&(z_scores>-3)]"
   ]
  },
  {
   "cell_type": "code",
   "execution_count": 135,
   "metadata": {},
   "outputs": [],
   "source": [
    "df['Num_Credit_Inquiries']= winsorize(df['Num_Credit_Inquiries'], limits=[0.01, 0.01])"
   ]
  },
  {
   "cell_type": "code",
   "execution_count": 136,
   "metadata": {},
   "outputs": [
    {
     "data": {
      "text/plain": [
       "<function matplotlib.pyplot.show(close=None, block=None)>"
      ]
     },
     "execution_count": 136,
     "metadata": {},
     "output_type": "execute_result"
    },
    {
     "data": {
      "image/png": "[encoded data removed]",
      "text/plain": [
       "<Figure size 640x480 with 1 Axes>"
      ]
     },
     "metadata": {},
     "output_type": "display_data"
    }
   ],
   "source": [
    "sns.boxplot(data=df, y= 'Outstanding_Debt')\n",
    "plt.show"
   ]
  },
  {
   "cell_type": "code",
   "execution_count": 137,
   "metadata": {},
   "outputs": [
    {
     "data": {
      "text/plain": [
       "<function matplotlib.pyplot.show(close=None, block=None)>"
      ]
     },
     "execution_count": 137,
     "metadata": {},
     "output_type": "execute_result"
    },
    {
     "data": {
      "image/png": "[encoded data removed]",
      "text/plain": [
       "<Figure size 640x480 with 1 Axes>"
      ]
     },
     "metadata": {},
     "output_type": "display_data"
    }
   ],
   "source": [
    "sns.boxplot(data=df, y= 'Credit_Utilization_Ratio')\n",
    "plt.show"
   ]
  },
  {
   "cell_type": "code",
   "execution_count": 138,
   "metadata": {},
   "outputs": [
    {
     "data": {
      "text/html": [
       "<div>\n",
       "<style scoped>\n",
       "    .dataframe tbody tr th:only-of-type {\n",
       "        vertical-align: middle;\n",
       "    }\n",
       "\n",
       "    .dataframe tbody tr th {\n",
       "        vertical-align: top;\n",
       "    }\n",
       "\n",
       "    .dataframe thead th {\n",
       "        text-align: right;\n",
       "    }\n",
       "</style>\n",
       "<table border=\"1\" class=\"dataframe\">\n",
       "  <thead>\n",
       "    <tr style=\"text-align: right;\">\n",
       "      <th></th>\n",
       "      <th>Month</th>\n",
       "      <th>Age</th>\n",
       "      <th>Annual_Income</th>\n",
       "      <th>Monthly_Inhand_Salary</th>\n",
       "      <th>Num_Bank_Accounts</th>\n",
       "      <th>Num_Credit_Card</th>\n",
       "      <th>Interest_Rate</th>\n",
       "      <th>Num_of_Loan</th>\n",
       "      <th>Delay_from_due_date</th>\n",
       "      <th>Num_of_Delayed_Payment</th>\n",
       "      <th>Changed_Credit_Limit</th>\n",
       "      <th>Num_Credit_Inquiries</th>\n",
       "      <th>Credit_Mix</th>\n",
       "      <th>Outstanding_Debt</th>\n",
       "      <th>Credit_Utilization_Ratio</th>\n",
       "      <th>Payment_of_Min_Amount</th>\n",
       "      <th>Total_EMI_per_month</th>\n",
       "      <th>Amount_invested_monthly</th>\n",
       "      <th>Payment_Behaviour</th>\n",
       "      <th>Monthly_Balance</th>\n",
       "      <th>Credit_Score</th>\n",
       "      <th>Occupation_Architect</th>\n",
       "      <th>Occupation_Developer</th>\n",
       "      <th>Occupation_Doctor</th>\n",
       "      <th>Occupation_Engineer</th>\n",
       "      <th>Occupation_Entrepreneur</th>\n",
       "      <th>Occupation_Journalist</th>\n",
       "      <th>Occupation_Lawyer</th>\n",
       "      <th>Occupation_Manager</th>\n",
       "      <th>Occupation_Mechanic</th>\n",
       "      <th>Occupation_Media_Manager</th>\n",
       "      <th>Occupation_Musician</th>\n",
       "      <th>Occupation_Scientist</th>\n",
       "      <th>Occupation_Teacher</th>\n",
       "      <th>Occupation_Writer</th>\n",
       "      <th>Type_of_Loan_Credit-Builder Loan</th>\n",
       "      <th>Type_of_Loan_Debt Consolidation Loan</th>\n",
       "      <th>Type_of_Loan_Home Equity Loan</th>\n",
       "      <th>Type_of_Loan_Mortgage Loan</th>\n",
       "      <th>Type_of_Loan_Payday Loan</th>\n",
       "      <th>Type_of_Loan_Personal Loan</th>\n",
       "      <th>Type_of_Loan_Student Loan</th>\n",
       "      <th>Credit_histoty_year</th>\n",
       "      <th>Credit_histoty_month</th>\n",
       "    </tr>\n",
       "  </thead>\n",
       "  <tbody>\n",
       "    <tr>\n",
       "      <th>20</th>\n",
       "      <td>5</td>\n",
       "      <td>23</td>\n",
       "      <td>9.858235</td>\n",
       "      <td>7.509797</td>\n",
       "      <td>1.386294</td>\n",
       "      <td>1.609438</td>\n",
       "      <td>1.386294</td>\n",
       "      <td>1.609438</td>\n",
       "      <td>6</td>\n",
       "      <td>14</td>\n",
       "      <td>11.27</td>\n",
       "      <td>4.0</td>\n",
       "      <td>1.0</td>\n",
       "      <td>809.98</td>\n",
       "      <td>24.797347</td>\n",
       "      <td>2</td>\n",
       "      <td>49.574949</td>\n",
       "      <td>41.420153</td>\n",
       "      <td>5.0</td>\n",
       "      <td>341.489231</td>\n",
       "      <td>3.0</td>\n",
       "      <td>0</td>\n",
       "      <td>0</td>\n",
       "      <td>0</td>\n",
       "      <td>0</td>\n",
       "      <td>0</td>\n",
       "      <td>0</td>\n",
       "      <td>0</td>\n",
       "      <td>0</td>\n",
       "      <td>0</td>\n",
       "      <td>0</td>\n",
       "      <td>0</td>\n",
       "      <td>1</td>\n",
       "      <td>0</td>\n",
       "      <td>0</td>\n",
       "      <td>0</td>\n",
       "      <td>0</td>\n",
       "      <td>0</td>\n",
       "      <td>0</td>\n",
       "      <td>0</td>\n",
       "      <td>0</td>\n",
       "      <td>0</td>\n",
       "      <td>22.0</td>\n",
       "      <td>5.0</td>\n",
       "    </tr>\n",
       "    <tr>\n",
       "      <th>21</th>\n",
       "      <td>5</td>\n",
       "      <td>23</td>\n",
       "      <td>9.858235</td>\n",
       "      <td>7.509797</td>\n",
       "      <td>1.386294</td>\n",
       "      <td>1.609438</td>\n",
       "      <td>1.386294</td>\n",
       "      <td>1.609438</td>\n",
       "      <td>6</td>\n",
       "      <td>14</td>\n",
       "      <td>11.27</td>\n",
       "      <td>4.0</td>\n",
       "      <td>1.0</td>\n",
       "      <td>809.98</td>\n",
       "      <td>24.797347</td>\n",
       "      <td>2</td>\n",
       "      <td>49.574949</td>\n",
       "      <td>41.420153</td>\n",
       "      <td>5.0</td>\n",
       "      <td>341.489231</td>\n",
       "      <td>3.0</td>\n",
       "      <td>0</td>\n",
       "      <td>0</td>\n",
       "      <td>0</td>\n",
       "      <td>0</td>\n",
       "      <td>0</td>\n",
       "      <td>0</td>\n",
       "      <td>0</td>\n",
       "      <td>0</td>\n",
       "      <td>0</td>\n",
       "      <td>0</td>\n",
       "      <td>0</td>\n",
       "      <td>1</td>\n",
       "      <td>0</td>\n",
       "      <td>0</td>\n",
       "      <td>1</td>\n",
       "      <td>0</td>\n",
       "      <td>0</td>\n",
       "      <td>0</td>\n",
       "      <td>0</td>\n",
       "      <td>0</td>\n",
       "      <td>0</td>\n",
       "      <td>22.0</td>\n",
       "      <td>5.0</td>\n",
       "    </tr>\n",
       "  </tbody>\n",
       "</table>\n",
       "</div>"
      ],
      "text/plain": [
       "    Month  Age  Annual_Income  Monthly_Inhand_Salary  Num_Bank_Accounts  \\\n",
       "20      5   23       9.858235               7.509797           1.386294   \n",
       "21      5   23       9.858235               7.509797           1.386294   \n",
       "\n",
       "    Num_Credit_Card  Interest_Rate  Num_of_Loan  Delay_from_due_date  \\\n",
       "20         1.609438       1.386294     1.609438                    6   \n",
       "21         1.609438       1.386294     1.609438                    6   \n",
       "\n",
       "    Num_of_Delayed_Payment  Changed_Credit_Limit  Num_Credit_Inquiries  \\\n",
       "20                      14                 11.27                   4.0   \n",
       "21                      14                 11.27                   4.0   \n",
       "\n",
       "    Credit_Mix  Outstanding_Debt  Credit_Utilization_Ratio  \\\n",
       "20         1.0            809.98                 24.797347   \n",
       "21         1.0            809.98                 24.797347   \n",
       "\n",
       "    Payment_of_Min_Amount  Total_EMI_per_month  Amount_invested_monthly  \\\n",
       "20                      2            49.574949                41.420153   \n",
       "21                      2            49.574949                41.420153   \n",
       "\n",
       "    Payment_Behaviour  Monthly_Balance  Credit_Score  Occupation_Architect  \\\n",
       "20                5.0       341.489231           3.0                     0   \n",
       "21                5.0       341.489231           3.0                     0   \n",
       "\n",
       "    Occupation_Developer  Occupation_Doctor  Occupation_Engineer  \\\n",
       "20                     0                  0                    0   \n",
       "21                     0                  0                    0   \n",
       "\n",
       "    Occupation_Entrepreneur  Occupation_Journalist  Occupation_Lawyer  \\\n",
       "20                        0                      0                  0   \n",
       "21                        0                      0                  0   \n",
       "\n",
       "    Occupation_Manager  Occupation_Mechanic  Occupation_Media_Manager  \\\n",
       "20                   0                    0                         0   \n",
       "21                   0                    0                         0   \n",
       "\n",
       "    Occupation_Musician  Occupation_Scientist  Occupation_Teacher  \\\n",
       "20                    0                     1                   0   \n",
       "21                    0                     1                   0   \n",
       "\n",
       "    Occupation_Writer  Type_of_Loan_Credit-Builder Loan  \\\n",
       "20                  0                                 0   \n",
       "21                  0                                 1   \n",
       "\n",
       "    Type_of_Loan_Debt Consolidation Loan  Type_of_Loan_Home Equity Loan  \\\n",
       "20                                     0                              0   \n",
       "21                                     0                              0   \n",
       "\n",
       "    Type_of_Loan_Mortgage Loan  Type_of_Loan_Payday Loan  \\\n",
       "20                           0                         0   \n",
       "21                           0                         0   \n",
       "\n",
       "    Type_of_Loan_Personal Loan  Type_of_Loan_Student Loan  \\\n",
       "20                           0                          0   \n",
       "21                           0                          0   \n",
       "\n",
       "    Credit_histoty_year  Credit_histoty_month  \n",
       "20                 22.0                   5.0  \n",
       "21                 22.0                   5.0  "
      ]
     },
     "execution_count": 138,
     "metadata": {},
     "output_type": "execute_result"
    }
   ],
   "source": [
    "df.head(2)"
   ]
  },
  {
   "cell_type": "code",
   "execution_count": 139,
   "metadata": {},
   "outputs": [
    {
     "data": {
      "text/plain": [
       "<function matplotlib.pyplot.show(close=None, block=None)>"
      ]
     },
     "execution_count": 139,
     "metadata": {},
     "output_type": "execute_result"
    },
    {
     "data": {
      "image/png": "[encoded data removed]",
      "text/plain": [
       "<Figure size 640x480 with 1 Axes>"
      ]
     },
     "metadata": {},
     "output_type": "display_data"
    }
   ],
   "source": [
    "sns.boxplot(data=df, y= 'Total_EMI_per_month')\n",
    "plt.show"
   ]
  },
  {
   "cell_type": "code",
   "execution_count": 140,
   "metadata": {},
   "outputs": [],
   "source": [
    "z_scores=stats.zscore(df['Total_EMI_per_month'])\n",
    "df=df[(z_scores<3)&(z_scores>-3)]"
   ]
  },
  {
   "cell_type": "code",
   "execution_count": 141,
   "metadata": {},
   "outputs": [],
   "source": [
    "df['Total_EMI_per_month']= winsorize(df['Total_EMI_per_month'], limits=[0.01, 0.01])"
   ]
  },
  {
   "cell_type": "code",
   "execution_count": 142,
   "metadata": {},
   "outputs": [
    {
     "data": {
      "text/plain": [
       "<function matplotlib.pyplot.show(close=None, block=None)>"
      ]
     },
     "execution_count": 142,
     "metadata": {},
     "output_type": "execute_result"
    },
    {
     "data": {
      "image/png": "[encoded data removed]",
      "text/plain": [
       "<Figure size 640x480 with 1 Axes>"
      ]
     },
     "metadata": {},
     "output_type": "display_data"
    }
   ],
   "source": [
    "sns.boxplot(data=df, y= 'Amount_invested_monthly')\n",
    "plt.show"
   ]
  },
  {
   "cell_type": "code",
   "execution_count": 143,
   "metadata": {},
   "outputs": [],
   "source": [
    "z_scores=stats.zscore(df['Amount_invested_monthly'])\n",
    "df=df[(z_scores<3)&(z_scores>-3)]"
   ]
  },
  {
   "cell_type": "code",
   "execution_count": 144,
   "metadata": {},
   "outputs": [],
   "source": [
    "df['Amount_invested_monthly']= winsorize(df['Amount_invested_monthly'], limits=[0.01, 0.01])"
   ]
  },
  {
   "cell_type": "code",
   "execution_count": 145,
   "metadata": {},
   "outputs": [
    {
     "data": {
      "text/plain": [
       "<function matplotlib.pyplot.show(close=None, block=None)>"
      ]
     },
     "execution_count": 145,
     "metadata": {},
     "output_type": "execute_result"
    },
    {
     "data": {
      "image/png": "[encoded data removed]",
      "text/plain": [
       "<Figure size 640x480 with 1 Axes>"
      ]
     },
     "metadata": {},
     "output_type": "display_data"
    }
   ],
   "source": [
    "sns.boxplot(data=df, y= 'Monthly_Balance')\n",
    "plt.show"
   ]
  },
  {
   "cell_type": "code",
   "execution_count": 146,
   "metadata": {},
   "outputs": [],
   "source": [
    "z_scores=stats.zscore(df['Monthly_Balance'])\n",
    "df=df[(z_scores<3)&(z_scores>-3)]"
   ]
  },
  {
   "cell_type": "code",
   "execution_count": 147,
   "metadata": {},
   "outputs": [],
   "source": [
    "df['Monthly_Balance']= winsorize(df['Monthly_Balance'], limits=[0.01, 0.01])"
   ]
  },
  {
   "cell_type": "markdown",
   "metadata": {},
   "source": [
    "DATA Visualization"
   ]
  },
  {
   "cell_type": "code",
   "execution_count": 148,
   "metadata": {},
   "outputs": [],
   "source": [
    "#first of, spliting the dataset back into train and test data we have \n",
    "df_train= df[df['Credit_Score'].isnull()]\n",
    "df_test=df[~df['Credit_Score'].isnull()]"
   ]
  },
  {
   "cell_type": "code",
   "execution_count": 149,
   "metadata": {},
   "outputs": [
    {
     "data": {
      "text/html": [
       "<div>\n",
       "<style scoped>\n",
       "    .dataframe tbody tr th:only-of-type {\n",
       "        vertical-align: middle;\n",
       "    }\n",
       "\n",
       "    .dataframe tbody tr th {\n",
       "        vertical-align: top;\n",
       "    }\n",
       "\n",
       "    .dataframe thead th {\n",
       "        text-align: right;\n",
       "    }\n",
       "</style>\n",
       "<table border=\"1\" class=\"dataframe\">\n",
       "  <thead>\n",
       "    <tr style=\"text-align: right;\">\n",
       "      <th></th>\n",
       "      <th>Month</th>\n",
       "      <th>Age</th>\n",
       "      <th>Annual_Income</th>\n",
       "      <th>Monthly_Inhand_Salary</th>\n",
       "      <th>Num_Bank_Accounts</th>\n",
       "      <th>Num_Credit_Card</th>\n",
       "      <th>Interest_Rate</th>\n",
       "      <th>Num_of_Loan</th>\n",
       "      <th>Delay_from_due_date</th>\n",
       "      <th>Num_of_Delayed_Payment</th>\n",
       "      <th>Changed_Credit_Limit</th>\n",
       "      <th>Num_Credit_Inquiries</th>\n",
       "      <th>Credit_Mix</th>\n",
       "      <th>Outstanding_Debt</th>\n",
       "      <th>Credit_Utilization_Ratio</th>\n",
       "      <th>Payment_of_Min_Amount</th>\n",
       "      <th>Total_EMI_per_month</th>\n",
       "      <th>Amount_invested_monthly</th>\n",
       "      <th>Payment_Behaviour</th>\n",
       "      <th>Monthly_Balance</th>\n",
       "      <th>Credit_Score</th>\n",
       "      <th>Occupation_Architect</th>\n",
       "      <th>Occupation_Developer</th>\n",
       "      <th>Occupation_Doctor</th>\n",
       "      <th>Occupation_Engineer</th>\n",
       "      <th>Occupation_Entrepreneur</th>\n",
       "      <th>Occupation_Journalist</th>\n",
       "      <th>Occupation_Lawyer</th>\n",
       "      <th>Occupation_Manager</th>\n",
       "      <th>Occupation_Mechanic</th>\n",
       "      <th>Occupation_Media_Manager</th>\n",
       "      <th>Occupation_Musician</th>\n",
       "      <th>Occupation_Scientist</th>\n",
       "      <th>Occupation_Teacher</th>\n",
       "      <th>Occupation_Writer</th>\n",
       "      <th>Type_of_Loan_Credit-Builder Loan</th>\n",
       "      <th>Type_of_Loan_Debt Consolidation Loan</th>\n",
       "      <th>Type_of_Loan_Home Equity Loan</th>\n",
       "      <th>Type_of_Loan_Mortgage Loan</th>\n",
       "      <th>Type_of_Loan_Payday Loan</th>\n",
       "      <th>Type_of_Loan_Personal Loan</th>\n",
       "      <th>Type_of_Loan_Student Loan</th>\n",
       "      <th>Credit_histoty_year</th>\n",
       "      <th>Credit_histoty_month</th>\n",
       "    </tr>\n",
       "  </thead>\n",
       "  <tbody>\n",
       "    <tr>\n",
       "      <th>411255</th>\n",
       "      <td>10</td>\n",
       "      <td>24</td>\n",
       "      <td>9.858235</td>\n",
       "      <td>7.509797</td>\n",
       "      <td>1.386294</td>\n",
       "      <td>1.609438</td>\n",
       "      <td>1.386294</td>\n",
       "      <td>1.609438</td>\n",
       "      <td>3</td>\n",
       "      <td>9</td>\n",
       "      <td>13.27</td>\n",
       "      <td>4.0</td>\n",
       "      <td>1.0</td>\n",
       "      <td>809.98</td>\n",
       "      <td>33.053114</td>\n",
       "      <td>2</td>\n",
       "      <td>49.574949</td>\n",
       "      <td>21.46538</td>\n",
       "      <td>5.0</td>\n",
       "      <td>361.444004</td>\n",
       "      <td>NaN</td>\n",
       "      <td>0</td>\n",
       "      <td>0</td>\n",
       "      <td>0</td>\n",
       "      <td>0</td>\n",
       "      <td>0</td>\n",
       "      <td>0</td>\n",
       "      <td>0</td>\n",
       "      <td>0</td>\n",
       "      <td>0</td>\n",
       "      <td>0</td>\n",
       "      <td>0</td>\n",
       "      <td>1</td>\n",
       "      <td>0</td>\n",
       "      <td>0</td>\n",
       "      <td>0</td>\n",
       "      <td>0</td>\n",
       "      <td>0</td>\n",
       "      <td>0</td>\n",
       "      <td>0</td>\n",
       "      <td>0</td>\n",
       "      <td>0</td>\n",
       "      <td>22.0</td>\n",
       "      <td>10.0</td>\n",
       "    </tr>\n",
       "    <tr>\n",
       "      <th>411256</th>\n",
       "      <td>10</td>\n",
       "      <td>24</td>\n",
       "      <td>9.858235</td>\n",
       "      <td>7.509797</td>\n",
       "      <td>1.386294</td>\n",
       "      <td>1.609438</td>\n",
       "      <td>1.386294</td>\n",
       "      <td>1.609438</td>\n",
       "      <td>3</td>\n",
       "      <td>9</td>\n",
       "      <td>13.27</td>\n",
       "      <td>4.0</td>\n",
       "      <td>1.0</td>\n",
       "      <td>809.98</td>\n",
       "      <td>33.053114</td>\n",
       "      <td>2</td>\n",
       "      <td>49.574949</td>\n",
       "      <td>21.46538</td>\n",
       "      <td>5.0</td>\n",
       "      <td>361.444004</td>\n",
       "      <td>NaN</td>\n",
       "      <td>0</td>\n",
       "      <td>0</td>\n",
       "      <td>0</td>\n",
       "      <td>0</td>\n",
       "      <td>0</td>\n",
       "      <td>0</td>\n",
       "      <td>0</td>\n",
       "      <td>0</td>\n",
       "      <td>0</td>\n",
       "      <td>0</td>\n",
       "      <td>0</td>\n",
       "      <td>1</td>\n",
       "      <td>0</td>\n",
       "      <td>0</td>\n",
       "      <td>1</td>\n",
       "      <td>0</td>\n",
       "      <td>0</td>\n",
       "      <td>0</td>\n",
       "      <td>0</td>\n",
       "      <td>0</td>\n",
       "      <td>0</td>\n",
       "      <td>22.0</td>\n",
       "      <td>10.0</td>\n",
       "    </tr>\n",
       "  </tbody>\n",
       "</table>\n",
       "</div>"
      ],
      "text/plain": [
       "        Month  Age  Annual_Income  Monthly_Inhand_Salary  Num_Bank_Accounts  \\\n",
       "411255     10   24       9.858235               7.509797           1.386294   \n",
       "411256     10   24       9.858235               7.509797           1.386294   \n",
       "\n",
       "        Num_Credit_Card  Interest_Rate  Num_of_Loan  Delay_from_due_date  \\\n",
       "411255         1.609438       1.386294     1.609438                    3   \n",
       "411256         1.609438       1.386294     1.609438                    3   \n",
       "\n",
       "        Num_of_Delayed_Payment  Changed_Credit_Limit  Num_Credit_Inquiries  \\\n",
       "411255                       9                 13.27                   4.0   \n",
       "411256                       9                 13.27                   4.0   \n",
       "\n",
       "        Credit_Mix  Outstanding_Debt  Credit_Utilization_Ratio  \\\n",
       "411255         1.0            809.98                 33.053114   \n",
       "411256         1.0            809.98                 33.053114   \n",
       "\n",
       "        Payment_of_Min_Amount  Total_EMI_per_month  Amount_invested_monthly  \\\n",
       "411255                      2            49.574949                 21.46538   \n",
       "411256                      2            49.574949                 21.46538   \n",
       "\n",
       "        Payment_Behaviour  Monthly_Balance  Credit_Score  \\\n",
       "411255                5.0       361.444004           NaN   \n",
       "411256                5.0       361.444004           NaN   \n",
       "\n",
       "        Occupation_Architect  Occupation_Developer  Occupation_Doctor  \\\n",
       "411255                     0                     0                  0   \n",
       "411256                     0                     0                  0   \n",
       "\n",
       "        Occupation_Engineer  Occupation_Entrepreneur  Occupation_Journalist  \\\n",
       "411255                    0                        0                      0   \n",
       "411256                    0                        0                      0   \n",
       "\n",
       "        Occupation_Lawyer  Occupation_Manager  Occupation_Mechanic  \\\n",
       "411255                  0                   0                    0   \n",
       "411256                  0                   0                    0   \n",
       "\n",
       "        Occupation_Media_Manager  Occupation_Musician  Occupation_Scientist  \\\n",
       "411255                         0                    0                     1   \n",
       "411256                         0                    0                     1   \n",
       "\n",
       "        Occupation_Teacher  Occupation_Writer  \\\n",
       "411255                   0                  0   \n",
       "411256                   0                  0   \n",
       "\n",
       "        Type_of_Loan_Credit-Builder Loan  \\\n",
       "411255                                 0   \n",
       "411256                                 1   \n",
       "\n",
       "        Type_of_Loan_Debt Consolidation Loan  Type_of_Loan_Home Equity Loan  \\\n",
       "411255                                     0                              0   \n",
       "411256                                     0                              0   \n",
       "\n",
       "        Type_of_Loan_Mortgage Loan  Type_of_Loan_Payday Loan  \\\n",
       "411255                           0                         0   \n",
       "411256                           0                         0   \n",
       "\n",
       "        Type_of_Loan_Personal Loan  Type_of_Loan_Student Loan  \\\n",
       "411255                           0                          0   \n",
       "411256                           0                          0   \n",
       "\n",
       "        Credit_histoty_year  Credit_histoty_month  \n",
       "411255                 22.0                  10.0  \n",
       "411256                 22.0                  10.0  "
      ]
     },
     "execution_count": 149,
     "metadata": {},
     "output_type": "execute_result"
    }
   ],
   "source": [
    "df_train.head(2)"
   ]
  },
  {
   "cell_type": "code",
   "execution_count": 150,
   "metadata": {},
   "outputs": [
    {
     "data": {
      "text/plain": [
       "(83155, 44)"
      ]
     },
     "execution_count": 150,
     "metadata": {},
     "output_type": "execute_result"
    }
   ],
   "source": [
    "df_train.shape"
   ]
  },
  {
   "cell_type": "code",
   "execution_count": null,
   "metadata": {},
   "outputs": [],
   "source": []
  }
 ],
 "metadata": {
  "kernelspec": {
   "display_name": "my_new_env",
   "language": "python",
   "name": "python3"
  },
  "language_info": {
   "codemirror_mode": {
    "name": "ipython",
    "version": 3
   },
   "file_extension": ".py",
   "mimetype": "text/x-python",
   "name": "python",
   "nbconvert_exporter": "python",
   "pygments_lexer": "ipython3",
   "version": "3.10.12"
  }
 },
 "nbformat": 4,
 "nbformat_minor": 2
}
